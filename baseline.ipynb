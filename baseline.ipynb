{
 "cells": [
  {
   "cell_type": "code",
   "execution_count": 1,
   "metadata": {},
   "outputs": [],
   "source": [
    "import os \n",
    "import pandas as pd"
   ]
  },
  {
   "cell_type": "code",
   "execution_count": 2,
   "metadata": {},
   "outputs": [],
   "source": [
    "DATA_PATH = \"./data/mind/\"\n",
    "TRAIN_DATA_PATH = os.path.join(DATA_PATH, \"train/\")\n",
    "BEHAVIORS_TRAIN_DATA_PATH = os.path.join(TRAIN_DATA_PATH, \"behaviors.tsv\")\n"
   ]
  },
  {
   "cell_type": "code",
   "execution_count": 8,
   "metadata": {},
   "outputs": [],
   "source": [
    "behaviors_df = pd.read_csv(BEHAVIORS_TRAIN_DATA_PATH, sep='\\t', header=None, \n",
    "                           names=['impression_id', 'user_id', 'time', 'history', 'impressions'])"
   ]
  },
  {
   "cell_type": "code",
   "execution_count": 9,
   "metadata": {},
   "outputs": [
    {
     "data": {
      "text/html": [
       "<div>\n",
       "<style scoped>\n",
       "    .dataframe tbody tr th:only-of-type {\n",
       "        vertical-align: middle;\n",
       "    }\n",
       "\n",
       "    .dataframe tbody tr th {\n",
       "        vertical-align: top;\n",
       "    }\n",
       "\n",
       "    .dataframe thead th {\n",
       "        text-align: right;\n",
       "    }\n",
       "</style>\n",
       "<table border=\"1\" class=\"dataframe\">\n",
       "  <thead>\n",
       "    <tr style=\"text-align: right;\">\n",
       "      <th></th>\n",
       "      <th>impression_id</th>\n",
       "      <th>user_id</th>\n",
       "      <th>time</th>\n",
       "      <th>history</th>\n",
       "      <th>impressions</th>\n",
       "    </tr>\n",
       "  </thead>\n",
       "  <tbody>\n",
       "    <tr>\n",
       "      <th>1920291</th>\n",
       "      <td>1920292</td>\n",
       "      <td>U560853</td>\n",
       "      <td>11/12/2019 6:06:50 AM</td>\n",
       "      <td>N1396 N18389 N65259 N43255 N128965 N102357 N27...</td>\n",
       "      <td>N30899-0 N43085-1</td>\n",
       "    </tr>\n",
       "    <tr>\n",
       "      <th>674388</th>\n",
       "      <td>674389</td>\n",
       "      <td>U383486</td>\n",
       "      <td>11/11/2019 7:20:41 AM</td>\n",
       "      <td>NaN</td>\n",
       "      <td>N98178-1 N116694-0</td>\n",
       "    </tr>\n",
       "    <tr>\n",
       "      <th>2079094</th>\n",
       "      <td>2079095</td>\n",
       "      <td>U403828</td>\n",
       "      <td>11/10/2019 7:00:10 AM</td>\n",
       "      <td>N14678 N112239 N71586 N76561 N127175 N61319 N8...</td>\n",
       "      <td>N13322-0 N77991-0 N31855-0 N78699-0 N53399-0 N...</td>\n",
       "    </tr>\n",
       "    <tr>\n",
       "      <th>1488757</th>\n",
       "      <td>1488758</td>\n",
       "      <td>U597084</td>\n",
       "      <td>11/11/2019 1:59:09 PM</td>\n",
       "      <td>N13504 N20986 N27258 N118441 N84960 N105630 N3...</td>\n",
       "      <td>N47026-0 N36266-0 N47257-0 N117887-0 N77011-0 ...</td>\n",
       "    </tr>\n",
       "    <tr>\n",
       "      <th>1331448</th>\n",
       "      <td>1331449</td>\n",
       "      <td>U469570</td>\n",
       "      <td>11/11/2019 7:40:53 AM</td>\n",
       "      <td>N65119 N52911 N82348 N116892 N79529 N92079 N36...</td>\n",
       "      <td>N98178-1 N12258-0 N70948-0 N37658-0 N117260-0 ...</td>\n",
       "    </tr>\n",
       "  </tbody>\n",
       "</table>\n",
       "</div>"
      ],
      "text/plain": [
       "         impression_id  user_id                   time  \\\n",
       "1920291        1920292  U560853  11/12/2019 6:06:50 AM   \n",
       "674388          674389  U383486  11/11/2019 7:20:41 AM   \n",
       "2079094        2079095  U403828  11/10/2019 7:00:10 AM   \n",
       "1488757        1488758  U597084  11/11/2019 1:59:09 PM   \n",
       "1331448        1331449  U469570  11/11/2019 7:40:53 AM   \n",
       "\n",
       "                                                   history  \\\n",
       "1920291  N1396 N18389 N65259 N43255 N128965 N102357 N27...   \n",
       "674388                                                 NaN   \n",
       "2079094  N14678 N112239 N71586 N76561 N127175 N61319 N8...   \n",
       "1488757  N13504 N20986 N27258 N118441 N84960 N105630 N3...   \n",
       "1331448  N65119 N52911 N82348 N116892 N79529 N92079 N36...   \n",
       "\n",
       "                                               impressions  \n",
       "1920291                                  N30899-0 N43085-1  \n",
       "674388                                  N98178-1 N116694-0  \n",
       "2079094  N13322-0 N77991-0 N31855-0 N78699-0 N53399-0 N...  \n",
       "1488757  N47026-0 N36266-0 N47257-0 N117887-0 N77011-0 ...  \n",
       "1331448  N98178-1 N12258-0 N70948-0 N37658-0 N117260-0 ...  "
      ]
     },
     "execution_count": 9,
     "metadata": {},
     "output_type": "execute_result"
    }
   ],
   "source": [
    "behaviors_df.sample(5)"
   ]
  },
  {
   "cell_type": "code",
   "execution_count": 18,
   "metadata": {},
   "outputs": [],
   "source": [
    "behaviors_df.dropna(inplace=True)"
   ]
  },
  {
   "cell_type": "code",
   "execution_count": 20,
   "metadata": {},
   "outputs": [],
   "source": [
    "rows = []\n",
    "cols = []\n",
    "data = []\n",
    "\n",
    "for i, row in behaviors_df.iterrows():\n",
    "    user = row['user_id']\n",
    "    items = row['history'].split()\n",
    "    for item in items:\n",
    "        rows.append(user)\n",
    "        cols.append(item)\n",
    "        data.append(1)"
   ]
  },
  {
   "cell_type": "code",
   "execution_count": 47,
   "metadata": {},
   "outputs": [],
   "source": [
    "from scipy.sparse import csr_matrix\n",
    "# user_item_matrix = csr_matrix((data, (rows, cols)))"
   ]
  },
  {
   "cell_type": "code",
   "execution_count": 43,
   "metadata": {},
   "outputs": [],
   "source": [
    "config_dict = {\n",
    "    \"model\": \"MF\",\n",
    "    \"learning_rate\": 0.001,\n",
    "    \"embedding_size\": 64,\n",
    "    \"reg_weight\": 0.001,\n",
    "    \"loss\": \"BPR\",\n",
    "    \"matrix\": \"SigmoidMatrix\",\n",
    "    \"matrix_loss\": \"FrobeniusLoss\",\n",
    "    \"matrix_weight\": 0.001,\n",
    "    \"optimizer\": \"Adam\",\n",
    "    \"dataset\": \"MIND\",\n",
    "    \"data_path\": BEHAVIORS_TRAIN_DATA_PATH,\n",
    "    \"eval_setting\": \"RO_RS\",\n",
    "    \"early_stop\": 5,\n",
    "    \"device\": \"cuda\"\n",
    "}"
   ]
  },
  {
   "cell_type": "code",
   "execution_count": 44,
   "metadata": {},
   "outputs": [],
   "source": [
    "train_df = behaviors_df.sample(frac=0.9, random_state=123)\n",
    "test_df = behaviors_df.drop(train_df.index)"
   ]
  },
  {
   "cell_type": "code",
   "execution_count": 45,
   "metadata": {},
   "outputs": [],
   "source": [
    "from recbole.config import Config"
   ]
  },
  {
   "cell_type": "code",
   "execution_count": 46,
   "metadata": {},
   "outputs": [
    {
     "ename": "ValueError",
     "evalue": "`model_name` [MF] is not the name of an existing model.",
     "output_type": "error",
     "traceback": [
      "\u001b[1;31m---------------------------------------------------------------------------\u001b[0m",
      "\u001b[1;31mValueError\u001b[0m                                Traceback (most recent call last)",
      "\u001b[1;32mc:\\Users\\Aleksey Ryabykin\\Documents\\coursework_hse\\baseline.ipynb Cell 11\u001b[0m in \u001b[0;36m1\n\u001b[1;32m----> <a href='vscode-notebook-cell:/c%3A/Users/Aleksey%20Ryabykin/Documents/coursework_hse/baseline.ipynb#X21sZmlsZQ%3D%3D?line=0'>1</a>\u001b[0m config \u001b[39m=\u001b[39m Config(config_dict\u001b[39m=\u001b[39;49mconfig_dict)\n",
      "File \u001b[1;32mc:\\Users\\Aleksey Ryabykin\\AppData\\Local\\Programs\\Python\\Python310\\lib\\site-packages\\recbole\\config\\configurator.py:86\u001b[0m, in \u001b[0;36mConfig.__init__\u001b[1;34m(self, model, dataset, config_file_list, config_dict)\u001b[0m\n\u001b[0;32m     83\u001b[0m \u001b[39mself\u001b[39m\u001b[39m.\u001b[39mcmd_config_dict \u001b[39m=\u001b[39m \u001b[39mself\u001b[39m\u001b[39m.\u001b[39m_load_cmd_line()\n\u001b[0;32m     84\u001b[0m \u001b[39mself\u001b[39m\u001b[39m.\u001b[39m_merge_external_config_dict()\n\u001b[1;32m---> 86\u001b[0m \u001b[39mself\u001b[39m\u001b[39m.\u001b[39mmodel, \u001b[39mself\u001b[39m\u001b[39m.\u001b[39mmodel_class, \u001b[39mself\u001b[39m\u001b[39m.\u001b[39mdataset \u001b[39m=\u001b[39m \u001b[39mself\u001b[39;49m\u001b[39m.\u001b[39;49m_get_model_and_dataset(\n\u001b[0;32m     87\u001b[0m     model, dataset\n\u001b[0;32m     88\u001b[0m )\n\u001b[0;32m     89\u001b[0m \u001b[39mself\u001b[39m\u001b[39m.\u001b[39m_load_internal_config_dict(\u001b[39mself\u001b[39m\u001b[39m.\u001b[39mmodel, \u001b[39mself\u001b[39m\u001b[39m.\u001b[39mmodel_class, \u001b[39mself\u001b[39m\u001b[39m.\u001b[39mdataset)\n\u001b[0;32m     90\u001b[0m \u001b[39mself\u001b[39m\u001b[39m.\u001b[39mfinal_config_dict \u001b[39m=\u001b[39m \u001b[39mself\u001b[39m\u001b[39m.\u001b[39m_get_final_config_dict()\n",
      "File \u001b[1;32mc:\\Users\\Aleksey Ryabykin\\AppData\\Local\\Programs\\Python\\Python310\\lib\\site-packages\\recbole\\config\\configurator.py:214\u001b[0m, in \u001b[0;36mConfig._get_model_and_dataset\u001b[1;34m(self, model, dataset)\u001b[0m\n\u001b[0;32m    212\u001b[0m \u001b[39melse\u001b[39;00m:\n\u001b[0;32m    213\u001b[0m     final_model \u001b[39m=\u001b[39m model\n\u001b[1;32m--> 214\u001b[0m     final_model_class \u001b[39m=\u001b[39m get_model(final_model)\n\u001b[0;32m    216\u001b[0m \u001b[39mif\u001b[39;00m dataset \u001b[39mis\u001b[39;00m \u001b[39mNone\u001b[39;00m:\n\u001b[0;32m    217\u001b[0m     \u001b[39mtry\u001b[39;00m:\n",
      "File \u001b[1;32mc:\\Users\\Aleksey Ryabykin\\AppData\\Local\\Programs\\Python\\Python310\\lib\\site-packages\\recbole\\utils\\utils.py:79\u001b[0m, in \u001b[0;36mget_model\u001b[1;34m(model_name)\u001b[0m\n\u001b[0;32m     76\u001b[0m         \u001b[39mbreak\u001b[39;00m\n\u001b[0;32m     78\u001b[0m \u001b[39mif\u001b[39;00m model_module \u001b[39mis\u001b[39;00m \u001b[39mNone\u001b[39;00m:\n\u001b[1;32m---> 79\u001b[0m     \u001b[39mraise\u001b[39;00m \u001b[39mValueError\u001b[39;00m(\n\u001b[0;32m     80\u001b[0m         \u001b[39m\"\u001b[39m\u001b[39m`model_name` [\u001b[39m\u001b[39m{}\u001b[39;00m\u001b[39m] is not the name of an existing model.\u001b[39m\u001b[39m\"\u001b[39m\u001b[39m.\u001b[39mformat(model_name)\n\u001b[0;32m     81\u001b[0m     )\n\u001b[0;32m     82\u001b[0m model_class \u001b[39m=\u001b[39m \u001b[39mgetattr\u001b[39m(model_module, model_name)\n\u001b[0;32m     83\u001b[0m \u001b[39mreturn\u001b[39;00m model_class\n",
      "\u001b[1;31mValueError\u001b[0m: `model_name` [MF] is not the name of an existing model."
     ]
    }
   ],
   "source": [
    "config = Config(config_dict=config_dict)"
   ]
  },
  {
   "cell_type": "code",
   "execution_count": 2,
   "metadata": {},
   "outputs": [
    {
     "data": {
      "text/plain": [
       "False"
      ]
     },
     "execution_count": 2,
     "metadata": {},
     "output_type": "execute_result"
    }
   ],
   "source": [
    "import os \n",
    "os.path.exists( \"/mnt/c/Users/Aleksey Ryabykin/Documents/coursework_hse/data/mind/train\")"
   ]
  },
  {
   "cell_type": "code",
   "execution_count": null,
   "metadata": {},
   "outputs": [],
   "source": []
  }
 ],
 "metadata": {
  "kernelspec": {
   "display_name": "Python 3",
   "language": "python",
   "name": "python3"
  },
  "language_info": {
   "codemirror_mode": {
    "name": "ipython",
    "version": 3
   },
   "file_extension": ".py",
   "mimetype": "text/x-python",
   "name": "python",
   "nbconvert_exporter": "python",
   "pygments_lexer": "ipython3",
   "version": "3.10.8"
  },
  "orig_nbformat": 4
 },
 "nbformat": 4,
 "nbformat_minor": 2
}
