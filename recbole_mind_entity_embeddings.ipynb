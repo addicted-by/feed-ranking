{
  "cells": [
    {
      "cell_type": "code",
      "execution_count": 1,
      "metadata": {
        "id": "oSSdwjKPZzM3"
      },
      "outputs": [],
      "source": [
        "import numpy as np\n",
        "import pandas as pd\n",
        "from matplotlib import pyplot as plt\n",
        "import seaborn as sns"
      ]
    },
    {
      "cell_type": "code",
      "execution_count": 2,
      "metadata": {
        "colab": {
          "base_uri": "https://localhost:8080/"
        },
        "id": "MbVGFMaIu2Qr",
        "outputId": "bd6b938a-f713-49d6-d09e-c45513b8d9e7"
      },
      "outputs": [
        {
          "name": "stdout",
          "output_type": "stream",
          "text": [
            "Looking in indexes: https://pypi.org/simple, https://us-python.pkg.dev/colab-wheels/public/simple/\n",
            "Collecting recbole\n",
            "  Downloading recbole-1.1.1-py3-none-any.whl (2.1 MB)\n",
            "\u001b[2K     \u001b[90m━━━━━━━━━━━━━━━━━━━━━━━━━━━━━━━━━━━━━━━━\u001b[0m \u001b[32m2.1/2.1 MB\u001b[0m \u001b[31m34.8 MB/s\u001b[0m eta \u001b[36m0:00:00\u001b[0m\n",
            "\u001b[?25hCollecting colorlog==4.7.2\n",
            "  Downloading colorlog-4.7.2-py2.py3-none-any.whl (10 kB)\n",
            "Requirement already satisfied: tabulate>=0.8.10 in /usr/local/lib/python3.10/dist-packages (from recbole) (0.8.10)\n",
            "Requirement already satisfied: tensorboard>=2.5.0 in /usr/local/lib/python3.10/dist-packages (from recbole) (2.12.2)\n",
            "Requirement already satisfied: scikit-learn>=0.23.2 in /usr/local/lib/python3.10/dist-packages (from recbole) (1.2.2)\n",
            "Requirement already satisfied: pyyaml>=5.1.0 in /usr/local/lib/python3.10/dist-packages (from recbole) (6.0)\n",
            "Collecting thop>=0.1.1.post2207130030\n",
            "  Downloading thop-0.1.1.post2209072238-py3-none-any.whl (15 kB)\n",
            "Requirement already satisfied: plotly>=4.0.0 in /usr/local/lib/python3.10/dist-packages (from recbole) (5.13.1)\n",
            "Requirement already satisfied: numpy>=1.17.2 in /usr/local/lib/python3.10/dist-packages (from recbole) (1.22.4)\n",
            "Collecting colorama==0.4.4\n",
            "  Downloading colorama-0.4.4-py2.py3-none-any.whl (16 kB)\n",
            "Requirement already satisfied: tqdm>=4.48.2 in /usr/local/lib/python3.10/dist-packages (from recbole) (4.65.0)\n",
            "Requirement already satisfied: scipy>=1.6.0 in /usr/local/lib/python3.10/dist-packages (from recbole) (1.10.1)\n",
            "Requirement already satisfied: pandas>=1.0.5 in /usr/local/lib/python3.10/dist-packages (from recbole) (1.5.3)\n",
            "Requirement already satisfied: torch>=1.10.0 in /usr/local/lib/python3.10/dist-packages (from recbole) (2.0.0+cu118)\n",
            "Requirement already satisfied: python-dateutil>=2.8.1 in /usr/local/lib/python3.10/dist-packages (from pandas>=1.0.5->recbole) (2.8.2)\n",
            "Requirement already satisfied: pytz>=2020.1 in /usr/local/lib/python3.10/dist-packages (from pandas>=1.0.5->recbole) (2022.7.1)\n",
            "Requirement already satisfied: tenacity>=6.2.0 in /usr/local/lib/python3.10/dist-packages (from plotly>=4.0.0->recbole) (8.2.2)\n",
            "Requirement already satisfied: joblib>=1.1.1 in /usr/local/lib/python3.10/dist-packages (from scikit-learn>=0.23.2->recbole) (1.2.0)\n",
            "Requirement already satisfied: threadpoolctl>=2.0.0 in /usr/local/lib/python3.10/dist-packages (from scikit-learn>=0.23.2->recbole) (3.1.0)\n",
            "Requirement already satisfied: wheel>=0.26 in /usr/local/lib/python3.10/dist-packages (from tensorboard>=2.5.0->recbole) (0.40.0)\n",
            "Requirement already satisfied: google-auth-oauthlib<1.1,>=0.5 in /usr/local/lib/python3.10/dist-packages (from tensorboard>=2.5.0->recbole) (1.0.0)\n",
            "Requirement already satisfied: grpcio>=1.48.2 in /usr/local/lib/python3.10/dist-packages (from tensorboard>=2.5.0->recbole) (1.54.0)\n",
            "Requirement already satisfied: markdown>=2.6.8 in /usr/local/lib/python3.10/dist-packages (from tensorboard>=2.5.0->recbole) (3.4.3)\n",
            "Requirement already satisfied: google-auth<3,>=1.6.3 in /usr/local/lib/python3.10/dist-packages (from tensorboard>=2.5.0->recbole) (2.17.3)\n",
            "Requirement already satisfied: tensorboard-plugin-wit>=1.6.0 in /usr/local/lib/python3.10/dist-packages (from tensorboard>=2.5.0->recbole) (1.8.1)\n",
            "Requirement already satisfied: tensorboard-data-server<0.8.0,>=0.7.0 in /usr/local/lib/python3.10/dist-packages (from tensorboard>=2.5.0->recbole) (0.7.0)\n",
            "Requirement already satisfied: protobuf>=3.19.6 in /usr/local/lib/python3.10/dist-packages (from tensorboard>=2.5.0->recbole) (3.20.3)\n",
            "Requirement already satisfied: requests<3,>=2.21.0 in /usr/local/lib/python3.10/dist-packages (from tensorboard>=2.5.0->recbole) (2.27.1)\n",
            "Requirement already satisfied: setuptools>=41.0.0 in /usr/local/lib/python3.10/dist-packages (from tensorboard>=2.5.0->recbole) (67.7.2)\n",
            "Requirement already satisfied: werkzeug>=1.0.1 in /usr/local/lib/python3.10/dist-packages (from tensorboard>=2.5.0->recbole) (2.3.0)\n",
            "Requirement already satisfied: absl-py>=0.4 in /usr/local/lib/python3.10/dist-packages (from tensorboard>=2.5.0->recbole) (1.4.0)\n",
            "Requirement already satisfied: jinja2 in /usr/local/lib/python3.10/dist-packages (from torch>=1.10.0->recbole) (3.1.2)\n",
            "Requirement already satisfied: triton==2.0.0 in /usr/local/lib/python3.10/dist-packages (from torch>=1.10.0->recbole) (2.0.0)\n",
            "Requirement already satisfied: sympy in /usr/local/lib/python3.10/dist-packages (from torch>=1.10.0->recbole) (1.11.1)\n",
            "Requirement already satisfied: filelock in /usr/local/lib/python3.10/dist-packages (from torch>=1.10.0->recbole) (3.12.0)\n",
            "Requirement already satisfied: networkx in /usr/local/lib/python3.10/dist-packages (from torch>=1.10.0->recbole) (3.1)\n",
            "Requirement already satisfied: typing-extensions in /usr/local/lib/python3.10/dist-packages (from torch>=1.10.0->recbole) (4.5.0)\n",
            "Requirement already satisfied: lit in /usr/local/lib/python3.10/dist-packages (from triton==2.0.0->torch>=1.10.0->recbole) (16.0.2)\n",
            "Requirement already satisfied: cmake in /usr/local/lib/python3.10/dist-packages (from triton==2.0.0->torch>=1.10.0->recbole) (3.25.2)\n",
            "Requirement already satisfied: cachetools<6.0,>=2.0.0 in /usr/local/lib/python3.10/dist-packages (from google-auth<3,>=1.6.3->tensorboard>=2.5.0->recbole) (5.3.0)\n",
            "Requirement already satisfied: rsa<5,>=3.1.4 in /usr/local/lib/python3.10/dist-packages (from google-auth<3,>=1.6.3->tensorboard>=2.5.0->recbole) (4.9)\n",
            "Requirement already satisfied: pyasn1-modules>=0.2.1 in /usr/local/lib/python3.10/dist-packages (from google-auth<3,>=1.6.3->tensorboard>=2.5.0->recbole) (0.3.0)\n",
            "Requirement already satisfied: six>=1.9.0 in /usr/local/lib/python3.10/dist-packages (from google-auth<3,>=1.6.3->tensorboard>=2.5.0->recbole) (1.16.0)\n",
            "Requirement already satisfied: requests-oauthlib>=0.7.0 in /usr/local/lib/python3.10/dist-packages (from google-auth-oauthlib<1.1,>=0.5->tensorboard>=2.5.0->recbole) (1.3.1)\n",
            "Requirement already satisfied: charset-normalizer~=2.0.0 in /usr/local/lib/python3.10/dist-packages (from requests<3,>=2.21.0->tensorboard>=2.5.0->recbole) (2.0.12)\n",
            "Requirement already satisfied: urllib3<1.27,>=1.21.1 in /usr/local/lib/python3.10/dist-packages (from requests<3,>=2.21.0->tensorboard>=2.5.0->recbole) (1.26.15)\n",
            "Requirement already satisfied: certifi>=2017.4.17 in /usr/local/lib/python3.10/dist-packages (from requests<3,>=2.21.0->tensorboard>=2.5.0->recbole) (2022.12.7)\n",
            "Requirement already satisfied: idna<4,>=2.5 in /usr/local/lib/python3.10/dist-packages (from requests<3,>=2.21.0->tensorboard>=2.5.0->recbole) (3.4)\n",
            "Requirement already satisfied: MarkupSafe>=2.1.1 in /usr/local/lib/python3.10/dist-packages (from werkzeug>=1.0.1->tensorboard>=2.5.0->recbole) (2.1.2)\n",
            "Requirement already satisfied: mpmath>=0.19 in /usr/local/lib/python3.10/dist-packages (from sympy->torch>=1.10.0->recbole) (1.3.0)\n",
            "Requirement already satisfied: pyasn1<0.6.0,>=0.4.6 in /usr/local/lib/python3.10/dist-packages (from pyasn1-modules>=0.2.1->google-auth<3,>=1.6.3->tensorboard>=2.5.0->recbole) (0.5.0)\n",
            "Requirement already satisfied: oauthlib>=3.0.0 in /usr/local/lib/python3.10/dist-packages (from requests-oauthlib>=0.7.0->google-auth-oauthlib<1.1,>=0.5->tensorboard>=2.5.0->recbole) (3.2.2)\n",
            "Installing collected packages: colorlog, colorama, thop, recbole\n",
            "Successfully installed colorama-0.4.4 colorlog-4.7.2 recbole-1.1.1 thop-0.1.1.post2209072238\n"
          ]
        }
      ],
      "source": [
        "!pip install recbole"
      ]
    },
    {
      "cell_type": "code",
      "execution_count": 4,
      "metadata": {
        "id": "jDygCglANy5q"
      },
      "outputs": [],
      "source": [
        "!cp '/content/drive/MyDrive/feed ranking/MINDlarge_train.zip' .\n",
        "!cp '/content/drive/MyDrive/feed ranking/MINDlarge_dev.zip' ."
      ]
    },
    {
      "cell_type": "code",
      "execution_count": 5,
      "metadata": {
        "colab": {
          "base_uri": "https://localhost:8080/"
        },
        "id": "tilyLjS_ZgnC",
        "outputId": "dd7e3f12-1ad6-4797-8dc7-bb2d5f66d3be"
      },
      "outputs": [
        {
          "name": "stdout",
          "output_type": "stream",
          "text": [
            "Archive:  MINDlarge_dev.zip\n",
            " extracting: ./mind_dev/__placeholder__  \n",
            "  inflating: ./mind_dev/behaviors.tsv  \n",
            "  inflating: ./mind_dev/entity_embedding.vec  \n",
            "  inflating: ./mind_dev/news.tsv     \n",
            "  inflating: ./mind_dev/relation_embedding.vec  \n",
            "Archive:  MINDlarge_train.zip\n",
            " extracting: ./mind_train/__placeholder__  \n",
            "  inflating: ./mind_train/behaviors.tsv  \n",
            "  inflating: ./mind_train/entity_embedding.vec  \n",
            "  inflating: ./mind_train/news.tsv   \n",
            "  inflating: ./mind_train/relation_embedding.vec  \n"
          ]
        }
      ],
      "source": [
        "!unzip MINDlarge_dev.zip -d ./mind_dev\n",
        "!unzip MINDlarge_train.zip -d ./mind_train"
      ]
    },
    {
      "cell_type": "code",
      "execution_count": 7,
      "metadata": {
        "colab": {
          "base_uri": "https://localhost:8080/",
          "height": 500
        },
        "id": "Zg13GI0FJ_xb",
        "outputId": "1090f09c-37c8-424e-87e6-777bd95013ef"
      },
      "outputs": [
        {
          "data": {
            "text/html": [
              "\n",
              "  <div id=\"df-964baf78-f2f1-467e-8a0b-174b2e64c383\">\n",
              "    <div class=\"colab-df-container\">\n",
              "      <div>\n",
              "<style scoped>\n",
              "    .dataframe tbody tr th:only-of-type {\n",
              "        vertical-align: middle;\n",
              "    }\n",
              "\n",
              "    .dataframe tbody tr th {\n",
              "        vertical-align: top;\n",
              "    }\n",
              "\n",
              "    .dataframe thead th {\n",
              "        text-align: right;\n",
              "    }\n",
              "</style>\n",
              "<table border=\"1\" class=\"dataframe\">\n",
              "  <thead>\n",
              "    <tr style=\"text-align: right;\">\n",
              "      <th></th>\n",
              "      <th>Q34433</th>\n",
              "      <th>0.017808</th>\n",
              "      <th>-0.073256</th>\n",
              "      <th>0.102521</th>\n",
              "      <th>-0.059926</th>\n",
              "      <th>-0.060665</th>\n",
              "      <th>0.027027</th>\n",
              "      <th>-0.091728</th>\n",
              "      <th>-0.003057</th>\n",
              "      <th>-0.170798</th>\n",
              "      <th>...</th>\n",
              "      <th>0.013433</th>\n",
              "      <th>0.045894</th>\n",
              "      <th>-0.071253</th>\n",
              "      <th>0.086445</th>\n",
              "      <th>-0.120466</th>\n",
              "      <th>0.059235</th>\n",
              "      <th>-0.071865</th>\n",
              "      <th>0.058854</th>\n",
              "      <th>0.024765</th>\n",
              "      <th>Unnamed: 101</th>\n",
              "    </tr>\n",
              "  </thead>\n",
              "  <tbody>\n",
              "    <tr>\n",
              "      <th>0</th>\n",
              "      <td>Q41</td>\n",
              "      <td>-0.063388</td>\n",
              "      <td>-0.181451</td>\n",
              "      <td>0.057501</td>\n",
              "      <td>-0.091254</td>\n",
              "      <td>-0.076217</td>\n",
              "      <td>-0.052525</td>\n",
              "      <td>0.050500</td>\n",
              "      <td>-0.224871</td>\n",
              "      <td>-0.018145</td>\n",
              "      <td>...</td>\n",
              "      <td>0.001861</td>\n",
              "      <td>0.124535</td>\n",
              "      <td>-0.151043</td>\n",
              "      <td>-0.263698</td>\n",
              "      <td>-0.103607</td>\n",
              "      <td>0.020007</td>\n",
              "      <td>-0.101157</td>\n",
              "      <td>-0.091567</td>\n",
              "      <td>0.035234</td>\n",
              "      <td>NaN</td>\n",
              "    </tr>\n",
              "    <tr>\n",
              "      <th>1</th>\n",
              "      <td>Q56037</td>\n",
              "      <td>0.021550</td>\n",
              "      <td>-0.044888</td>\n",
              "      <td>-0.027872</td>\n",
              "      <td>-0.128843</td>\n",
              "      <td>0.066651</td>\n",
              "      <td>-0.072159</td>\n",
              "      <td>0.019879</td>\n",
              "      <td>-0.183956</td>\n",
              "      <td>0.080640</td>\n",
              "      <td>...</td>\n",
              "      <td>0.091477</td>\n",
              "      <td>0.091388</td>\n",
              "      <td>-0.027993</td>\n",
              "      <td>-0.112258</td>\n",
              "      <td>-0.231887</td>\n",
              "      <td>0.095612</td>\n",
              "      <td>-0.008997</td>\n",
              "      <td>-0.157394</td>\n",
              "      <td>0.088364</td>\n",
              "      <td>NaN</td>\n",
              "    </tr>\n",
              "    <tr>\n",
              "      <th>2</th>\n",
              "      <td>Q1860</td>\n",
              "      <td>0.060958</td>\n",
              "      <td>0.069934</td>\n",
              "      <td>0.015832</td>\n",
              "      <td>0.079471</td>\n",
              "      <td>-0.023362</td>\n",
              "      <td>-0.125007</td>\n",
              "      <td>-0.043618</td>\n",
              "      <td>0.134063</td>\n",
              "      <td>-0.121691</td>\n",
              "      <td>...</td>\n",
              "      <td>-0.014287</td>\n",
              "      <td>0.013578</td>\n",
              "      <td>0.099977</td>\n",
              "      <td>0.012199</td>\n",
              "      <td>-0.141138</td>\n",
              "      <td>0.056129</td>\n",
              "      <td>-0.133727</td>\n",
              "      <td>0.025795</td>\n",
              "      <td>0.051448</td>\n",
              "      <td>NaN</td>\n",
              "    </tr>\n",
              "    <tr>\n",
              "      <th>3</th>\n",
              "      <td>Q7737</td>\n",
              "      <td>-0.021237</td>\n",
              "      <td>0.176011</td>\n",
              "      <td>-0.078886</td>\n",
              "      <td>0.041470</td>\n",
              "      <td>0.136488</td>\n",
              "      <td>-0.063177</td>\n",
              "      <td>-0.013134</td>\n",
              "      <td>-0.048977</td>\n",
              "      <td>-0.072779</td>\n",
              "      <td>...</td>\n",
              "      <td>-0.162670</td>\n",
              "      <td>-0.101399</td>\n",
              "      <td>0.039757</td>\n",
              "      <td>0.123693</td>\n",
              "      <td>-0.129503</td>\n",
              "      <td>0.153088</td>\n",
              "      <td>-0.014275</td>\n",
              "      <td>-0.113625</td>\n",
              "      <td>-0.097839</td>\n",
              "      <td>NaN</td>\n",
              "    </tr>\n",
              "    <tr>\n",
              "      <th>4</th>\n",
              "      <td>Q39631</td>\n",
              "      <td>-0.093106</td>\n",
              "      <td>-0.052002</td>\n",
              "      <td>0.020556</td>\n",
              "      <td>-0.020801</td>\n",
              "      <td>0.043180</td>\n",
              "      <td>-0.072321</td>\n",
              "      <td>0.000910</td>\n",
              "      <td>0.028156</td>\n",
              "      <td>0.176303</td>\n",
              "      <td>...</td>\n",
              "      <td>-0.086840</td>\n",
              "      <td>-0.078992</td>\n",
              "      <td>-0.062712</td>\n",
              "      <td>0.051117</td>\n",
              "      <td>-0.184307</td>\n",
              "      <td>0.127637</td>\n",
              "      <td>-0.144866</td>\n",
              "      <td>0.044690</td>\n",
              "      <td>0.013498</td>\n",
              "      <td>NaN</td>\n",
              "    </tr>\n",
              "    <tr>\n",
              "      <th>...</th>\n",
              "      <td>...</td>\n",
              "      <td>...</td>\n",
              "      <td>...</td>\n",
              "      <td>...</td>\n",
              "      <td>...</td>\n",
              "      <td>...</td>\n",
              "      <td>...</td>\n",
              "      <td>...</td>\n",
              "      <td>...</td>\n",
              "      <td>...</td>\n",
              "      <td>...</td>\n",
              "      <td>...</td>\n",
              "      <td>...</td>\n",
              "      <td>...</td>\n",
              "      <td>...</td>\n",
              "      <td>...</td>\n",
              "      <td>...</td>\n",
              "      <td>...</td>\n",
              "      <td>...</td>\n",
              "      <td>...</td>\n",
              "      <td>...</td>\n",
              "    </tr>\n",
              "    <tr>\n",
              "      <th>42001</th>\n",
              "      <td>Q54860790</td>\n",
              "      <td>0.034682</td>\n",
              "      <td>-0.009413</td>\n",
              "      <td>-0.024317</td>\n",
              "      <td>0.073895</td>\n",
              "      <td>0.028052</td>\n",
              "      <td>0.028039</td>\n",
              "      <td>0.039260</td>\n",
              "      <td>0.017398</td>\n",
              "      <td>0.017743</td>\n",
              "      <td>...</td>\n",
              "      <td>0.034473</td>\n",
              "      <td>0.035736</td>\n",
              "      <td>0.008329</td>\n",
              "      <td>-0.049981</td>\n",
              "      <td>-0.025212</td>\n",
              "      <td>-0.018404</td>\n",
              "      <td>0.004110</td>\n",
              "      <td>0.013771</td>\n",
              "      <td>-0.008027</td>\n",
              "      <td>NaN</td>\n",
              "    </tr>\n",
              "    <tr>\n",
              "      <th>42002</th>\n",
              "      <td>Q54861457</td>\n",
              "      <td>-0.074425</td>\n",
              "      <td>-0.042263</td>\n",
              "      <td>-0.009502</td>\n",
              "      <td>0.033632</td>\n",
              "      <td>-0.092861</td>\n",
              "      <td>-0.067328</td>\n",
              "      <td>-0.009075</td>\n",
              "      <td>0.048518</td>\n",
              "      <td>-0.049856</td>\n",
              "      <td>...</td>\n",
              "      <td>0.077567</td>\n",
              "      <td>0.055743</td>\n",
              "      <td>-0.035487</td>\n",
              "      <td>0.041439</td>\n",
              "      <td>-0.016274</td>\n",
              "      <td>0.031114</td>\n",
              "      <td>-0.001480</td>\n",
              "      <td>-0.057676</td>\n",
              "      <td>-0.018141</td>\n",
              "      <td>NaN</td>\n",
              "    </tr>\n",
              "    <tr>\n",
              "      <th>42003</th>\n",
              "      <td>Q54862508</td>\n",
              "      <td>-0.052323</td>\n",
              "      <td>-0.078029</td>\n",
              "      <td>-0.060925</td>\n",
              "      <td>-0.052536</td>\n",
              "      <td>0.006802</td>\n",
              "      <td>-0.070488</td>\n",
              "      <td>-0.081736</td>\n",
              "      <td>0.026385</td>\n",
              "      <td>-0.037127</td>\n",
              "      <td>...</td>\n",
              "      <td>0.045298</td>\n",
              "      <td>0.009842</td>\n",
              "      <td>-0.019821</td>\n",
              "      <td>-0.033952</td>\n",
              "      <td>-0.047436</td>\n",
              "      <td>0.062752</td>\n",
              "      <td>0.043236</td>\n",
              "      <td>0.032251</td>\n",
              "      <td>-0.001261</td>\n",
              "      <td>NaN</td>\n",
              "    </tr>\n",
              "    <tr>\n",
              "      <th>42004</th>\n",
              "      <td>Q54866839</td>\n",
              "      <td>0.015159</td>\n",
              "      <td>0.021187</td>\n",
              "      <td>0.059618</td>\n",
              "      <td>-0.007465</td>\n",
              "      <td>-0.038469</td>\n",
              "      <td>0.047728</td>\n",
              "      <td>-0.049030</td>\n",
              "      <td>0.070997</td>\n",
              "      <td>-0.063303</td>\n",
              "      <td>...</td>\n",
              "      <td>0.013430</td>\n",
              "      <td>-0.028223</td>\n",
              "      <td>-0.021695</td>\n",
              "      <td>0.025361</td>\n",
              "      <td>-0.003214</td>\n",
              "      <td>0.020141</td>\n",
              "      <td>-0.028943</td>\n",
              "      <td>-0.046590</td>\n",
              "      <td>-0.027286</td>\n",
              "      <td>NaN</td>\n",
              "    </tr>\n",
              "    <tr>\n",
              "      <th>42005</th>\n",
              "      <td>Q42301562</td>\n",
              "      <td>-0.005190</td>\n",
              "      <td>-0.047871</td>\n",
              "      <td>0.009753</td>\n",
              "      <td>-0.021500</td>\n",
              "      <td>-0.000049</td>\n",
              "      <td>-0.010786</td>\n",
              "      <td>0.031302</td>\n",
              "      <td>0.022225</td>\n",
              "      <td>-0.022653</td>\n",
              "      <td>...</td>\n",
              "      <td>-0.014884</td>\n",
              "      <td>0.047493</td>\n",
              "      <td>0.060764</td>\n",
              "      <td>0.013757</td>\n",
              "      <td>0.026994</td>\n",
              "      <td>0.016827</td>\n",
              "      <td>0.024246</td>\n",
              "      <td>-0.040823</td>\n",
              "      <td>-0.008903</td>\n",
              "      <td>NaN</td>\n",
              "    </tr>\n",
              "  </tbody>\n",
              "</table>\n",
              "<p>42006 rows × 102 columns</p>\n",
              "</div>\n",
              "      <button class=\"colab-df-convert\" onclick=\"convertToInteractive('df-964baf78-f2f1-467e-8a0b-174b2e64c383')\"\n",
              "              title=\"Convert this dataframe to an interactive table.\"\n",
              "              style=\"display:none;\">\n",
              "        \n",
              "  <svg xmlns=\"http://www.w3.org/2000/svg\" height=\"24px\"viewBox=\"0 0 24 24\"\n",
              "       width=\"24px\">\n",
              "    <path d=\"M0 0h24v24H0V0z\" fill=\"none\"/>\n",
              "    <path d=\"M18.56 5.44l.94 2.06.94-2.06 2.06-.94-2.06-.94-.94-2.06-.94 2.06-2.06.94zm-11 1L8.5 8.5l.94-2.06 2.06-.94-2.06-.94L8.5 2.5l-.94 2.06-2.06.94zm10 10l.94 2.06.94-2.06 2.06-.94-2.06-.94-.94-2.06-.94 2.06-2.06.94z\"/><path d=\"M17.41 7.96l-1.37-1.37c-.4-.4-.92-.59-1.43-.59-.52 0-1.04.2-1.43.59L10.3 9.45l-7.72 7.72c-.78.78-.78 2.05 0 2.83L4 21.41c.39.39.9.59 1.41.59.51 0 1.02-.2 1.41-.59l7.78-7.78 2.81-2.81c.8-.78.8-2.07 0-2.86zM5.41 20L4 18.59l7.72-7.72 1.47 1.35L5.41 20z\"/>\n",
              "  </svg>\n",
              "      </button>\n",
              "      \n",
              "  <style>\n",
              "    .colab-df-container {\n",
              "      display:flex;\n",
              "      flex-wrap:wrap;\n",
              "      gap: 12px;\n",
              "    }\n",
              "\n",
              "    .colab-df-convert {\n",
              "      background-color: #E8F0FE;\n",
              "      border: none;\n",
              "      border-radius: 50%;\n",
              "      cursor: pointer;\n",
              "      display: none;\n",
              "      fill: #1967D2;\n",
              "      height: 32px;\n",
              "      padding: 0 0 0 0;\n",
              "      width: 32px;\n",
              "    }\n",
              "\n",
              "    .colab-df-convert:hover {\n",
              "      background-color: #E2EBFA;\n",
              "      box-shadow: 0px 1px 2px rgba(60, 64, 67, 0.3), 0px 1px 3px 1px rgba(60, 64, 67, 0.15);\n",
              "      fill: #174EA6;\n",
              "    }\n",
              "\n",
              "    [theme=dark] .colab-df-convert {\n",
              "      background-color: #3B4455;\n",
              "      fill: #D2E3FC;\n",
              "    }\n",
              "\n",
              "    [theme=dark] .colab-df-convert:hover {\n",
              "      background-color: #434B5C;\n",
              "      box-shadow: 0px 1px 3px 1px rgba(0, 0, 0, 0.15);\n",
              "      filter: drop-shadow(0px 1px 2px rgba(0, 0, 0, 0.3));\n",
              "      fill: #FFFFFF;\n",
              "    }\n",
              "  </style>\n",
              "\n",
              "      <script>\n",
              "        const buttonEl =\n",
              "          document.querySelector('#df-964baf78-f2f1-467e-8a0b-174b2e64c383 button.colab-df-convert');\n",
              "        buttonEl.style.display =\n",
              "          google.colab.kernel.accessAllowed ? 'block' : 'none';\n",
              "\n",
              "        async function convertToInteractive(key) {\n",
              "          const element = document.querySelector('#df-964baf78-f2f1-467e-8a0b-174b2e64c383');\n",
              "          const dataTable =\n",
              "            await google.colab.kernel.invokeFunction('convertToInteractive',\n",
              "                                                     [key], {});\n",
              "          if (!dataTable) return;\n",
              "\n",
              "          const docLinkHtml = 'Like what you see? Visit the ' +\n",
              "            '<a target=\"_blank\" href=https://colab.research.google.com/notebooks/data_table.ipynb>data table notebook</a>'\n",
              "            + ' to learn more about interactive tables.';\n",
              "          element.innerHTML = '';\n",
              "          dataTable['output_type'] = 'display_data';\n",
              "          await google.colab.output.renderOutput(dataTable, element);\n",
              "          const docLink = document.createElement('div');\n",
              "          docLink.innerHTML = docLinkHtml;\n",
              "          element.appendChild(docLink);\n",
              "        }\n",
              "      </script>\n",
              "    </div>\n",
              "  </div>\n",
              "  "
            ],
            "text/plain": [
              "          Q34433  0.017808  -0.073256  0.102521  -0.059926  -0.060665  \\\n",
              "0            Q41 -0.063388  -0.181451  0.057501  -0.091254  -0.076217   \n",
              "1         Q56037  0.021550  -0.044888 -0.027872  -0.128843   0.066651   \n",
              "2          Q1860  0.060958   0.069934  0.015832   0.079471  -0.023362   \n",
              "3          Q7737 -0.021237   0.176011 -0.078886   0.041470   0.136488   \n",
              "4         Q39631 -0.093106  -0.052002  0.020556  -0.020801   0.043180   \n",
              "...          ...       ...        ...       ...        ...        ...   \n",
              "42001  Q54860790  0.034682  -0.009413 -0.024317   0.073895   0.028052   \n",
              "42002  Q54861457 -0.074425  -0.042263 -0.009502   0.033632  -0.092861   \n",
              "42003  Q54862508 -0.052323  -0.078029 -0.060925  -0.052536   0.006802   \n",
              "42004  Q54866839  0.015159   0.021187  0.059618  -0.007465  -0.038469   \n",
              "42005  Q42301562 -0.005190  -0.047871  0.009753  -0.021500  -0.000049   \n",
              "\n",
              "       0.027027  -0.091728  -0.003057  -0.170798  ...  0.013433  0.045894  \\\n",
              "0     -0.052525   0.050500  -0.224871  -0.018145  ...  0.001861  0.124535   \n",
              "1     -0.072159   0.019879  -0.183956   0.080640  ...  0.091477  0.091388   \n",
              "2     -0.125007  -0.043618   0.134063  -0.121691  ... -0.014287  0.013578   \n",
              "3     -0.063177  -0.013134  -0.048977  -0.072779  ... -0.162670 -0.101399   \n",
              "4     -0.072321   0.000910   0.028156   0.176303  ... -0.086840 -0.078992   \n",
              "...         ...        ...        ...        ...  ...       ...       ...   \n",
              "42001  0.028039   0.039260   0.017398   0.017743  ...  0.034473  0.035736   \n",
              "42002 -0.067328  -0.009075   0.048518  -0.049856  ...  0.077567  0.055743   \n",
              "42003 -0.070488  -0.081736   0.026385  -0.037127  ...  0.045298  0.009842   \n",
              "42004  0.047728  -0.049030   0.070997  -0.063303  ...  0.013430 -0.028223   \n",
              "42005 -0.010786   0.031302   0.022225  -0.022653  ... -0.014884  0.047493   \n",
              "\n",
              "       -0.071253  0.086445  -0.120466  0.059235  -0.071865  0.058854  \\\n",
              "0      -0.151043 -0.263698  -0.103607  0.020007  -0.101157 -0.091567   \n",
              "1      -0.027993 -0.112258  -0.231887  0.095612  -0.008997 -0.157394   \n",
              "2       0.099977  0.012199  -0.141138  0.056129  -0.133727  0.025795   \n",
              "3       0.039757  0.123693  -0.129503  0.153088  -0.014275 -0.113625   \n",
              "4      -0.062712  0.051117  -0.184307  0.127637  -0.144866  0.044690   \n",
              "...          ...       ...        ...       ...        ...       ...   \n",
              "42001   0.008329 -0.049981  -0.025212 -0.018404   0.004110  0.013771   \n",
              "42002  -0.035487  0.041439  -0.016274  0.031114  -0.001480 -0.057676   \n",
              "42003  -0.019821 -0.033952  -0.047436  0.062752   0.043236  0.032251   \n",
              "42004  -0.021695  0.025361  -0.003214  0.020141  -0.028943 -0.046590   \n",
              "42005   0.060764  0.013757   0.026994  0.016827   0.024246 -0.040823   \n",
              "\n",
              "       0.024765  Unnamed: 101  \n",
              "0      0.035234           NaN  \n",
              "1      0.088364           NaN  \n",
              "2      0.051448           NaN  \n",
              "3     -0.097839           NaN  \n",
              "4      0.013498           NaN  \n",
              "...         ...           ...  \n",
              "42001 -0.008027           NaN  \n",
              "42002 -0.018141           NaN  \n",
              "42003 -0.001261           NaN  \n",
              "42004 -0.027286           NaN  \n",
              "42005 -0.008903           NaN  \n",
              "\n",
              "[42006 rows x 102 columns]"
            ]
          },
          "execution_count": 7,
          "metadata": {},
          "output_type": "execute_result"
        }
      ],
      "source": [
        "pd.read_csv('./mind_train/entity_embedding.vec', sep='\\t')"
      ]
    },
    {
      "cell_type": "code",
      "execution_count": 9,
      "metadata": {
        "colab": {
          "base_uri": "https://localhost:8080/"
        },
        "id": "jdRsY02OK4n4",
        "outputId": "cd8200c7-7a0a-4720-cdcc-e51316962a97"
      },
      "outputs": [
        {
          "name": "stdout",
          "output_type": "stream",
          "text": [
            "Q34433\t0.017808\t-0.073256\t0.102521\t-0.059926\t-0.060665\t0.027027\t-0.091728\t-0.003057\t-0.170798\t0.111819\t0.006821\t-0.049873\t-0.050532\t-0.003127\t-0.074472\t-0.115891\t-0.067093\t-0.095272\t0.019178\t-0.083725\t-0.060890\t0.017744\t0.049417\t-0.026014\t-0.048549\t0.017528\t0.044163\t0.022111\t-0.081519\t0.046278\t-0.183939\t-0.063143\t-0.014518\t-0.080644\t-0.099994\t0.085905\t-0.083003\t-0.092844\t-0.216481\t0.125441\t0.179819\t0.036735\t-0.085375\t0.021276\t-0.154971\t0.039009\t0.016059\t0.067725\t-0.148213\t0.158773\t-0.028527\t0.125790\t0.006361\t0.067541\t0.077552\t0.060792\t-0.044511\t-0.005862\t-0.068080\t-0.063204\t-0.094127\t0.115441\t-0.016472\t0.106616\t0.047839\t-0.151805\t-0.111083\t-0.142330\t-0.120680\t-0.050393\t-0.073787\t0.017424\t-0.081620\t0.062599\t-0.022102\t-0.102688\t-0.128149\t-0.075895\t0.095134\t0.000984\t0.010143\t-0.068552\t-0.026573\t0.019735\t-0.000981\t-0.126635\t0.008300\t0.170557\t0.002250\t-0.157175\t-0.077962\t0.013433\t0.045894\t-0.071253\t0.086445\t-0.120466\t0.059235\t-0.071865\t0.058854\t0.024765\t\n",
            "Q41\t-0.063388\t-0.181451\t0.057501\t-0.091254\t-0.076217\t-0.052525\t0.050500\t-0.224871\t-0.018145\t0.030722\t0.064276\t0.073063\t0.039489\t0.159404\t-0.128784\t0.016325\t0.026797\t0.137090\t0.001849\t-0.059103\t0.012091\t0.045418\t0.000591\t0.211337\t-0.034093\t-0.074582\t0.014004\t-0.099355\t0.170144\t0.109376\t-0.014797\t0.071172\t0.080375\t0.045563\t-0.046462\t0.070108\t0.015413\t-0.020874\t-0.170324\t-0.001130\t0.059810\t0.054342\t0.027358\t-0.028995\t-0.224508\t0.066281\t-0.200006\t0.018186\t0.082396\t0.167178\t-0.136239\t0.055134\t-0.080195\t-0.001460\t0.031078\t-0.017084\t-0.091176\t-0.036916\t0.124642\t-0.098185\t-0.054836\t0.152483\t-0.053712\t0.092816\t-0.112044\t-0.072247\t-0.114896\t-0.036541\t-0.186339\t-0.160610\t0.037342\t-0.133474\t0.110080\t0.070678\t-0.005586\t-0.046667\t-0.072010\t0.086424\t0.026165\t0.030561\t0.077888\t-0.117226\t0.211597\t0.112512\t0.079999\t-0.083398\t-0.121117\t0.071751\t-0.017654\t-0.134979\t-0.051949\t0.001861\t0.124535\t-0.151043\t-0.263698\t-0.103607\t0.020007\t-0.101157\t-0.091567\t0.035234\t\n",
            "Q56037\t0.021550\t-0.044888\t-0.027872\t-0.128843\t0.066651\t-0.072159\t0.019879\t-0.183956\t0.080640\t0.069166\t-0.010029\t-0.042466\t-0.045126\t-0.107250\t-0.138343\t-0.041894\t-0.089376\t0.008494\t-0.035197\t-0.019311\t0.044393\t-0.020168\t-0.119964\t0.128805\t0.069869\t-0.118373\t0.049027\t0.017122\t0.023251\t0.187165\t-0.085446\t0.057633\t0.055451\t0.019157\t-0.157557\t0.182949\t-0.064166\t-0.037344\t0.032589\t0.047193\t-0.187472\t-0.021150\t0.080669\t0.015979\t-0.141172\t0.100069\t-0.019638\t0.046921\t-0.033486\t0.153717\t-0.137174\t-0.003173\t0.148454\t-0.055801\t-0.104945\t-0.059554\t0.078643\t-0.164241\t0.074333\t-0.112893\t-0.086524\t0.139236\t0.006486\t0.081578\t-0.033565\t-0.138943\t-0.012322\t-0.125677\t-0.119072\t-0.050572\t-0.117274\t-0.139788\t0.090027\t0.005516\t0.018046\t-0.132586\t-0.114572\t0.174543\t0.035025\t0.015231\t0.122872\t0.007038\t0.019467\t-0.019752\t0.102638\t-0.091577\t-0.056262\t-0.020518\t-0.021345\t-0.080827\t-0.077181\t0.091477\t0.091388\t-0.027993\t-0.112258\t-0.231887\t0.095612\t-0.008997\t-0.157394\t0.088364\t\n",
            "Q1860\t0.060958\t0.069934\t0.015832\t0.079471\t-0.023362\t-0.125007\t-0.043618\t0.134063\t-0.121691\t0.089166\t0.129177\t0.148145\t0.027196\t-0.060636\t0.068760\t0.071959\t0.150306\t-0.099519\t-0.050912\t0.123948\t-0.190319\t-0.096762\t-0.006279\t-0.086810\t-0.026199\t0.017013\t0.043436\t0.058991\t-0.131758\t0.032473\t-0.137706\t-0.009527\t0.085008\t-0.060163\t0.044856\t0.030020\t-0.042486\t-0.098337\t-0.024715\t0.054446\t-0.056230\t0.161813\t-0.106716\t-0.052167\t0.013636\t0.132148\t0.044919\t0.074031\t-0.085483\t-0.083199\t-0.007451\t0.113236\t0.098931\t-0.079819\t-0.026290\t0.051472\t-0.092252\t0.068104\t0.016942\t0.009106\t-0.062264\t-0.001102\t0.050228\t0.016879\t-0.026729\t-0.051632\t-0.083040\t-0.143880\t0.066569\t-0.014793\t-0.047219\t-0.034390\t0.009343\t-0.002716\t-0.094623\t0.000528\t-0.055017\t-0.013458\t-0.038277\t-0.067144\t0.091749\t0.018254\t-0.080948\t0.062850\t0.117076\t-0.115282\t0.050163\t0.091078\t-0.166571\t0.056171\t-0.070713\t-0.014287\t0.013578\t0.099977\t0.012199\t-0.141138\t0.056129\t-0.133727\t0.025795\t0.051448\t\n",
            "Q7737\t-0.021237\t0.176011\t-0.078886\t0.041470\t0.136488\t-0.063177\t-0.013134\t-0.048977\t-0.072779\t0.062055\t0.158583\t0.181071\t-0.080502\t-0.061921\t-0.094876\t0.065664\t-0.021694\t-0.092245\t-0.031412\t-0.025514\t-0.008613\t-0.123416\t0.009160\t-0.035520\t0.012307\t-0.036812\t-0.051794\t0.033258\t0.034445\t0.091374\t-0.060335\t0.012610\t0.108855\t-0.054100\t-0.054447\t0.041506\t-0.030100\t0.002688\t-0.098384\t0.029283\t-0.178362\t-0.015961\t-0.030937\t-0.090683\t0.052224\t0.164800\t0.111740\t0.067277\t-0.146709\t-0.009588\t-0.075620\t0.169547\t-0.060250\t-0.209755\t-0.076133\t0.074479\t-0.238249\t-0.004997\t0.112676\t0.063407\t-0.089622\t-0.000269\t0.053938\t0.011689\t-0.047132\t0.039709\t-0.083715\t-0.130581\t0.011577\t-0.002665\t-0.115150\t-0.014943\t0.090394\t0.149829\t-0.089784\t-0.013170\t-0.067733\t0.041420\t0.114820\t-0.068595\t0.118786\t-0.048465\t-0.246352\t0.217955\t-0.038980\t-0.028710\t-0.061348\t-0.068703\t-0.001809\t-0.073306\t-0.136706\t-0.162670\t-0.101399\t0.039757\t0.123693\t-0.129503\t0.153088\t-0.014275\t-0.113625\t-0.097839\t\n",
            "Q39631\t-0.093106\t-0.052002\t0.020556\t-0.020801\t0.043180\t-0.072321\t0.000910\t0.028156\t0.176303\t0.035396\t0.072642\t0.000239\t-0.171645\t-0.034816\t-0.106319\t-0.082187\t-0.022322\t-0.121248\t-0.084962\t-0.146949\t-0.015364\t0.240605\t-0.165207\t0.033926\t-0.055561\t0.263102\t-0.018281\t-0.071630\t0.067349\t0.021943\t-0.066642\t0.154693\t0.039514\t-0.115533\t0.157337\t-0.018109\t0.093555\t-0.136766\t-0.106228\t0.020897\t0.030024\t-0.109274\t-0.120507\t0.046796\t0.016082\t0.063581\t0.021472\t-0.177214\t-0.037778\t0.089867\t0.014073\t0.014801\t-0.083897\t-0.009868\t0.065859\t-0.192299\t0.013885\t0.035729\t0.025541\t-0.107844\t-0.215149\t0.090272\t0.131670\t-0.065807\t-0.119546\t0.131104\t-0.087323\t0.118188\t0.166771\t0.014317\t0.117788\t-0.069088\t0.002963\t-0.008588\t0.016064\t0.007934\t-0.115904\t-0.066542\t0.071987\t0.078646\t-0.036828\t-0.134134\t-0.158453\t0.077707\t-0.028514\t-0.155193\t-0.047059\t0.035694\t-0.107131\t-0.000372\t-0.124472\t-0.086840\t-0.078992\t-0.062712\t0.051117\t-0.184307\t0.127637\t-0.144866\t0.044690\t0.013498\t\n",
            "Q30\t-0.115737\t-0.179113\t0.102739\t-0.112469\t-0.101853\t-0.177516\t0.015860\t-0.092626\t0.086708\t0.057850\t0.176422\t0.070668\t0.071584\t0.030533\t-0.179654\t-0.032312\t0.047596\t-0.028751\t-0.031293\t-0.044283\t-0.144224\t-0.089542\t-0.046000\t0.215515\t0.075296\t-0.062332\t-0.002456\t0.035293\t0.109550\t0.052809\t-0.081734\t0.066101\t0.148733\t-0.073003\t0.075038\t-0.099213\t-0.091732\t-0.114809\t-0.063178\t0.076927\t-0.066233\t0.130834\t-0.081943\t-0.017894\t-0.084129\t-0.098396\t-0.076425\t0.145224\t0.047662\t0.061124\t-0.147525\t-0.035232\t0.080132\t0.075315\t0.066264\t0.053224\t-0.008282\t0.038551\t-0.044559\t-0.081108\t-0.078284\t0.116180\t0.082531\t0.101352\t0.054269\t-0.193552\t-0.144609\t-0.109713\t-0.026049\t-0.020009\t-0.121075\t-0.218548\t0.150953\t0.072083\t-0.089645\t-0.004471\t-0.049331\t0.189673\t0.001631\t0.156474\t-0.022464\t-0.082198\t0.069881\t0.183586\t0.175343\t0.005146\t-0.028398\t0.026972\t-0.105001\t-0.019177\t0.005893\t0.080511\t-0.000085\t-0.089968\t-0.083486\t-0.149992\t-0.053031\t-0.136071\t-0.029001\t0.174155\t\n",
            "Q60\t-0.051036\t-0.165637\t0.132802\t-0.089949\t-0.146637\t-0.142246\t0.103853\t-0.129651\t0.096265\t0.017288\t0.096343\t0.120867\t0.139412\t-0.101083\t-0.105518\t-0.044083\t-0.081574\t0.008250\t-0.064942\t-0.139662\t-0.079039\t0.029418\t-0.049928\t0.183146\t-0.028249\t-0.062579\t-0.009422\t-0.038783\t0.099171\t0.117744\t-0.073817\t0.030925\t0.072817\t-0.074308\t-0.058244\t0.053969\t-0.176053\t-0.110216\t-0.087142\t-0.031469\t-0.138299\t0.008009\t-0.020060\t-0.068153\t-0.157539\t-0.101430\t-0.050036\t0.041379\t-0.044153\t0.013049\t-0.299345\t0.061024\t0.156111\t0.050081\t0.044341\t-0.033624\t0.023531\t-0.030379\t0.027055\t-0.134954\t-0.084445\t0.103199\t0.057259\t0.082226\t0.028525\t-0.180036\t-0.129249\t-0.131783\t-0.041311\t-0.038343\t-0.133523\t-0.177585\t0.153199\t0.074922\t-0.123952\t-0.087973\t0.018191\t0.186848\t0.074991\t0.036592\t0.086934\t0.031789\t0.094553\t0.132498\t0.139359\t0.012824\t-0.008956\t-0.023690\t-0.094440\t-0.110280\t-0.002713\t0.078628\t0.003711\t-0.058953\t-0.154067\t-0.117159\t-0.031614\t-0.140451\t0.001288\t0.140350\t\n",
            "Q847017\t-0.043970\t-0.085714\t0.011526\t0.022439\t0.126266\t-0.109745\t-0.091008\t0.047532\t0.008017\t-0.155622\t-0.065583\t0.146534\t-0.047625\t-0.099271\t-0.148704\t-0.062756\t0.060189\t0.023703\t0.120948\t0.106201\t-0.143495\t0.100196\t-0.109937\t-0.044995\t-0.083561\t0.038203\t-0.026588\t-0.067261\t0.046754\t0.177777\t-0.198802\t0.162607\t0.121898\t-0.041286\t-0.028162\t-0.040855\t-0.111119\t-0.064706\t-0.079749\t-0.114083\t0.170870\t0.009984\t0.138565\t0.031602\t-0.074530\t0.138442\t0.080430\t-0.037283\t0.088575\t0.060042\t0.007377\t0.091303\t-0.068794\t-0.035640\t0.024576\t0.034499\t0.039774\t0.044359\t-0.065855\t-0.059481\t0.007192\t0.109886\t-0.135550\t-0.111651\t-0.138731\t0.195456\t-0.072601\t0.152707\t0.019047\t0.022381\t0.033655\t0.053641\t0.012688\t0.127174\t0.019794\t-0.089012\t-0.120889\t-0.023639\t0.154743\t0.128712\t-0.108516\t-0.207675\t-0.135538\t0.089702\t-0.061041\t-0.076037\t-0.080481\t0.057393\t-0.011293\t0.020944\t-0.053441\t-0.026711\t-0.099738\t-0.140732\t0.081349\t0.007721\t0.066447\t-0.023431\t-0.021256\t-0.020776\t\n",
            "Q183\t0.052780\t-0.139523\t-0.027571\t-0.196823\t0.059276\t-0.109428\t-0.000309\t-0.136393\t0.102720\t0.121319\t0.071908\t0.042969\t-0.096429\t-0.063159\t-0.200479\t-0.082658\t-0.063683\t0.023372\t0.091007\t-0.095005\t0.046738\t-0.112548\t0.004605\t0.245637\t-0.045688\t-0.101561\t-0.036867\t0.010652\t0.032673\t0.157005\t-0.083630\t0.021113\t0.024588\t0.080991\t-0.082278\t0.062274\t-0.008487\t-0.102282\t-0.064237\t-0.021552\t-0.084062\t0.068870\t-0.057419\t0.061245\t-0.104631\t0.066542\t0.038321\t0.037396\t-0.086741\t0.185610\t-0.205108\t-0.047976\t0.078273\t-0.018511\t-0.089128\t-0.006270\t0.064777\t-0.088325\t0.109727\t-0.155230\t-0.129526\t0.165279\t0.131007\t0.129060\t-0.106593\t-0.150722\t-0.091085\t-0.112682\t-0.056373\t-0.020770\t0.039170\t-0.129114\t0.065624\t-0.019983\t0.051058\t-0.163581\t-0.094804\t0.189924\t0.100883\t0.071284\t0.067666\t-0.151582\t-0.052056\t-0.016836\t0.138740\t-0.044128\t-0.077458\t0.123951\t-0.059310\t-0.064021\t-0.142608\t0.124094\t0.033303\t0.002088\t-0.156790\t-0.136416\t-0.031329\t-0.057276\t-0.117307\t0.031699\t\n"
          ]
        }
      ],
      "source": [
        "!head ./mind_train/entity_embedding.vec"
      ]
    },
    {
      "cell_type": "code",
      "execution_count": 2,
      "metadata": {},
      "outputs": [],
      "source": [
        "import numpy as np"
      ]
    },
    {
      "cell_type": "code",
      "execution_count": 3,
      "metadata": {
        "id": "olSMosujK4sY"
      },
      "outputs": [],
      "source": [
        "entity_vecs = {}\n",
        "\n",
        "with open('./data/mind_large_train/entity_embedding.vec', 'r') as f:\n",
        "    for line in f.readlines():\n",
        "        tokens = line.strip().split('\\t')\n",
        "        entity_vecs[tokens[0]] = np.asarray(tokens[1:]).astype(np.float64)\n",
        "\n",
        "with open('./data/mind_large_dev/entity_embedding.vec', 'r') as f:\n",
        "    for line in f.readlines():\n",
        "        tokens = line.strip().split('\\t')\n",
        "        entity_vecs[tokens[0]] = np.asarray(tokens[1:]).astype(np.float64)"
      ]
    },
    {
      "cell_type": "code",
      "execution_count": 5,
      "metadata": {
        "id": "rfH_7R6cK4yD"
      },
      "outputs": [],
      "source": [
        "# entity_vecs"
      ]
    },
    {
      "cell_type": "code",
      "execution_count": 12,
      "metadata": {
        "colab": {
          "base_uri": "https://localhost:8080/"
        },
        "id": "-0RNchKbLw92",
        "outputId": "b0afe4cf-b6a1-43f8-f036-189bba75f5a7"
      },
      "outputs": [
        {
          "name": "stdout",
          "output_type": "stream",
          "text": [
            "P31\t-0.073467\t-0.132227\t0.034173\t-0.032769\t0.008289\t-0.107088\t-0.031712\t-0.039581\t0.101882\t-0.106961\t-0.053441\t0.068202\t-0.045584\t-0.140448\t-0.079402\t0.001022\t0.059921\t-0.062510\t0.102848\t0.077947\t-0.063644\t0.050070\t-0.019180\t0.064456\t-0.052222\t0.071078\t-0.036413\t-0.039235\t0.137947\t0.067378\t-0.137468\t0.103482\t0.121755\t-0.006587\t0.063077\t-0.024954\t-0.031300\t-0.056833\t-0.139115\t-0.053570\t0.165815\t-0.022143\t0.006561\t-0.108691\t-0.149139\t0.080943\t0.054542\t-0.034564\t0.082343\t-0.095843\t-0.068758\t0.013850\t-0.025589\t-0.012451\t0.116367\t-0.066981\t-0.006472\t0.136078\t-0.057084\t-0.066427\t-0.035916\t-0.028447\t-0.070395\t-0.052364\t-0.040038\t0.037342\t-0.073347\t0.112529\t0.106537\t0.107426\t0.086297\t0.085833\t0.054393\t0.053187\t0.066242\t0.058507\t-0.047180\t-0.086089\t0.050148\t0.053491\t-0.042370\t-0.110435\t-0.058929\t0.063987\t-0.037393\t-0.057942\t-0.032128\t0.141226\t-0.106979\t0.072183\t-0.045641\t-0.050068\t-0.053686\t-0.045389\t-0.037017\t0.117190\t-0.063597\t-0.056910\t0.058387\t-0.114056\t\n",
            "P21\t-0.078436\t0.108589\t-0.049429\t-0.131355\t0.049300\t-0.094605\t-0.101469\t0.127802\t-0.081245\t0.113759\t-0.171865\t0.049044\t0.141462\t0.117907\t0.040574\t-0.057788\t-0.146715\t-0.085228\t0.020211\t-0.121010\t-0.100422\t-0.081288\t0.031696\t-0.060593\t-0.072303\t0.139442\t-0.133374\t-0.120222\t0.050400\t0.119134\t-0.082276\t0.050498\t-0.108097\t0.045905\t0.118079\t0.069211\t-0.049801\t-0.106901\t0.133158\t-0.065444\t-0.085254\t0.040706\t0.007894\t0.034556\t0.139081\t0.025119\t0.122081\t0.154464\t0.099593\t-0.040400\t0.075233\t0.096659\t0.032061\t-0.154013\t0.085069\t-0.144027\t-0.069370\t0.079479\t0.090121\t-0.154897\t-0.127340\t-0.031645\t-0.093840\t0.123652\t-0.134066\t0.066089\t-0.159245\t0.069276\t0.074938\t-0.129573\t0.076426\t-0.144846\t0.147408\t0.106457\t-0.079138\t0.081598\t-0.132508\t0.102217\t0.117162\t-0.064613\t-0.120491\t-0.075478\t0.013671\t-0.056833\t0.086815\t-0.111679\t0.051020\t0.094203\t-0.092261\t-0.147404\t-0.151203\t0.074341\t-0.030571\t-0.137183\t0.045598\t-0.151155\t-0.066223\t0.057489\t0.130188\t-0.054801\t\n",
            "P106\t-0.052137\t0.052444\t-0.019886\t-0.152309\t0.014144\t-0.180491\t-0.132198\t0.063082\t0.085229\t0.114965\t0.023285\t0.074741\t-0.049949\t-0.082051\t-0.159896\t0.035493\t-0.113929\t-0.111878\t-0.139555\t-0.106166\t-0.011966\t0.154562\t-0.096405\t0.131268\t-0.068482\t0.185240\t-0.072894\t-0.114885\t-0.056082\t0.112026\t0.048216\t0.098032\t-0.098028\t-0.106606\t0.078594\t-0.102013\t-0.001059\t-0.145055\t0.000003\t-0.047816\t0.079029\t-0.078351\t-0.016361\t-0.000218\t-0.038627\t0.057308\t0.036923\t-0.073602\t-0.072402\t0.001785\t-0.002824\t-0.060708\t-0.002136\t-0.017358\t0.059936\t-0.133305\t-0.034796\t-0.075657\t0.147320\t-0.133039\t-0.149887\t0.052375\t0.024344\t0.050036\t-0.146324\t0.075327\t-0.135969\t0.031892\t0.049475\t-0.106037\t0.088477\t-0.185415\t0.105080\t0.107440\t-0.028200\t-0.121917\t-0.165206\t0.026541\t0.125522\t0.080844\t-0.178644\t-0.060746\t-0.078724\t-0.009305\t0.088131\t-0.097797\t-0.155246\t-0.030237\t-0.017188\t0.070897\t-0.088902\t-0.058958\t-0.032021\t-0.147213\t0.082776\t-0.169705\t0.122445\t-0.054737\t0.055321\t0.070961\t\n",
            "P735\t-0.051398\t0.056219\t0.068029\t-0.137717\t-0.030050\t0.061566\t-0.103184\t-0.074124\t-0.118975\t0.122100\t0.090664\t0.050602\t-0.023321\t0.135801\t0.082776\t0.134691\t-0.093377\t-0.100187\t0.060942\t0.058473\t0.065260\t-0.049564\t0.013162\t-0.047667\t-0.054335\t0.123371\t-0.145068\t0.015066\t0.045329\t0.131864\t0.062462\t-0.106206\t-0.117788\t-0.050399\t0.019886\t-0.046332\t0.082650\t0.060583\t0.169631\t0.108123\t-0.030897\t0.046386\t-0.014420\t-0.053038\t0.157436\t-0.021491\t0.087635\t-0.051152\t0.054433\t0.121686\t0.037487\t0.044515\t-0.079680\t-0.114405\t0.029875\t-0.124201\t-0.094803\t0.017489\t0.111024\t-0.108676\t0.011377\t0.143746\t-0.180618\t-0.052341\t-0.118239\t-0.081315\t-0.111308\t0.058716\t-0.111563\t-0.222551\t-0.019004\t-0.102315\t0.269483\t-0.023461\t0.046179\t0.050954\t-0.020268\t-0.085623\t-0.011426\t-0.110763\t-0.158052\t0.104254\t-0.097153\t0.060086\t-0.050420\t-0.121439\t-0.112373\t-0.028001\t0.076174\t-0.132399\t-0.096461\t-0.092234\t0.056870\t0.013640\t0.042696\t0.013683\t-0.021127\t-0.189257\t0.055315\t0.101863\t\n",
            "P108\t0.091231\t0.022526\t0.059349\t-0.141853\t0.035025\t-0.111040\t-0.127337\t0.047645\t-0.172328\t0.090933\t0.022216\t0.079914\t0.043736\t-0.096588\t-0.242773\t-0.039824\t-0.078472\t-0.190807\t-0.075510\t-0.011143\t-0.004291\t-0.109142\t-0.055437\t0.139692\t-0.032522\t0.124695\t-0.054761\t-0.046256\t-0.115983\t0.098595\t-0.087121\t-0.029367\t-0.108338\t-0.021720\t-0.028068\t0.029053\t-0.128703\t-0.103341\t-0.139387\t0.134218\t0.207785\t-0.022484\t0.049616\t0.144433\t-0.102246\t-0.064737\t0.094036\t0.059295\t-0.120209\t0.079042\t0.105340\t0.083430\t-0.007747\t0.033792\t-0.025764\t-0.043842\t0.013634\t-0.119388\t0.001556\t-0.057961\t-0.081745\t0.092388\t-0.053616\t0.095690\t-0.001889\t-0.154143\t-0.177890\t-0.131440\t-0.219218\t-0.111252\t-0.104790\t0.067291\t0.130789\t0.144343\t-0.105937\t-0.070367\t-0.152791\t-0.079241\t0.008933\t0.107746\t0.076368\t-0.071356\t-0.056110\t-0.030554\t-0.087335\t-0.108328\t-0.039597\t0.074101\t0.094331\t-0.088390\t0.026855\t-0.046994\t-0.056248\t-0.146538\t0.121375\t-0.211757\t0.077591\t-0.002200\t-0.053880\t0.140873\t\n",
            "P101\t-0.038450\t0.053671\t-0.063569\t-0.150071\t0.076725\t0.077381\t0.074004\t0.058924\t-0.070409\t0.138669\t0.016776\t0.098949\t-0.121386\t-0.101735\t-0.145386\t0.114508\t-0.135644\t-0.150908\t-0.086748\t0.016879\t-0.066033\t-0.091203\t-0.073095\t0.152311\t-0.067878\t0.143223\t-0.068923\t-0.083542\t0.081431\t0.125569\t-0.121332\t0.087998\t0.039702\t-0.080041\t0.149063\t-0.095954\t-0.037331\t-0.111105\t-0.121092\t-0.050126\t0.073748\t0.040368\t0.021378\t-0.025196\t-0.139372\t0.086121\t0.074355\t0.029257\t-0.022436\t-0.098500\t-0.118194\t-0.050779\t0.000845\t-0.124732\t0.078069\t-0.121473\t-0.111983\t-0.078645\t0.133904\t-0.113484\t-0.110710\t0.100830\t0.013339\t0.086549\t-0.135170\t-0.012711\t-0.184424\t0.147431\t0.107744\t-0.113939\t0.170511\t-0.148978\t0.123587\t0.094974\t-0.116513\t-0.092272\t-0.125306\t-0.015741\t0.050106\t0.063696\t-0.150162\t-0.102782\t0.101328\t0.052759\t0.086079\t-0.063312\t-0.112057\t0.144646\t0.025701\t0.098996\t-0.086532\t-0.112499\t0.093430\t0.062762\t0.094013\t-0.185905\t0.136957\t-0.040049\t-0.049155\t0.077970\t\n",
            "P69\t0.070871\t0.017892\t0.071605\t-0.177944\t0.019506\t0.022656\t-0.145745\t0.043527\t-0.143017\t0.080599\t0.023205\t0.008394\t-0.003546\t-0.091106\t-0.190312\t-0.062092\t-0.043075\t-0.220900\t-0.046273\t-0.036911\t0.002575\t-0.075656\t-0.053835\t0.009398\t-0.028200\t0.152947\t-0.070910\t-0.037095\t-0.134213\t0.110800\t-0.040207\t-0.050094\t-0.071902\t-0.021940\t-0.033516\t0.071785\t-0.092026\t-0.111100\t-0.110646\t0.101400\t0.221573\t-0.072936\t0.019550\t0.116304\t-0.061692\t-0.052998\t0.120249\t0.039449\t-0.129179\t0.125337\t0.049853\t0.074947\t-0.003650\t-0.012691\t-0.032586\t-0.055186\t0.012156\t-0.110493\t-0.005427\t-0.109890\t-0.153042\t0.146040\t-0.040372\t0.202817\t-0.016268\t-0.241364\t-0.190592\t-0.129366\t-0.225908\t-0.100757\t-0.095691\t0.036893\t0.018483\t0.134962\t-0.078153\t-0.051916\t-0.201161\t-0.083492\t0.055444\t0.059844\t0.056015\t-0.028959\t-0.081050\t-0.025824\t-0.055690\t-0.016661\t-0.022006\t0.069855\t0.058614\t-0.104168\t0.010609\t-0.065635\t-0.061919\t-0.104571\t0.171008\t-0.221741\t0.054645\t-0.001462\t-0.016705\t-0.006781\t\n",
            "P27\t-0.001034\t-0.071413\t0.078409\t-0.135587\t-0.023540\t-0.148491\t-0.032054\t-0.104719\t0.037553\t0.131580\t0.068972\t0.038243\t-0.021492\t0.022270\t-0.149116\t0.051431\t-0.052678\t-0.314631\t0.017771\t-0.124690\t-0.054947\t-0.024448\t-0.101791\t0.212046\t0.028584\t-0.061358\t-0.029263\t-0.044227\t0.083212\t0.122351\t-0.067070\t-0.049674\t0.077832\t-0.016649\t0.002230\t0.006867\t-0.048225\t-0.118579\t-0.105043\t0.113636\t0.001790\t0.005330\t-0.002033\t-0.010978\t-0.122867\t-0.013791\t-0.036316\t0.098075\t-0.008298\t0.111850\t-0.171301\t0.068268\t0.013500\t-0.015672\t-0.017321\t0.023129\t-0.035521\t-0.043583\t0.085217\t-0.133688\t-0.177682\t0.121344\t0.024174\t0.094669\t-0.049564\t-0.181461\t-0.161248\t-0.066431\t-0.105370\t-0.116052\t-0.058926\t-0.161723\t0.107090\t0.122637\t-0.058192\t-0.102837\t-0.111260\t0.121936\t0.093649\t0.019587\t-0.016998\t-0.040438\t0.011555\t0.082910\t0.064480\t-0.097547\t-0.078692\t0.108435\t-0.035020\t-0.116789\t-0.096049\t0.005482\t0.003258\t-0.092210\t-0.138745\t-0.211339\t0.049551\t-0.103830\t-0.055104\t0.155658\t\n",
            "P19\t0.000880\t-0.047513\t0.055876\t-0.066818\t-0.040318\t-0.134065\t0.042790\t-0.061842\t0.025320\t0.082933\t0.003401\t0.070724\t0.043486\t-0.009335\t-0.127014\t0.034362\t-0.090569\t-0.057555\t-0.013524\t-0.065492\t-0.049082\t0.081312\t-0.070756\t0.233460\t0.038340\t-0.023851\t-0.009380\t-0.058409\t0.029845\t0.106435\t-0.011845\t-0.065614\t0.009084\t-0.071540\t-0.049669\t0.054509\t-0.071593\t-0.101372\t-0.045106\t0.084416\t-0.054100\t-0.105142\t0.061792\t-0.014693\t-0.090853\t-0.022650\t-0.016288\t0.076650\t-0.003253\t0.102023\t-0.221816\t0.061719\t0.052046\t-0.062654\t-0.048482\t0.007732\t-0.038324\t-0.084377\t0.096411\t-0.165850\t-0.121666\t0.091667\t0.030900\t0.072653\t-0.066837\t-0.146444\t-0.136078\t-0.079430\t-0.071377\t-0.127032\t-0.071946\t-0.148041\t0.087610\t0.112100\t-0.066772\t-0.057500\t-0.071635\t0.092982\t0.059767\t-0.077822\t0.011771\t0.090371\t0.000695\t0.059081\t0.031807\t-0.112810\t-0.057349\t0.036470\t-0.053819\t-0.102074\t-0.111388\t0.029662\t0.026527\t-0.105318\t-0.190160\t-0.215584\t0.076067\t-0.069103\t-0.045963\t0.160296\t\n",
            "P1412\t0.030544\t0.149371\t0.015236\t0.036643\t0.015171\t-0.155142\t-0.137766\t0.043473\t-0.219642\t0.151052\t0.070140\t0.119743\t-0.087779\t-0.085418\t-0.021801\t0.186938\t0.022273\t-0.180202\t-0.151515\t0.021993\t-0.129248\t-0.067886\t-0.063067\t0.021371\t-0.066071\t0.097698\t-0.051007\t-0.002142\t-0.068477\t0.135100\t-0.044051\t0.048502\t0.030675\t-0.108851\t0.156234\t-0.101348\t-0.115710\t-0.061219\t-0.062512\t0.157812\t-0.105375\t0.060130\t-0.003426\t0.038893\t0.143512\t0.024635\t0.142836\t0.039286\t-0.064017\t0.013223\t-0.090620\t0.141211\t-0.004723\t-0.114485\t-0.124080\t-0.051003\t-0.167028\t0.075247\t0.149424\t-0.017866\t-0.152015\t0.076536\t-0.030547\t0.134534\t-0.131169\t-0.154570\t-0.180139\t-0.064282\t0.021040\t-0.021176\t-0.067829\t-0.049304\t0.074953\t0.098672\t-0.107272\t-0.115907\t-0.134876\t-0.096005\t0.052559\t-0.156583\t0.003129\t-0.039603\t-0.176605\t0.125426\t0.031877\t-0.037917\t0.004247\t0.047984\t-0.040324\t0.000251\t-0.186280\t-0.134058\t-0.069841\t0.033493\t0.119225\t-0.085768\t0.152216\t-0.043512\t-0.034587\t-0.028415\t\n"
          ]
        }
      ],
      "source": [
        "!head ./mind_train/relation_embedding.vec"
      ]
    },
    {
      "cell_type": "code",
      "execution_count": 7,
      "metadata": {},
      "outputs": [],
      "source": [
        "import pandas as pd"
      ]
    },
    {
      "cell_type": "code",
      "execution_count": 8,
      "metadata": {
        "colab": {
          "base_uri": "https://localhost:8080/",
          "height": 1000
        },
        "id": "0WOWyFybLxBP",
        "outputId": "de41d65e-ea9e-4c98-9322-bb27fbed8029"
      },
      "outputs": [
        {
          "data": {
            "text/html": [
              "<div>\n",
              "<style scoped>\n",
              "    .dataframe tbody tr th:only-of-type {\n",
              "        vertical-align: middle;\n",
              "    }\n",
              "\n",
              "    .dataframe tbody tr th {\n",
              "        vertical-align: top;\n",
              "    }\n",
              "\n",
              "    .dataframe thead th {\n",
              "        text-align: right;\n",
              "    }\n",
              "</style>\n",
              "<table border=\"1\" class=\"dataframe\">\n",
              "  <thead>\n",
              "    <tr style=\"text-align: right;\">\n",
              "      <th></th>\n",
              "      <th>news_id</th>\n",
              "      <th>category</th>\n",
              "      <th>subcategory</th>\n",
              "      <th>title</th>\n",
              "      <th>abstract</th>\n",
              "      <th>url</th>\n",
              "      <th>title_entities</th>\n",
              "      <th>abstract_entities</th>\n",
              "    </tr>\n",
              "  </thead>\n",
              "  <tbody>\n",
              "    <tr>\n",
              "      <th>0</th>\n",
              "      <td>N88753</td>\n",
              "      <td>lifestyle</td>\n",
              "      <td>lifestyleroyals</td>\n",
              "      <td>The Brands Queen Elizabeth, Prince Charles, an...</td>\n",
              "      <td>Shop the notebooks, jackets, and more that the...</td>\n",
              "      <td>https://assets.msn.com/labs/mind/AAGH0ET.html</td>\n",
              "      <td>[{\"Label\": \"Prince Philip, Duke of Edinburgh\",...</td>\n",
              "      <td>[]</td>\n",
              "    </tr>\n",
              "    <tr>\n",
              "      <th>1</th>\n",
              "      <td>N45436</td>\n",
              "      <td>news</td>\n",
              "      <td>newsscienceandtechnology</td>\n",
              "      <td>Walmart Slashes Prices on Last-Generation iPads</td>\n",
              "      <td>Apple's new iPad releases bring big deals on l...</td>\n",
              "      <td>https://assets.msn.com/labs/mind/AABmf2I.html</td>\n",
              "      <td>[{\"Label\": \"IPad\", \"Type\": \"J\", \"WikidataId\": ...</td>\n",
              "      <td>[{\"Label\": \"IPad\", \"Type\": \"J\", \"WikidataId\": ...</td>\n",
              "    </tr>\n",
              "    <tr>\n",
              "      <th>2</th>\n",
              "      <td>N23144</td>\n",
              "      <td>health</td>\n",
              "      <td>weightloss</td>\n",
              "      <td>50 Worst Habits For Belly Fat</td>\n",
              "      <td>These seemingly harmless habits are holding yo...</td>\n",
              "      <td>https://assets.msn.com/labs/mind/AAB19MK.html</td>\n",
              "      <td>[{\"Label\": \"Adipose tissue\", \"Type\": \"C\", \"Wik...</td>\n",
              "      <td>[{\"Label\": \"Adipose tissue\", \"Type\": \"C\", \"Wik...</td>\n",
              "    </tr>\n",
              "    <tr>\n",
              "      <th>3</th>\n",
              "      <td>N86255</td>\n",
              "      <td>health</td>\n",
              "      <td>medical</td>\n",
              "      <td>Dispose of unwanted prescription drugs during ...</td>\n",
              "      <td>NaN</td>\n",
              "      <td>https://assets.msn.com/labs/mind/AAISxPN.html</td>\n",
              "      <td>[{\"Label\": \"Drug Enforcement Administration\", ...</td>\n",
              "      <td>[]</td>\n",
              "    </tr>\n",
              "    <tr>\n",
              "      <th>4</th>\n",
              "      <td>N93187</td>\n",
              "      <td>news</td>\n",
              "      <td>newsworld</td>\n",
              "      <td>The Cost of Trump's Aid Freeze in the Trenches...</td>\n",
              "      <td>Lt. Ivan Molchanets peeked over a parapet of s...</td>\n",
              "      <td>https://assets.msn.com/labs/mind/AAJgNsz.html</td>\n",
              "      <td>[]</td>\n",
              "      <td>[{\"Label\": \"Ukraine\", \"Type\": \"G\", \"WikidataId...</td>\n",
              "    </tr>\n",
              "    <tr>\n",
              "      <th>...</th>\n",
              "      <td>...</td>\n",
              "      <td>...</td>\n",
              "      <td>...</td>\n",
              "      <td>...</td>\n",
              "      <td>...</td>\n",
              "      <td>...</td>\n",
              "      <td>...</td>\n",
              "      <td>...</td>\n",
              "    </tr>\n",
              "    <tr>\n",
              "      <th>101522</th>\n",
              "      <td>N115249</td>\n",
              "      <td>sports</td>\n",
              "      <td>more_sports</td>\n",
              "      <td>St. Dominic soccer player tries to kick cancer...</td>\n",
              "      <td>Sometimes, what happens on the sidelines can b...</td>\n",
              "      <td>https://assets.msn.com/labs/mind/BBWzQnK.html</td>\n",
              "      <td>[]</td>\n",
              "      <td>[]</td>\n",
              "    </tr>\n",
              "    <tr>\n",
              "      <th>101523</th>\n",
              "      <td>N64337</td>\n",
              "      <td>finance</td>\n",
              "      <td>finance-real-estate</td>\n",
              "      <td>Mansion Monday: Contemporary Des Moines home i...</td>\n",
              "      <td>Among the perks of this unique Des Moines home...</td>\n",
              "      <td>https://assets.msn.com/labs/mind/BBWzQq8.html</td>\n",
              "      <td>[{\"Label\": \"Des Moines, Iowa\", \"Type\": \"G\", \"W...</td>\n",
              "      <td>[{\"Label\": \"Des Moines, Iowa\", \"Type\": \"G\", \"W...</td>\n",
              "    </tr>\n",
              "    <tr>\n",
              "      <th>101524</th>\n",
              "      <td>N100102</td>\n",
              "      <td>sports</td>\n",
              "      <td>soccer_epl</td>\n",
              "      <td>How the Sounders won MLS Cup</td>\n",
              "      <td>Mark, Jeremiah and Casey were so excited they ...</td>\n",
              "      <td>https://assets.msn.com/labs/mind/BBWzQuK.html</td>\n",
              "      <td>[{\"Label\": \"MLS Cup\", \"Type\": \"U\", \"WikidataId...</td>\n",
              "      <td>[]</td>\n",
              "    </tr>\n",
              "    <tr>\n",
              "      <th>101525</th>\n",
              "      <td>N74617</td>\n",
              "      <td>autos</td>\n",
              "      <td>autossports</td>\n",
              "      <td>Best Sports Car Deals for October</td>\n",
              "      <td>NaN</td>\n",
              "      <td>https://assets.msn.com/labs/mind/BBy5rVe.html</td>\n",
              "      <td>[{\"Label\": \"Peugeot RCZ\", \"Type\": \"V\", \"Wikida...</td>\n",
              "      <td>[]</td>\n",
              "    </tr>\n",
              "    <tr>\n",
              "      <th>101526</th>\n",
              "      <td>N56840</td>\n",
              "      <td>sports</td>\n",
              "      <td>more_sports</td>\n",
              "      <td>Shall we dance: Sports stars shake their leg</td>\n",
              "      <td>NaN</td>\n",
              "      <td>https://assets.msn.com/labs/mind/BBzMpnG.html</td>\n",
              "      <td>[]</td>\n",
              "      <td>[]</td>\n",
              "    </tr>\n",
              "  </tbody>\n",
              "</table>\n",
              "<p>101527 rows × 8 columns</p>\n",
              "</div>"
            ],
            "text/plain": [
              "        news_id   category               subcategory  \\\n",
              "0        N88753  lifestyle           lifestyleroyals   \n",
              "1        N45436       news  newsscienceandtechnology   \n",
              "2        N23144     health                weightloss   \n",
              "3        N86255     health                   medical   \n",
              "4        N93187       news                 newsworld   \n",
              "...         ...        ...                       ...   \n",
              "101522  N115249     sports               more_sports   \n",
              "101523   N64337    finance       finance-real-estate   \n",
              "101524  N100102     sports                soccer_epl   \n",
              "101525   N74617      autos               autossports   \n",
              "101526   N56840     sports               more_sports   \n",
              "\n",
              "                                                    title  \\\n",
              "0       The Brands Queen Elizabeth, Prince Charles, an...   \n",
              "1         Walmart Slashes Prices on Last-Generation iPads   \n",
              "2                           50 Worst Habits For Belly Fat   \n",
              "3       Dispose of unwanted prescription drugs during ...   \n",
              "4       The Cost of Trump's Aid Freeze in the Trenches...   \n",
              "...                                                   ...   \n",
              "101522  St. Dominic soccer player tries to kick cancer...   \n",
              "101523  Mansion Monday: Contemporary Des Moines home i...   \n",
              "101524                       How the Sounders won MLS Cup   \n",
              "101525                  Best Sports Car Deals for October   \n",
              "101526       Shall we dance: Sports stars shake their leg   \n",
              "\n",
              "                                                 abstract  \\\n",
              "0       Shop the notebooks, jackets, and more that the...   \n",
              "1       Apple's new iPad releases bring big deals on l...   \n",
              "2       These seemingly harmless habits are holding yo...   \n",
              "3                                                     NaN   \n",
              "4       Lt. Ivan Molchanets peeked over a parapet of s...   \n",
              "...                                                   ...   \n",
              "101522  Sometimes, what happens on the sidelines can b...   \n",
              "101523  Among the perks of this unique Des Moines home...   \n",
              "101524  Mark, Jeremiah and Casey were so excited they ...   \n",
              "101525                                                NaN   \n",
              "101526                                                NaN   \n",
              "\n",
              "                                                  url  \\\n",
              "0       https://assets.msn.com/labs/mind/AAGH0ET.html   \n",
              "1       https://assets.msn.com/labs/mind/AABmf2I.html   \n",
              "2       https://assets.msn.com/labs/mind/AAB19MK.html   \n",
              "3       https://assets.msn.com/labs/mind/AAISxPN.html   \n",
              "4       https://assets.msn.com/labs/mind/AAJgNsz.html   \n",
              "...                                               ...   \n",
              "101522  https://assets.msn.com/labs/mind/BBWzQnK.html   \n",
              "101523  https://assets.msn.com/labs/mind/BBWzQq8.html   \n",
              "101524  https://assets.msn.com/labs/mind/BBWzQuK.html   \n",
              "101525  https://assets.msn.com/labs/mind/BBy5rVe.html   \n",
              "101526  https://assets.msn.com/labs/mind/BBzMpnG.html   \n",
              "\n",
              "                                           title_entities  \\\n",
              "0       [{\"Label\": \"Prince Philip, Duke of Edinburgh\",...   \n",
              "1       [{\"Label\": \"IPad\", \"Type\": \"J\", \"WikidataId\": ...   \n",
              "2       [{\"Label\": \"Adipose tissue\", \"Type\": \"C\", \"Wik...   \n",
              "3       [{\"Label\": \"Drug Enforcement Administration\", ...   \n",
              "4                                                      []   \n",
              "...                                                   ...   \n",
              "101522                                                 []   \n",
              "101523  [{\"Label\": \"Des Moines, Iowa\", \"Type\": \"G\", \"W...   \n",
              "101524  [{\"Label\": \"MLS Cup\", \"Type\": \"U\", \"WikidataId...   \n",
              "101525  [{\"Label\": \"Peugeot RCZ\", \"Type\": \"V\", \"Wikida...   \n",
              "101526                                                 []   \n",
              "\n",
              "                                        abstract_entities  \n",
              "0                                                      []  \n",
              "1       [{\"Label\": \"IPad\", \"Type\": \"J\", \"WikidataId\": ...  \n",
              "2       [{\"Label\": \"Adipose tissue\", \"Type\": \"C\", \"Wik...  \n",
              "3                                                      []  \n",
              "4       [{\"Label\": \"Ukraine\", \"Type\": \"G\", \"WikidataId...  \n",
              "...                                                   ...  \n",
              "101522                                                 []  \n",
              "101523  [{\"Label\": \"Des Moines, Iowa\", \"Type\": \"G\", \"W...  \n",
              "101524                                                 []  \n",
              "101525                                                 []  \n",
              "101526                                                 []  \n",
              "\n",
              "[101527 rows x 8 columns]"
            ]
          },
          "execution_count": 8,
          "metadata": {},
          "output_type": "execute_result"
        }
      ],
      "source": [
        "train_news = pd.read_csv('./data/mind_large_train/news.tsv', sep='\\t', names=['news_id', 'category', 'subcategory', 'title', 'abstract', 'url', 'title_entities', 'abstract_entities'])\n",
        "train_news"
      ]
    },
    {
      "cell_type": "code",
      "execution_count": 21,
      "metadata": {
        "colab": {
          "base_uri": "https://localhost:8080/",
          "height": 54
        },
        "id": "enh5GOLuLxFL",
        "outputId": "d4b851c9-878e-40ce-a5e7-807c83bb176c"
      },
      "outputs": [
        {
          "data": {
            "application/vnd.google.colaboratory.intrinsic+json": {
              "type": "string"
            },
            "text/plain": [
              "'[{\"Label\": \"Adipose tissue\", \"Type\": \"C\", \"WikidataId\": \"Q193583\", \"Confidence\": 1.0, \"OccurrenceOffsets\": [20], \"SurfaceForms\": [\"Belly Fat\"]}]'"
            ]
          },
          "execution_count": 21,
          "metadata": {},
          "output_type": "execute_result"
        }
      ],
      "source": [
        "train_news['title_entities'][2]"
      ]
    },
    {
      "cell_type": "code",
      "execution_count": 9,
      "metadata": {
        "id": "x4O6fCRXLxJc"
      },
      "outputs": [],
      "source": [
        "import json\n",
        "\n",
        "def get_title_emb(title_entities):\n",
        "    vecs = [entity_vecs[ent['WikidataId']] for ent in json.loads(title_entities) if ent['WikidataId'] in entity_vecs]\n",
        "    if len(vecs) == 0:\n",
        "        return np.zeros(100)\n",
        "\n",
        "    return ' '.join([str(x) for x in np.stack(vecs, axis=0).mean(axis=0)])"
      ]
    },
    {
      "cell_type": "code",
      "execution_count": 10,
      "metadata": {
        "id": "Z5lYGEcySamu"
      },
      "outputs": [],
      "source": [
        "def get_emb_cnt(title_entities):\n",
        "    vecs = [entity_vecs[ent['WikidataId']] for ent in json.loads(title_entities) if ent['WikidataId'] in entity_vecs]\n",
        "    return len(vecs)"
      ]
    },
    {
      "cell_type": "code",
      "execution_count": 11,
      "metadata": {
        "id": "JHRaWPAUR7PS"
      },
      "outputs": [],
      "source": [
        "train_news_with_entities = train_news[~train_news['title_entities'].isna()]\n",
        "train_news_with_entities = train_news_with_entities[train_news_with_entities['title_entities'].apply(get_emb_cnt) > 0]"
      ]
    },
    {
      "cell_type": "code",
      "execution_count": 12,
      "metadata": {
        "id": "XjL3urEHLxQl"
      },
      "outputs": [],
      "source": [
        "train_news_with_entities['title_emb'] = train_news_with_entities['title_entities'].apply(get_title_emb)"
      ]
    },
    {
      "cell_type": "code",
      "execution_count": 13,
      "metadata": {
        "colab": {
          "base_uri": "https://localhost:8080/",
          "height": 419
        },
        "id": "IHQHS_1LTQ6o",
        "outputId": "d248b848-cfb8-4be4-f856-5d9505ca534c"
      },
      "outputs": [
        {
          "data": {
            "text/html": [
              "<div>\n",
              "<style scoped>\n",
              "    .dataframe tbody tr th:only-of-type {\n",
              "        vertical-align: middle;\n",
              "    }\n",
              "\n",
              "    .dataframe tbody tr th {\n",
              "        vertical-align: top;\n",
              "    }\n",
              "\n",
              "    .dataframe thead th {\n",
              "        text-align: right;\n",
              "    }\n",
              "</style>\n",
              "<table border=\"1\" class=\"dataframe\">\n",
              "  <thead>\n",
              "    <tr style=\"text-align: right;\">\n",
              "      <th></th>\n",
              "      <th>nid:token</th>\n",
              "      <th>title_emb:float_seq</th>\n",
              "    </tr>\n",
              "  </thead>\n",
              "  <tbody>\n",
              "    <tr>\n",
              "      <th>0</th>\n",
              "      <td>N88753</td>\n",
              "      <td>0.004057333333333334 -0.03991733333333333 -0.0...</td>\n",
              "    </tr>\n",
              "    <tr>\n",
              "      <th>1</th>\n",
              "      <td>N45436</td>\n",
              "      <td>-0.003665999999999999 0.010121499999999999 0.0...</td>\n",
              "    </tr>\n",
              "    <tr>\n",
              "      <th>2</th>\n",
              "      <td>N23144</td>\n",
              "      <td>-0.013597 -0.009758 0.01712 -0.051993 0.037963...</td>\n",
              "    </tr>\n",
              "    <tr>\n",
              "      <th>3</th>\n",
              "      <td>N86255</td>\n",
              "      <td>0.063956 0.003075 -0.005839 -0.026747 0.027664...</td>\n",
              "    </tr>\n",
              "    <tr>\n",
              "      <th>6</th>\n",
              "      <td>N99744</td>\n",
              "      <td>0.014257 0.018351 0.005199 0.001773 0.031984 0...</td>\n",
              "    </tr>\n",
              "    <tr>\n",
              "      <th>...</th>\n",
              "      <td>...</td>\n",
              "      <td>...</td>\n",
              "    </tr>\n",
              "    <tr>\n",
              "      <th>101520</th>\n",
              "      <td>N61455</td>\n",
              "      <td>0.069955 -0.007432 0.075966 0.00397 -0.087124 ...</td>\n",
              "    </tr>\n",
              "    <tr>\n",
              "      <th>101521</th>\n",
              "      <td>N114875</td>\n",
              "      <td>-0.005615 0.096387 -0.025957 0.094287 0.044024...</td>\n",
              "    </tr>\n",
              "    <tr>\n",
              "      <th>101523</th>\n",
              "      <td>N64337</td>\n",
              "      <td>-0.108383 -0.133976 -0.019564 -0.084663 -0.128...</td>\n",
              "    </tr>\n",
              "    <tr>\n",
              "      <th>101524</th>\n",
              "      <td>N100102</td>\n",
              "      <td>0.00011349999999999902 0.0340165 0.00024800000...</td>\n",
              "    </tr>\n",
              "    <tr>\n",
              "      <th>101525</th>\n",
              "      <td>N74617</td>\n",
              "      <td>-0.002495 0.002657 -0.026376 -0.060487 -0.0160...</td>\n",
              "    </tr>\n",
              "  </tbody>\n",
              "</table>\n",
              "<p>74874 rows × 2 columns</p>\n",
              "</div>"
            ],
            "text/plain": [
              "       nid:token                                title_emb:float_seq\n",
              "0         N88753  0.004057333333333334 -0.03991733333333333 -0.0...\n",
              "1         N45436  -0.003665999999999999 0.010121499999999999 0.0...\n",
              "2         N23144  -0.013597 -0.009758 0.01712 -0.051993 0.037963...\n",
              "3         N86255  0.063956 0.003075 -0.005839 -0.026747 0.027664...\n",
              "6         N99744  0.014257 0.018351 0.005199 0.001773 0.031984 0...\n",
              "...          ...                                                ...\n",
              "101520    N61455  0.069955 -0.007432 0.075966 0.00397 -0.087124 ...\n",
              "101521   N114875  -0.005615 0.096387 -0.025957 0.094287 0.044024...\n",
              "101523    N64337  -0.108383 -0.133976 -0.019564 -0.084663 -0.128...\n",
              "101524   N100102  0.00011349999999999902 0.0340165 0.00024800000...\n",
              "101525    N74617  -0.002495 0.002657 -0.026376 -0.060487 -0.0160...\n",
              "\n",
              "[74874 rows x 2 columns]"
            ]
          },
          "execution_count": 13,
          "metadata": {},
          "output_type": "execute_result"
        }
      ],
      "source": [
        "title_emb = train_news_with_entities.rename({'news_id': 'nid:token', 'title_emb':'title_emb:float_seq'}, axis=1)[['nid:token', 'title_emb:float_seq']]\n",
        "title_emb"
      ]
    },
    {
      "cell_type": "code",
      "execution_count": 14,
      "metadata": {},
      "outputs": [
        {
          "data": {
            "text/html": [
              "<div>\n",
              "<style scoped>\n",
              "    .dataframe tbody tr th:only-of-type {\n",
              "        vertical-align: middle;\n",
              "    }\n",
              "\n",
              "    .dataframe tbody tr th {\n",
              "        vertical-align: top;\n",
              "    }\n",
              "\n",
              "    .dataframe thead th {\n",
              "        text-align: right;\n",
              "    }\n",
              "</style>\n",
              "<table border=\"1\" class=\"dataframe\">\n",
              "  <thead>\n",
              "    <tr style=\"text-align: right;\">\n",
              "      <th></th>\n",
              "      <th>nid:token</th>\n",
              "      <th>title_emb:float_seq</th>\n",
              "    </tr>\n",
              "  </thead>\n",
              "  <tbody>\n",
              "    <tr>\n",
              "      <th>0</th>\n",
              "      <td>N88753</td>\n",
              "      <td>0.004057333333333334 -0.03991733333333333 -0.0...</td>\n",
              "    </tr>\n",
              "    <tr>\n",
              "      <th>1</th>\n",
              "      <td>N45436</td>\n",
              "      <td>-0.003665999999999999 0.010121499999999999 0.0...</td>\n",
              "    </tr>\n",
              "    <tr>\n",
              "      <th>2</th>\n",
              "      <td>N23144</td>\n",
              "      <td>-0.013597 -0.009758 0.01712 -0.051993 0.037963...</td>\n",
              "    </tr>\n",
              "    <tr>\n",
              "      <th>3</th>\n",
              "      <td>N86255</td>\n",
              "      <td>0.063956 0.003075 -0.005839 -0.026747 0.027664...</td>\n",
              "    </tr>\n",
              "    <tr>\n",
              "      <th>6</th>\n",
              "      <td>N99744</td>\n",
              "      <td>0.014257 0.018351 0.005199 0.001773 0.031984 0...</td>\n",
              "    </tr>\n",
              "    <tr>\n",
              "      <th>...</th>\n",
              "      <td>...</td>\n",
              "      <td>...</td>\n",
              "    </tr>\n",
              "    <tr>\n",
              "      <th>101520</th>\n",
              "      <td>N61455</td>\n",
              "      <td>0.069955 -0.007432 0.075966 0.00397 -0.087124 ...</td>\n",
              "    </tr>\n",
              "    <tr>\n",
              "      <th>101521</th>\n",
              "      <td>N114875</td>\n",
              "      <td>-0.005615 0.096387 -0.025957 0.094287 0.044024...</td>\n",
              "    </tr>\n",
              "    <tr>\n",
              "      <th>101523</th>\n",
              "      <td>N64337</td>\n",
              "      <td>-0.108383 -0.133976 -0.019564 -0.084663 -0.128...</td>\n",
              "    </tr>\n",
              "    <tr>\n",
              "      <th>101524</th>\n",
              "      <td>N100102</td>\n",
              "      <td>0.00011349999999999902 0.0340165 0.00024800000...</td>\n",
              "    </tr>\n",
              "    <tr>\n",
              "      <th>101525</th>\n",
              "      <td>N74617</td>\n",
              "      <td>-0.002495 0.002657 -0.026376 -0.060487 -0.0160...</td>\n",
              "    </tr>\n",
              "  </tbody>\n",
              "</table>\n",
              "<p>74874 rows × 2 columns</p>\n",
              "</div>"
            ],
            "text/plain": [
              "       nid:token                                title_emb:float_seq\n",
              "0         N88753  0.004057333333333334 -0.03991733333333333 -0.0...\n",
              "1         N45436  -0.003665999999999999 0.010121499999999999 0.0...\n",
              "2         N23144  -0.013597 -0.009758 0.01712 -0.051993 0.037963...\n",
              "3         N86255  0.063956 0.003075 -0.005839 -0.026747 0.027664...\n",
              "6         N99744  0.014257 0.018351 0.005199 0.001773 0.031984 0...\n",
              "...          ...                                                ...\n",
              "101520    N61455  0.069955 -0.007432 0.075966 0.00397 -0.087124 ...\n",
              "101521   N114875  -0.005615 0.096387 -0.025957 0.094287 0.044024...\n",
              "101523    N64337  -0.108383 -0.133976 -0.019564 -0.084663 -0.128...\n",
              "101524   N100102  0.00011349999999999902 0.0340165 0.00024800000...\n",
              "101525    N74617  -0.002495 0.002657 -0.026376 -0.060487 -0.0160...\n",
              "\n",
              "[74874 rows x 2 columns]"
            ]
          },
          "execution_count": 14,
          "metadata": {},
          "output_type": "execute_result"
        }
      ],
      "source": [
        "title_emb"
      ]
    },
    {
      "cell_type": "code",
      "execution_count": 15,
      "metadata": {
        "id": "8M-QXGJBLxVC"
      },
      "outputs": [
        {
          "name": "stderr",
          "output_type": "stream",
          "text": [
            "A subdirectory or file recbox_data already exists.\n"
          ]
        }
      ],
      "source": [
        "!mkdir recbox_data\n",
        "\n",
        "title_emb.to_csv('./recbox_data/mind_large.newsemb', index=False, sep='\\t')"
      ]
    },
    {
      "attachments": {},
      "cell_type": "markdown",
      "metadata": {
        "id": "6JhcLAsdYGPP"
      },
      "source": [
        "model"
      ]
    },
    {
      "cell_type": "code",
      "execution_count": 1,
      "metadata": {
        "id": "Do1cK-mjS1jK"
      },
      "outputs": [],
      "source": [
        "import torch\n",
        "from torch import nn\n",
        "\n",
        "from recbole.model.abstract_recommender import SequentialRecommender\n",
        "from recbole.model.init import xavier_normal_initialization\n",
        "from recbole.model.layers import FeatureSeqEmbLayer\n",
        "from recbole.model.loss import BPRLoss\n",
        "\n",
        "\n",
        "class GRU4RecExt(SequentialRecommender):\n",
        "    def __init__(self, config, dataset):\n",
        "        super(GRU4RecExt, self).__init__(config, dataset)\n",
        "\n",
        "        # load parameters info\n",
        "        self.embedding_size = config['embedding_size']\n",
        "        self.hidden_size = config['hidden_size']\n",
        "        self.num_layers = config['num_layers']\n",
        "        self.dropout_prob = config['dropout_prob']\n",
        "\n",
        "        #self.selected_features = config['selected_features']\n",
        "        #self.pooling_mode = config['pooling_mode']\n",
        "        self.device = config['device']\n",
        "        #self.num_feature_field = len(config['selected_features'])\n",
        "\n",
        "        self.loss_type = config['loss_type']\n",
        "\n",
        "        # define layers and loss\n",
        "        self.item_embedding = nn.Embedding(self.n_items, self.embedding_size, padding_idx=0)\n",
        "\n",
        "        pretrained_news_emb = dataset.get_preload_weight('nid')\n",
        "        self.feature_embed_layer = nn.Embedding.from_pretrained(torch.from_numpy(pretrained_news_emb).to(dtype=torch.float))\n",
        "        self.feature_embed_size = self.feature_embed_layer.embedding_dim\n",
        "\n",
        "        self.item_gru_layers = nn.GRU(\n",
        "            input_size=self.embedding_size,\n",
        "            hidden_size=self.hidden_size,\n",
        "            num_layers=self.num_layers,\n",
        "            bias=False,\n",
        "            batch_first=True,\n",
        "        )\n",
        "        # For simplicity, we use same architecture for item_gru and feature_gru\n",
        "        self.feature_gru_layers = nn.GRU(\n",
        "            input_size=self.feature_embed_size,\n",
        "            hidden_size=self.hidden_size,\n",
        "            num_layers=self.num_layers,\n",
        "            bias=False,\n",
        "            batch_first=True,\n",
        "        )\n",
        "        self.dense_layer = nn.Linear(self.hidden_size * 2, self.embedding_size)\n",
        "        self.dropout = nn.Dropout(self.dropout_prob)\n",
        "        if self.loss_type == 'BPR':\n",
        "            self.loss_fct = BPRLoss()\n",
        "        elif self.loss_type == 'CE':\n",
        "            self.loss_fct = nn.CrossEntropyLoss()\n",
        "        else:\n",
        "            raise NotImplementedError(\"Make sure 'loss_type' in ['BPR', 'CE']!\")\n",
        "\n",
        "        # parameters initialization\n",
        "        self.apply(xavier_normal_initialization)\n",
        "        self.other_parameter_name = ['feature_embed_layer']\n",
        "\n",
        "    def forward(self, item_seq, item_seq_len):\n",
        "        item_seq_emb = self.item_embedding(item_seq)\n",
        "        item_seq_emb_dropout = self.dropout(item_seq_emb)\n",
        "        item_gru_output, _ = self.item_gru_layers(item_seq_emb_dropout)  # [B Len H]\n",
        "\n",
        "        feature_seq_emb = self.feature_embed_layer(item_seq)\n",
        "        feature_gru_output, _ = self.feature_gru_layers(feature_seq_emb)  # [B Len H]\n",
        "\n",
        "        output_concat = torch.cat((item_gru_output, feature_gru_output), -1)  # [B Len 2*H]\n",
        "        output = self.dense_layer(output_concat)\n",
        "        output = self.gather_indexes(output, item_seq_len - 1)  # [B H]\n",
        "        return output  # [B H]\n",
        "\n",
        "    def calculate_loss(self, interaction):\n",
        "        item_seq = interaction[self.ITEM_SEQ]\n",
        "        item_seq_len = interaction[self.ITEM_SEQ_LEN]\n",
        "        seq_output = self.forward(item_seq, item_seq_len)\n",
        "        pos_items = interaction[self.POS_ITEM_ID]\n",
        "        if self.loss_type == 'BPR':\n",
        "            neg_items = interaction[self.NEG_ITEM_ID]\n",
        "            pos_items_emb = self.item_embedding(pos_items)  # [B H]\n",
        "            neg_items_emb = self.item_embedding(neg_items)  # [B H]\n",
        "            pos_score = torch.sum(seq_output * pos_items_emb, dim=-1)  # [B]\n",
        "            neg_score = torch.sum(seq_output * neg_items_emb, dim=-1)  # [B]\n",
        "            loss = self.loss_fct(pos_score, neg_score)\n",
        "            return loss\n",
        "        else:  # self.loss_type = 'CE'\n",
        "            test_item_emb = self.item_embedding.weight\n",
        "            logits = torch.matmul(seq_output, test_item_emb.transpose(0, 1))\n",
        "            loss = self.loss_fct(logits, pos_items)\n",
        "            return loss\n",
        "\n",
        "    def predict(self, interaction):\n",
        "        item_seq = interaction[self.ITEM_SEQ]\n",
        "        item_seq_len = interaction[self.ITEM_SEQ_LEN]\n",
        "        test_item = interaction[self.ITEM_ID]\n",
        "        seq_output = self.forward(item_seq, item_seq_len)\n",
        "        test_item_emb = self.item_embedding(test_item)\n",
        "        scores = torch.mul(seq_output, test_item_emb).sum(dim=1)  # [B]\n",
        "        return scores\n",
        "\n",
        "    def full_sort_predict(self, interaction):\n",
        "        item_seq = interaction[self.ITEM_SEQ]\n",
        "        item_seq_len = interaction[self.ITEM_SEQ_LEN]\n",
        "        seq_output = self.forward(item_seq, item_seq_len)\n",
        "        test_items_emb = self.item_embedding.weight\n",
        "        scores = torch.matmul(seq_output, test_items_emb.transpose(0, 1))  # [B n_items]\n",
        "        return scores"
      ]
    },
    {
      "cell_type": "code",
      "execution_count": 94,
      "metadata": {
        "colab": {
          "base_uri": "https://localhost:8080/"
        },
        "id": "0LTmYhOPWpqp",
        "outputId": "b601e4ed-6699-464e-eebf-154ca064fae8"
      },
      "outputs": [
        {
          "name": "stdout",
          "output_type": "stream",
          "text": [
            "Downloading...\n",
            "From: https://drive.google.com/uc?id=1aIZ7ZvochkW32utP5Q1QNVrDMdFRv-2h\n",
            "To: /content/mind_small.inter\n",
            "100% 212M/212M [00:03<00:00, 59.4MB/s]\n"
          ]
        }
      ],
      "source": [
        "!gdown 1aIZ7ZvochkW32utP5Q1QNVrDMdFRv-2h -O 'mind_small.inter'"
      ]
    },
    {
      "cell_type": "code",
      "execution_count": 95,
      "metadata": {
        "colab": {
          "base_uri": "https://localhost:8080/"
        },
        "id": "RD_M33ILWp4t",
        "outputId": "03716e02-7f3a-4e3c-dc54-ff324fea10d0"
      },
      "outputs": [
        {
          "name": "stdout",
          "output_type": "stream",
          "text": [
            "user_id:token\titem_id:token\tlabel:float\ttimestamp:float\n",
            "13740\t55689\t1\t1573452358\n",
            "13740\t35729\t0\t1573452358\n",
            "91836\t20678\t0\t1573571490\n",
            "91836\t39317\t0\t1573571490\n",
            "91836\t58114\t0\t1573571490\n",
            "91836\t20495\t0\t1573571490\n",
            "91836\t42977\t0\t1573571490\n",
            "91836\t22407\t0\t1573571490\n",
            "91836\t14592\t0\t1573571490\n"
          ]
        }
      ],
      "source": [
        "!head mind_small.inter"
      ]
    },
    {
      "cell_type": "code",
      "execution_count": null,
      "metadata": {
        "id": "8IJ4NdlgWqHG"
      },
      "outputs": [],
      "source": []
    },
    {
      "cell_type": "code",
      "execution_count": null,
      "metadata": {
        "id": "FOTeU0WPWqVl"
      },
      "outputs": [],
      "source": []
    },
    {
      "cell_type": "code",
      "execution_count": null,
      "metadata": {
        "id": "0AoUDi7NS1rF"
      },
      "outputs": [],
      "source": []
    },
    {
      "cell_type": "code",
      "execution_count": null,
      "metadata": {
        "id": "omHVwYPmS1yr"
      },
      "outputs": [],
      "source": []
    },
    {
      "cell_type": "code",
      "execution_count": null,
      "metadata": {
        "id": "wQGmqk54S16d"
      },
      "outputs": [],
      "source": []
    },
    {
      "cell_type": "code",
      "execution_count": null,
      "metadata": {
        "id": "b-kr7dFXS2Cl"
      },
      "outputs": [],
      "source": []
    },
    {
      "cell_type": "code",
      "execution_count": 2,
      "metadata": {
        "id": "3eNrhfHmwyve"
      },
      "outputs": [],
      "source": [
        "import logging\n",
        "from logging import getLogger\n",
        "from recbole.config import Config\n",
        "from recbole.data import create_dataset, data_preparation\n",
        "from recbole.model.sequential_recommender import GRU4Rec\n",
        "from recbole.trainer import Trainer\n",
        "from recbole.utils import init_seed, init_logger"
      ]
    },
    {
      "cell_type": "code",
      "execution_count": 3,
      "metadata": {
        "id": "2V-ARi1lw-tg"
      },
      "outputs": [
        {
          "name": "stderr",
          "output_type": "stream",
          "text": [
            "09 May 17:17    INFO  \n",
            "General Hyper Parameters:\n",
            "gpu_id = 0\n",
            "use_gpu = True\n",
            "seed = 2020\n",
            "state = INFO\n",
            "reproducibility = True\n",
            "data_path = data/preprocessed\\mind_small\n",
            "checkpoint_dir = saved\n",
            "show_progress = True\n",
            "save_dataset = False\n",
            "dataset_save_path = None\n",
            "save_dataloaders = False\n",
            "dataloaders_save_path = None\n",
            "log_wandb = True\n",
            "\n",
            "Training Hyper Parameters:\n",
            "epochs = 10\n",
            "train_batch_size = 1024\n",
            "learner = adam\n",
            "learning_rate = 0.001\n",
            "train_neg_sample_args = {'distribution': 'none', 'sample_num': 'none', 'alpha': 'none', 'dynamic': False, 'candidate_num': 0}\n",
            "eval_step = 1\n",
            "stopping_step = 10\n",
            "clip_grad_norm = None\n",
            "weight_decay = 0.0\n",
            "loss_decimal_place = 4\n",
            "\n",
            "Evaluation Hyper Parameters:\n",
            "eval_args = {'split': {'RS': [0.8, 0.1, 0.1]}, 'group_by': 'user', 'order': 'TO', 'mode': 'uni10'}\n",
            "repeatable = True\n",
            "metrics = ['Precision', 'Recall', 'NDCG', 'MAP']\n",
            "topk = [1, 2, 5, 7, 10]\n",
            "valid_metric = NDCG@10\n",
            "valid_metric_bigger = True\n",
            "eval_batch_size = 1024\n",
            "metric_decimal_place = 4\n",
            "\n",
            "Dataset Hyper Parameters:\n",
            "field_separator = \t\n",
            "seq_separator =  \n",
            "USER_ID_FIELD = user_id\n",
            "ITEM_ID_FIELD = item_id\n",
            "RATING_FIELD = rating\n",
            "TIME_FIELD = timestamp\n",
            "seq_len = None\n",
            "LABEL_FIELD = label\n",
            "threshold = None\n",
            "NEG_PREFIX = neg_\n",
            "load_col = {'inter': ['user_id', 'item_id', 'label', 'timestamp'], 'newsemb': ['nid', 'title_emb']}\n",
            "unload_col = None\n",
            "unused_col = None\n",
            "additional_feat_suffix = ['newsemb']\n",
            "rm_dup_inter = None\n",
            "val_interval = None\n",
            "filter_inter_by_user_or_item = True\n",
            "user_inter_num_interval = [0,inf)\n",
            "item_inter_num_interval = [0,inf)\n",
            "alias_of_user_id = None\n",
            "alias_of_item_id = ['nid']\n",
            "alias_of_entity_id = None\n",
            "alias_of_relation_id = None\n",
            "preload_weight = {'nid': 'title_emb'}\n",
            "normalize_field = None\n",
            "normalize_all = None\n",
            "ITEM_LIST_LENGTH_FIELD = item_length\n",
            "LIST_SUFFIX = _list\n",
            "MAX_ITEM_LIST_LENGTH = 50\n",
            "POSITION_FIELD = position_id\n",
            "HEAD_ENTITY_ID_FIELD = head_id\n",
            "TAIL_ENTITY_ID_FIELD = tail_id\n",
            "RELATION_ID_FIELD = relation_id\n",
            "ENTITY_ID_FIELD = entity_id\n",
            "benchmark_filename = None\n",
            "\n",
            "Other Hyper Parameters: \n",
            "worker = 0\n",
            "wandb_project = recbole\n",
            "shuffle = True\n",
            "require_pow = False\n",
            "enable_amp = False\n",
            "enable_scaler = False\n",
            "transform = None\n",
            "embedding_size = 64\n",
            "hidden_size = 64\n",
            "num_layers = 1\n",
            "dropout_prob = 0.3\n",
            "loss_type = CE\n",
            "numerical_features = []\n",
            "discretization = None\n",
            "kg_reverse_r = False\n",
            "entity_kg_num_interval = [0,inf)\n",
            "relation_kg_num_interval = [0,inf)\n",
            "MODEL_TYPE = ModelType.SEQUENTIAL\n",
            "MODEL_INPUT_TYPE = InputType.POINTWISE\n",
            "eval_type = EvaluatorType.RANKING\n",
            "single_spec = True\n",
            "local_rank = 0\n",
            "device = cuda\n",
            "eval_neg_sample_args = {'distribution': 'uniform', 'sample_num': 10}\n",
            "\n",
            "\n",
            "\n",
            "General Hyper Parameters:\n",
            "gpu_id = 0\n",
            "use_gpu = True\n",
            "seed = 2020\n",
            "state = INFO\n",
            "reproducibility = True\n",
            "data_path = data/preprocessed\\mind_small\n",
            "checkpoint_dir = saved\n",
            "show_progress = True\n",
            "save_dataset = False\n",
            "dataset_save_path = None\n",
            "save_dataloaders = False\n",
            "dataloaders_save_path = None\n",
            "log_wandb = True\n",
            "\n",
            "Training Hyper Parameters:\n",
            "epochs = 10\n",
            "train_batch_size = 1024\n",
            "learner = adam\n",
            "learning_rate = 0.001\n",
            "train_neg_sample_args = {'distribution': 'none', 'sample_num': 'none', 'alpha': 'none', 'dynamic': False, 'candidate_num': 0}\n",
            "eval_step = 1\n",
            "stopping_step = 10\n",
            "clip_grad_norm = None\n",
            "weight_decay = 0.0\n",
            "loss_decimal_place = 4\n",
            "\n",
            "Evaluation Hyper Parameters:\n",
            "eval_args = {'split': {'RS': [0.8, 0.1, 0.1]}, 'group_by': 'user', 'order': 'TO', 'mode': 'uni10'}\n",
            "repeatable = True\n",
            "metrics = ['Precision', 'Recall', 'NDCG', 'MAP']\n",
            "topk = [1, 2, 5, 7, 10]\n",
            "valid_metric = NDCG@10\n",
            "valid_metric_bigger = True\n",
            "eval_batch_size = 1024\n",
            "metric_decimal_place = 4\n",
            "\n",
            "Dataset Hyper Parameters:\n",
            "field_separator = \t\n",
            "seq_separator =  \n",
            "USER_ID_FIELD = user_id\n",
            "ITEM_ID_FIELD = item_id\n",
            "RATING_FIELD = rating\n",
            "TIME_FIELD = timestamp\n",
            "seq_len = None\n",
            "LABEL_FIELD = label\n",
            "threshold = None\n",
            "NEG_PREFIX = neg_\n",
            "load_col = {'inter': ['user_id', 'item_id', 'label', 'timestamp'], 'newsemb': ['nid', 'title_emb']}\n",
            "unload_col = None\n",
            "unused_col = None\n",
            "additional_feat_suffix = ['newsemb']\n",
            "rm_dup_inter = None\n",
            "val_interval = None\n",
            "filter_inter_by_user_or_item = True\n",
            "user_inter_num_interval = [0,inf)\n",
            "item_inter_num_interval = [0,inf)\n",
            "alias_of_user_id = None\n",
            "alias_of_item_id = ['nid']\n",
            "alias_of_entity_id = None\n",
            "alias_of_relation_id = None\n",
            "preload_weight = {'nid': 'title_emb'}\n",
            "normalize_field = None\n",
            "normalize_all = None\n",
            "ITEM_LIST_LENGTH_FIELD = item_length\n",
            "LIST_SUFFIX = _list\n",
            "MAX_ITEM_LIST_LENGTH = 50\n",
            "POSITION_FIELD = position_id\n",
            "HEAD_ENTITY_ID_FIELD = head_id\n",
            "TAIL_ENTITY_ID_FIELD = tail_id\n",
            "RELATION_ID_FIELD = relation_id\n",
            "ENTITY_ID_FIELD = entity_id\n",
            "benchmark_filename = None\n",
            "\n",
            "Other Hyper Parameters: \n",
            "worker = 0\n",
            "wandb_project = recbole\n",
            "shuffle = True\n",
            "require_pow = False\n",
            "enable_amp = False\n",
            "enable_scaler = False\n",
            "transform = None\n",
            "embedding_size = 64\n",
            "hidden_size = 64\n",
            "num_layers = 1\n",
            "dropout_prob = 0.3\n",
            "loss_type = CE\n",
            "numerical_features = []\n",
            "discretization = None\n",
            "kg_reverse_r = False\n",
            "entity_kg_num_interval = [0,inf)\n",
            "relation_kg_num_interval = [0,inf)\n",
            "MODEL_TYPE = ModelType.SEQUENTIAL\n",
            "MODEL_INPUT_TYPE = InputType.POINTWISE\n",
            "eval_type = EvaluatorType.RANKING\n",
            "single_spec = True\n",
            "local_rank = 0\n",
            "device = cuda\n",
            "eval_neg_sample_args = {'distribution': 'uniform', 'sample_num': 10}\n",
            "\n",
            "\n"
          ]
        }
      ],
      "source": [
        "from utils.utils import load_config\n",
        "parameter_dict = load_config('./configs/sequential/gru4rec.yaml')\n",
        "\n",
        "config = Config(model='GRU4Rec', dataset='mind_small', config_dict=parameter_dict)\n",
        "\n",
        "# init random seed\n",
        "init_seed(config['seed'], config['reproducibility'])\n",
        "\n",
        "# logger initialization\n",
        "init_logger(config)\n",
        "logger = getLogger()\n",
        "# Create handlers\n",
        "c_handler = logging.StreamHandler()\n",
        "c_handler.setLevel(logging.INFO)\n",
        "logger.addHandler(c_handler)\n",
        "\n",
        "# write config info into log\n",
        "logger.info(config)"
      ]
    },
    {
      "cell_type": "code",
      "execution_count": 4,
      "metadata": {
        "colab": {
          "base_uri": "https://localhost:8080/"
        },
        "id": "-yB1Vtbnxaed",
        "outputId": "910642ab-9ca7-4842-8674-c91fd8d35c85"
      },
      "outputs": [
        {
          "data": {
            "text/plain": [
              "\n",
              "\u001b[1;35mGeneral Hyper Parameters:\n",
              "\u001b[0m\u001b[1;36mgpu_id\u001b[0m =\u001b[1;33m 0\u001b[0m\n",
              "\u001b[1;36muse_gpu\u001b[0m =\u001b[1;33m True\u001b[0m\n",
              "\u001b[1;36mseed\u001b[0m =\u001b[1;33m 2020\u001b[0m\n",
              "\u001b[1;36mstate\u001b[0m =\u001b[1;33m INFO\u001b[0m\n",
              "\u001b[1;36mreproducibility\u001b[0m =\u001b[1;33m True\u001b[0m\n",
              "\u001b[1;36mdata_path\u001b[0m =\u001b[1;33m data/preprocessed\\mind_small\u001b[0m\n",
              "\u001b[1;36mcheckpoint_dir\u001b[0m =\u001b[1;33m saved\u001b[0m\n",
              "\u001b[1;36mshow_progress\u001b[0m =\u001b[1;33m True\u001b[0m\n",
              "\u001b[1;36msave_dataset\u001b[0m =\u001b[1;33m False\u001b[0m\n",
              "\u001b[1;36mdataset_save_path\u001b[0m =\u001b[1;33m None\u001b[0m\n",
              "\u001b[1;36msave_dataloaders\u001b[0m =\u001b[1;33m False\u001b[0m\n",
              "\u001b[1;36mdataloaders_save_path\u001b[0m =\u001b[1;33m None\u001b[0m\n",
              "\u001b[1;36mlog_wandb\u001b[0m =\u001b[1;33m True\u001b[0m\n",
              "\n",
              "\u001b[1;35mTraining Hyper Parameters:\n",
              "\u001b[0m\u001b[1;36mepochs\u001b[0m =\u001b[1;33m 10\u001b[0m\n",
              "\u001b[1;36mtrain_batch_size\u001b[0m =\u001b[1;33m 1024\u001b[0m\n",
              "\u001b[1;36mlearner\u001b[0m =\u001b[1;33m adam\u001b[0m\n",
              "\u001b[1;36mlearning_rate\u001b[0m =\u001b[1;33m 0.001\u001b[0m\n",
              "\u001b[1;36mtrain_neg_sample_args\u001b[0m =\u001b[1;33m {'distribution': 'none', 'sample_num': 'none', 'alpha': 'none', 'dynamic': False, 'candidate_num': 0}\u001b[0m\n",
              "\u001b[1;36meval_step\u001b[0m =\u001b[1;33m 1\u001b[0m\n",
              "\u001b[1;36mstopping_step\u001b[0m =\u001b[1;33m 10\u001b[0m\n",
              "\u001b[1;36mclip_grad_norm\u001b[0m =\u001b[1;33m None\u001b[0m\n",
              "\u001b[1;36mweight_decay\u001b[0m =\u001b[1;33m 0.0\u001b[0m\n",
              "\u001b[1;36mloss_decimal_place\u001b[0m =\u001b[1;33m 4\u001b[0m\n",
              "\n",
              "\u001b[1;35mEvaluation Hyper Parameters:\n",
              "\u001b[0m\u001b[1;36meval_args\u001b[0m =\u001b[1;33m {'split': {'RS': [0.8, 0.1, 0.1]}, 'group_by': 'user', 'order': 'TO', 'mode': 'uni10'}\u001b[0m\n",
              "\u001b[1;36mrepeatable\u001b[0m =\u001b[1;33m True\u001b[0m\n",
              "\u001b[1;36mmetrics\u001b[0m =\u001b[1;33m ['Precision', 'Recall', 'NDCG', 'MAP']\u001b[0m\n",
              "\u001b[1;36mtopk\u001b[0m =\u001b[1;33m [1, 2, 5, 7, 10]\u001b[0m\n",
              "\u001b[1;36mvalid_metric\u001b[0m =\u001b[1;33m NDCG@10\u001b[0m\n",
              "\u001b[1;36mvalid_metric_bigger\u001b[0m =\u001b[1;33m True\u001b[0m\n",
              "\u001b[1;36meval_batch_size\u001b[0m =\u001b[1;33m 1024\u001b[0m\n",
              "\u001b[1;36mmetric_decimal_place\u001b[0m =\u001b[1;33m 4\u001b[0m\n",
              "\n",
              "\u001b[1;35mDataset Hyper Parameters:\n",
              "\u001b[0m\u001b[1;36mfield_separator\u001b[0m =\u001b[1;33m \t\u001b[0m\n",
              "\u001b[1;36mseq_separator\u001b[0m =\u001b[1;33m  \u001b[0m\n",
              "\u001b[1;36mUSER_ID_FIELD\u001b[0m =\u001b[1;33m user_id\u001b[0m\n",
              "\u001b[1;36mITEM_ID_FIELD\u001b[0m =\u001b[1;33m item_id\u001b[0m\n",
              "\u001b[1;36mRATING_FIELD\u001b[0m =\u001b[1;33m rating\u001b[0m\n",
              "\u001b[1;36mTIME_FIELD\u001b[0m =\u001b[1;33m timestamp\u001b[0m\n",
              "\u001b[1;36mseq_len\u001b[0m =\u001b[1;33m None\u001b[0m\n",
              "\u001b[1;36mLABEL_FIELD\u001b[0m =\u001b[1;33m label\u001b[0m\n",
              "\u001b[1;36mthreshold\u001b[0m =\u001b[1;33m None\u001b[0m\n",
              "\u001b[1;36mNEG_PREFIX\u001b[0m =\u001b[1;33m neg_\u001b[0m\n",
              "\u001b[1;36mload_col\u001b[0m =\u001b[1;33m {'inter': ['user_id', 'item_id', 'label', 'timestamp'], 'newsemb': ['nid', 'title_emb']}\u001b[0m\n",
              "\u001b[1;36munload_col\u001b[0m =\u001b[1;33m None\u001b[0m\n",
              "\u001b[1;36munused_col\u001b[0m =\u001b[1;33m None\u001b[0m\n",
              "\u001b[1;36madditional_feat_suffix\u001b[0m =\u001b[1;33m ['newsemb']\u001b[0m\n",
              "\u001b[1;36mrm_dup_inter\u001b[0m =\u001b[1;33m None\u001b[0m\n",
              "\u001b[1;36mval_interval\u001b[0m =\u001b[1;33m None\u001b[0m\n",
              "\u001b[1;36mfilter_inter_by_user_or_item\u001b[0m =\u001b[1;33m True\u001b[0m\n",
              "\u001b[1;36muser_inter_num_interval\u001b[0m =\u001b[1;33m [0,inf)\u001b[0m\n",
              "\u001b[1;36mitem_inter_num_interval\u001b[0m =\u001b[1;33m [0,inf)\u001b[0m\n",
              "\u001b[1;36malias_of_user_id\u001b[0m =\u001b[1;33m None\u001b[0m\n",
              "\u001b[1;36malias_of_item_id\u001b[0m =\u001b[1;33m ['nid']\u001b[0m\n",
              "\u001b[1;36malias_of_entity_id\u001b[0m =\u001b[1;33m None\u001b[0m\n",
              "\u001b[1;36malias_of_relation_id\u001b[0m =\u001b[1;33m None\u001b[0m\n",
              "\u001b[1;36mpreload_weight\u001b[0m =\u001b[1;33m {'nid': 'title_emb'}\u001b[0m\n",
              "\u001b[1;36mnormalize_field\u001b[0m =\u001b[1;33m None\u001b[0m\n",
              "\u001b[1;36mnormalize_all\u001b[0m =\u001b[1;33m None\u001b[0m\n",
              "\u001b[1;36mITEM_LIST_LENGTH_FIELD\u001b[0m =\u001b[1;33m item_length\u001b[0m\n",
              "\u001b[1;36mLIST_SUFFIX\u001b[0m =\u001b[1;33m _list\u001b[0m\n",
              "\u001b[1;36mMAX_ITEM_LIST_LENGTH\u001b[0m =\u001b[1;33m 50\u001b[0m\n",
              "\u001b[1;36mPOSITION_FIELD\u001b[0m =\u001b[1;33m position_id\u001b[0m\n",
              "\u001b[1;36mHEAD_ENTITY_ID_FIELD\u001b[0m =\u001b[1;33m head_id\u001b[0m\n",
              "\u001b[1;36mTAIL_ENTITY_ID_FIELD\u001b[0m =\u001b[1;33m tail_id\u001b[0m\n",
              "\u001b[1;36mRELATION_ID_FIELD\u001b[0m =\u001b[1;33m relation_id\u001b[0m\n",
              "\u001b[1;36mENTITY_ID_FIELD\u001b[0m =\u001b[1;33m entity_id\u001b[0m\n",
              "\u001b[1;36mbenchmark_filename\u001b[0m =\u001b[1;33m None\u001b[0m\n",
              "\n",
              "\u001b[1;35mOther Hyper Parameters: \n",
              "\u001b[0m\u001b[1;36mworker\u001b[0m = \u001b[1;33m0\u001b[0m\n",
              "\u001b[1;36mwandb_project\u001b[0m = \u001b[1;33mrecbole\u001b[0m\n",
              "\u001b[1;36mshuffle\u001b[0m = \u001b[1;33mTrue\u001b[0m\n",
              "\u001b[1;36mrequire_pow\u001b[0m = \u001b[1;33mFalse\u001b[0m\n",
              "\u001b[1;36menable_amp\u001b[0m = \u001b[1;33mFalse\u001b[0m\n",
              "\u001b[1;36menable_scaler\u001b[0m = \u001b[1;33mFalse\u001b[0m\n",
              "\u001b[1;36mtransform\u001b[0m = \u001b[1;33mNone\u001b[0m\n",
              "\u001b[1;36membedding_size\u001b[0m = \u001b[1;33m64\u001b[0m\n",
              "\u001b[1;36mhidden_size\u001b[0m = \u001b[1;33m64\u001b[0m\n",
              "\u001b[1;36mnum_layers\u001b[0m = \u001b[1;33m1\u001b[0m\n",
              "\u001b[1;36mdropout_prob\u001b[0m = \u001b[1;33m0.3\u001b[0m\n",
              "\u001b[1;36mloss_type\u001b[0m = \u001b[1;33mCE\u001b[0m\n",
              "\u001b[1;36mnumerical_features\u001b[0m = \u001b[1;33m[]\u001b[0m\n",
              "\u001b[1;36mdiscretization\u001b[0m = \u001b[1;33mNone\u001b[0m\n",
              "\u001b[1;36mkg_reverse_r\u001b[0m = \u001b[1;33mFalse\u001b[0m\n",
              "\u001b[1;36mentity_kg_num_interval\u001b[0m = \u001b[1;33m[0,inf)\u001b[0m\n",
              "\u001b[1;36mrelation_kg_num_interval\u001b[0m = \u001b[1;33m[0,inf)\u001b[0m\n",
              "\u001b[1;36mMODEL_TYPE\u001b[0m = \u001b[1;33mModelType.SEQUENTIAL\u001b[0m\n",
              "\u001b[1;36mMODEL_INPUT_TYPE\u001b[0m = \u001b[1;33mInputType.POINTWISE\u001b[0m\n",
              "\u001b[1;36meval_type\u001b[0m = \u001b[1;33mEvaluatorType.RANKING\u001b[0m\n",
              "\u001b[1;36msingle_spec\u001b[0m = \u001b[1;33mTrue\u001b[0m\n",
              "\u001b[1;36mlocal_rank\u001b[0m = \u001b[1;33m0\u001b[0m\n",
              "\u001b[1;36mdevice\u001b[0m = \u001b[1;33mcuda\u001b[0m\n",
              "\u001b[1;36meval_neg_sample_args\u001b[0m = \u001b[1;33m{'distribution': 'uniform', 'sample_num': 10}\u001b[0m\n"
            ]
          },
          "execution_count": 4,
          "metadata": {},
          "output_type": "execute_result"
        }
      ],
      "source": [
        "config"
      ]
    },
    {
      "cell_type": "code",
      "execution_count": 5,
      "metadata": {
        "id": "b1cl2060zo-f"
      },
      "outputs": [
        {
          "name": "stderr",
          "output_type": "stream",
          "text": [
            "09 May 17:18    INFO  mind_small\n",
            "The number of users: 94058\n",
            "Average actions of users: 91.2685073944523\n",
            "The number of items: 97646\n",
            "Average actions of items: 376.9901190110228\n",
            "The number of inters: 8584442\n",
            "The sparsity of the dataset: 99.90653223168219%\n",
            "Remain Fields: ['user_id', 'item_id', 'label', 'timestamp', 'nid', 'title_emb']\n",
            "mind_small\n",
            "The number of users: 94058\n",
            "Average actions of users: 91.2685073944523\n",
            "The number of items: 97646\n",
            "Average actions of items: 376.9901190110228\n",
            "The number of inters: 8584442\n",
            "The sparsity of the dataset: 99.90653223168219%\n",
            "Remain Fields: ['user_id', 'item_id', 'label', 'timestamp', 'nid', 'title_emb']\n"
          ]
        }
      ],
      "source": [
        "dataset = create_dataset(config)\n",
        "logger.info(dataset)"
      ]
    },
    {
      "cell_type": "code",
      "execution_count": null,
      "metadata": {
        "colab": {
          "base_uri": "https://localhost:8080/"
        },
        "id": "tgiY_XQwhAdr",
        "outputId": "51f30ba5-937b-437c-f437-8e2b6f5064b0"
      },
      "outputs": [
        {
          "data": {
            "text/plain": [
              "\u001b[1;35mmind_small\u001b[0m\n",
              "\u001b[1;34mThe number of users\u001b[0m: 94058\n",
              "\u001b[1;34mAverage actions of users\u001b[0m: 91.2685073944523\n",
              "\u001b[1;34mThe number of items\u001b[0m: 97646\n",
              "\u001b[1;34mAverage actions of items\u001b[0m: 376.9901190110228\n",
              "\u001b[1;34mThe number of inters\u001b[0m: 8584442\n",
              "\u001b[1;34mThe sparsity of the dataset\u001b[0m: 99.90653223168219%\n",
              "\u001b[1;34mRemain Fields\u001b[0m: ['user_id', 'item_id', 'label', 'timestamp', 'nid', 'title_emb']"
            ]
          },
          "execution_count": 25,
          "metadata": {},
          "output_type": "execute_result"
        }
      ],
      "source": [
        "dataset"
      ]
    },
    {
      "cell_type": "code",
      "execution_count": null,
      "metadata": {
        "id": "W5SYgbURhA2b"
      },
      "outputs": [],
      "source": []
    },
    {
      "cell_type": "code",
      "execution_count": 34,
      "metadata": {
        "colab": {
          "base_uri": "https://localhost:8080/"
        },
        "id": "P2WlZsaDhA6h",
        "outputId": "7eb7b5b7-f1ba-4437-ea37-9e98d7228152"
      },
      "outputs": [
        {
          "data": {
            "text/plain": [
              "array([[ 4.63895186e-03, -2.33361549e-05,  1.85295198e-03, ...,\n",
              "        -1.59515951e-03, -1.62044243e-03,  2.54829545e-03],\n",
              "       [ 1.30101457e-03,  1.02992073e-03, -3.52575568e-03, ...,\n",
              "        -7.19712841e-03, -6.57731235e-03, -1.80086617e-03],\n",
              "       [-1.25966211e-03,  3.11367264e-03,  1.21387781e-03, ...,\n",
              "         5.95253641e-03, -2.40040043e-03,  8.64808486e-04],\n",
              "       ...,\n",
              "       [-4.82364616e-03,  9.44563102e-04, -1.51956586e-04, ...,\n",
              "        -1.73937353e-03,  9.84736669e-04, -3.42026734e-03],\n",
              "       [ 4.89742595e-03,  8.74250705e-04, -5.14601259e-03, ...,\n",
              "         4.75695917e-03, -1.64856739e-03, -9.49486957e-03],\n",
              "       [-2.01352320e-03, -1.02981155e-02,  7.74088816e-03, ...,\n",
              "         8.89783843e-03,  7.29755821e-04,  3.14713659e-03]])"
            ]
          },
          "execution_count": 34,
          "metadata": {},
          "output_type": "execute_result"
        }
      ],
      "source": [
        "dataset.get_preload_weight('nid')"
      ]
    },
    {
      "cell_type": "code",
      "execution_count": null,
      "metadata": {
        "id": "NBCP22Z4hA_n"
      },
      "outputs": [],
      "source": []
    },
    {
      "cell_type": "code",
      "execution_count": null,
      "metadata": {
        "id": "ErcTuloAhBDh"
      },
      "outputs": [],
      "source": []
    },
    {
      "attachments": {},
      "cell_type": "markdown",
      "metadata": {
        "id": "G2G1Z_xIhqm3"
      },
      "source": []
    },
    {
      "cell_type": "code",
      "execution_count": null,
      "metadata": {
        "id": "Z4qEefo3hBIH"
      },
      "outputs": [],
      "source": []
    },
    {
      "cell_type": "code",
      "execution_count": 6,
      "metadata": {
        "id": "XIOo-UBSz397"
      },
      "outputs": [
        {
          "name": "stderr",
          "output_type": "stream",
          "text": [
            "09 May 17:21    INFO  [Training]: train_batch_size = [1024] train_neg_sample_args: [{'distribution': 'none', 'sample_num': 'none', 'alpha': 'none', 'dynamic': False, 'candidate_num': 0}]\n",
            "[Training]: train_batch_size = [1024] train_neg_sample_args: [{'distribution': 'none', 'sample_num': 'none', 'alpha': 'none', 'dynamic': False, 'candidate_num': 0}]\n",
            "09 May 17:21    INFO  [Evaluation]: eval_batch_size = [1024] eval_args: [{'split': {'RS': [0.8, 0.1, 0.1]}, 'group_by': 'user', 'order': 'TO', 'mode': 'uni10'}]\n",
            "[Evaluation]: eval_batch_size = [1024] eval_args: [{'split': {'RS': [0.8, 0.1, 0.1]}, 'group_by': 'user', 'order': 'TO', 'mode': 'uni10'}]\n"
          ]
        }
      ],
      "source": [
        "# dataset splitting\n",
        "train_data, valid_data, test_data = data_preparation(config, dataset)"
      ]
    },
    {
      "cell_type": "code",
      "execution_count": 7,
      "metadata": {
        "id": "GZcRfO9az8Zp"
      },
      "outputs": [
        {
          "name": "stderr",
          "output_type": "stream",
          "text": [
            "09 May 17:21    INFO  GRU4RecExt(\n",
            "  (item_embedding): Embedding(97646, 64, padding_idx=0)\n",
            "  (feature_embed_layer): Embedding(97646, 100)\n",
            "  (item_gru_layers): GRU(64, 64, bias=False, batch_first=True)\n",
            "  (feature_gru_layers): GRU(100, 64, bias=False, batch_first=True)\n",
            "  (dense_layer): Linear(in_features=128, out_features=64, bias=True)\n",
            "  (dropout): Dropout(p=0.3, inplace=False)\n",
            "  (loss_fct): CrossEntropyLoss()\n",
            ")\n",
            "Trainable parameters: 6313664\n",
            "GRU4RecExt(\n",
            "  (item_embedding): Embedding(97646, 64, padding_idx=0)\n",
            "  (feature_embed_layer): Embedding(97646, 100)\n",
            "  (item_gru_layers): GRU(64, 64, bias=False, batch_first=True)\n",
            "  (feature_gru_layers): GRU(100, 64, bias=False, batch_first=True)\n",
            "  (dense_layer): Linear(in_features=128, out_features=64, bias=True)\n",
            "  (dropout): Dropout(p=0.3, inplace=False)\n",
            "  (loss_fct): CrossEntropyLoss()\n",
            ")\n",
            "Trainable parameters: 6313664\n",
            "09 May 17:21    ERROR  Failed to detect the name of this notebook, you can set it manually with the WANDB_NOTEBOOK_NAME environment variable to enable code saving.\n",
            "Failed to detect the name of this notebook, you can set it manually with the WANDB_NOTEBOOK_NAME environment variable to enable code saving.\n",
            "wandb: Currently logged in as: ras-unlucky (rho-corp). Use `wandb login --relogin` to force relogin\n"
          ]
        },
        {
          "data": {
            "application/vnd.jupyter.widget-view+json": {
              "model_id": "92d13b0530544c0c97f94199c4ee77c5",
              "version_major": 2,
              "version_minor": 0
            },
            "text/plain": [
              "VBox(children=(Label(value='Waiting for wandb.init()...\\r'), FloatProgress(value=0.01693333333338766, max=1.0)…"
            ]
          },
          "metadata": {},
          "output_type": "display_data"
        },
        {
          "data": {
            "text/html": [
              "Tracking run with wandb version 0.15.2"
            ],
            "text/plain": [
              "<IPython.core.display.HTML object>"
            ]
          },
          "metadata": {},
          "output_type": "display_data"
        },
        {
          "data": {
            "text/html": [
              "Run data is saved locally in <code>c:\\Users\\Aleksey Ryabykin\\Documents\\GitHub\\feed-ranking\\wandb\\run-20230509_172119-am5gf2ik</code>"
            ],
            "text/plain": [
              "<IPython.core.display.HTML object>"
            ]
          },
          "metadata": {},
          "output_type": "display_data"
        },
        {
          "data": {
            "text/html": [
              "Syncing run <strong><a href='https://wandb.ai/rho-corp/recbole/runs/am5gf2ik' target=\"_blank\">happy-monkey-21</a></strong> to <a href='https://wandb.ai/rho-corp/recbole' target=\"_blank\">Weights & Biases</a> (<a href='https://wandb.me/run' target=\"_blank\">docs</a>)<br/>"
            ],
            "text/plain": [
              "<IPython.core.display.HTML object>"
            ]
          },
          "metadata": {},
          "output_type": "display_data"
        },
        {
          "data": {
            "text/html": [
              " View project at <a href='https://wandb.ai/rho-corp/recbole' target=\"_blank\">https://wandb.ai/rho-corp/recbole</a>"
            ],
            "text/plain": [
              "<IPython.core.display.HTML object>"
            ]
          },
          "metadata": {},
          "output_type": "display_data"
        },
        {
          "data": {
            "text/html": [
              " View run at <a href='https://wandb.ai/rho-corp/recbole/runs/am5gf2ik' target=\"_blank\">https://wandb.ai/rho-corp/recbole/runs/am5gf2ik</a>"
            ],
            "text/plain": [
              "<IPython.core.display.HTML object>"
            ]
          },
          "metadata": {},
          "output_type": "display_data"
        },
        {
          "name": "stderr",
          "output_type": "stream",
          "text": [
            "Train     0:   0%|                                                         | 0/6693 [00:00<?, ?it/s]"
          ]
        }
      ],
      "source": [
        "# model loading and initialization\n",
        "model = GRU4RecExt(config, train_data.dataset).to(config['device'])\n",
        "logger.info(model)\n",
        "\n",
        "# trainer loading and initialization\n",
        "trainer = Trainer(config, model)\n",
        "\n",
        "# model training\n",
        "best_valid_score, best_valid_result = trainer.fit(train_data, valid_data=valid_data, show_progress=True)"
      ]
    },
    {
      "cell_type": "code",
      "execution_count": null,
      "metadata": {
        "id": "5BvNv0NohgTC"
      },
      "outputs": [],
      "source": []
    }
  ],
  "metadata": {
    "accelerator": "GPU",
    "colab": {
      "provenance": []
    },
    "gpuClass": "standard",
    "kernelspec": {
      "display_name": "Python 3",
      "name": "python3"
    },
    "language_info": {
      "codemirror_mode": {
        "name": "ipython",
        "version": 3
      },
      "file_extension": ".py",
      "mimetype": "text/x-python",
      "name": "python",
      "nbconvert_exporter": "python",
      "pygments_lexer": "ipython3",
      "version": "3.10.8"
    }
  },
  "nbformat": 4,
  "nbformat_minor": 0
}
