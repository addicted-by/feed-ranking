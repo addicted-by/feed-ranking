{
 "cells": [
  {
   "cell_type": "code",
   "execution_count": null,
   "metadata": {},
   "outputs": [],
   "source": [
    "from sklearn.manifold import TSNE\n",
    "from bokeh.plotting import figure, show, output_file, save\n",
    "from bokeh.models import ColumnDataSource, HoverTool\n",
    "from bokeh.io import output_notebook\n",
    "from bokeh.palettes import Category20\n",
    "import pandas as pd\n",
    "from bokeh.transform import factor_cmap\n",
    "import gc\n",
    "\n",
    "output_notebook()"
   ]
  },
  {
   "cell_type": "code",
   "execution_count": 2,
   "metadata": {},
   "outputs": [],
   "source": [
    "import os\n",
    "TRAIN_DATA_PATH = 'data/mind_large_train/news.tsv'\n",
    "TEST_DATA_PATH = 'data/mind_large_dev/news.tsv'\n",
    "assert os.path.exists(TRAIN_DATA_PATH)\n",
    "assert os.path.exists(TEST_DATA_PATH)\n",
    "\n",
    "\n",
    "\n",
    "import pandas as pd\n",
    "\n",
    "train_df = pd.read_csv(TRAIN_DATA_PATH, sep='\\t', names=['news_id', 'category', 'subcategory', 'title', 'abstract', 'url', 'title_entities', 'abstract_entities'])\n",
    "test_df =  pd.read_csv(TEST_DATA_PATH, sep='\\t', names=['news_id', 'category', 'subcategory', 'title', 'abstract', 'url', 'title_entities', 'abstract_entities'])\n",
    "train_df.drop(columns=['url', 'title_entities', 'abstract_entities', 'abstract'], inplace=True)\n",
    "test_df.drop(columns=['url', 'title_entities', 'abstract_entities', 'abstract'], inplace=True)\n",
    "\n",
    "\n",
    "df = pd.concat([train_df, test_df]).drop_duplicates()\n",
    "del train_df, test_df\n",
    "gc.collect()"
   ]
  },
  {
   "cell_type": "code",
   "execution_count": 9,
   "metadata": {},
   "outputs": [
    {
     "data": {
      "text/plain": [
       "14"
      ]
     },
     "execution_count": 9,
     "metadata": {},
     "output_type": "execute_result"
    }
   ],
   "source": [
    "EMBEDDINGS_PATH = 'data/preprocessed/mind_small/mind_small.sumemb'\n",
    "emb_df = pd.read_csv(EMBEDDINGS_PATH, sep='\\t')\n",
    "\n",
    "df_with_emb = emb_df.merge(df, how='left', left_on='sid:token', right_on='news_id')\n",
    "assert not df_with_emb.isna().sum().sum()\n",
    "\n",
    "del emb_df\n",
    "gc.collect()"
   ]
  },
  {
   "cell_type": "code",
   "execution_count": 10,
   "metadata": {},
   "outputs": [],
   "source": [
    "unique_genres = df['category'].unique()\n",
    "num_genres = len(unique_genres)\n",
    "\n",
    "colormap = Category20[num_genres]\n",
    "genre_colors = {genre: colormap[i % num_genres] for i, genre in enumerate(unique_genres)}"
   ]
  },
  {
   "attachments": {},
   "cell_type": "markdown",
   "metadata": {},
   "source": []
  },
  {
   "cell_type": "code",
   "execution_count": 23,
   "metadata": {},
   "outputs": [],
   "source": [
    "import numpy as np\n",
    "def visualize_embeddings(df: pd.DataFrame, title: str,\n",
    "                         embedding_col: str, \n",
    "                         embedding_count: int=500,\n",
    "                         subcategory: str=None):\n",
    "\n",
    "    df_tmp = df.head(embedding_count).copy(deep=True)\n",
    "    df_tmp[embedding_col] = df_tmp[embedding_col].apply(lambda row: np.asarray([float(number) for number in row.split()], dtype=float))\n",
    "    tsne = TSNE(init='pca', learning_rate='auto',\n",
    "                n_components=2, \n",
    "                random_state=0xDEAD)\n",
    "    embeddings_2d = tsne.fit_transform(np.asarray(df_tmp[embedding_col].tolist()))\n",
    "    print('TSNE done')\n",
    "\n",
    "    df_tmp['embedding_2D_0'] = embeddings_2d[:, 0]\n",
    "    df_tmp['embedding_2D_1'] = embeddings_2d[:, 1]\n",
    "\n",
    "    output_file(filename=f\"{'_'.join(title.lower().split())}.html\", title=title)\n",
    "    source = ColumnDataSource(df_tmp)\n",
    "\n",
    "    # Create the figure and add glyphs\n",
    "    p = figure(title=title, x_axis_label='Embedding Dimension 1', y_axis_label='Embedding Dimension 2')\n",
    "    p.scatter('embedding_2D_0', 'embedding_2D_1', source=source, color=factor_cmap('category', palette=colormap, factors=unique_genres))\n",
    "    hover = HoverTool(tooltips=[('Title', '@title'), ('Category', '@category')])\n",
    "    p.add_tools(hover)\n",
    "    show(p)\n",
    "    print(\"Saving\")\n",
    "    save(p)\n",
    "    gc.collect()"
   ]
  },
  {
   "cell_type": "code",
   "execution_count": null,
   "metadata": {},
   "outputs": [],
   "source": [
    "visualize_embeddings(df_with_emb, 'Summarization Embeddings Visualization', 'summarization_emb:float_seq', 20000)"
   ]
  },
  {
   "cell_type": "code",
   "execution_count": 28,
   "metadata": {},
   "outputs": [
    {
     "data": {
      "text/html": [
       "<div>\n",
       "<style scoped>\n",
       "    .dataframe tbody tr th:only-of-type {\n",
       "        vertical-align: middle;\n",
       "    }\n",
       "\n",
       "    .dataframe tbody tr th {\n",
       "        vertical-align: top;\n",
       "    }\n",
       "\n",
       "    .dataframe thead th {\n",
       "        text-align: right;\n",
       "    }\n",
       "</style>\n",
       "<table border=\"1\" class=\"dataframe\">\n",
       "  <thead>\n",
       "    <tr style=\"text-align: right;\">\n",
       "      <th></th>\n",
       "      <th>nid:token</th>\n",
       "      <th>title_emb:float_seq</th>\n",
       "      <th>news_id</th>\n",
       "      <th>category</th>\n",
       "      <th>subcategory</th>\n",
       "      <th>title</th>\n",
       "    </tr>\n",
       "  </thead>\n",
       "  <tbody>\n",
       "    <tr>\n",
       "      <th>46426</th>\n",
       "      <td>N27924</td>\n",
       "      <td>-0.030792 -0.050139500000000004 -0.0137535 -0....</td>\n",
       "      <td>N27924</td>\n",
       "      <td>sports</td>\n",
       "      <td>basketball_nba</td>\n",
       "      <td>Karl-Anthony Towns, Joel Embiid trade shots on...</td>\n",
       "    </tr>\n",
       "  </tbody>\n",
       "</table>\n",
       "</div>"
      ],
      "text/plain": [
       "      nid:token                                title_emb:float_seq news_id  \\\n",
       "46426    N27924  -0.030792 -0.050139500000000004 -0.0137535 -0....  N27924   \n",
       "\n",
       "      category     subcategory  \\\n",
       "46426   sports  basketball_nba   \n",
       "\n",
       "                                                   title  \n",
       "46426  Karl-Anthony Towns, Joel Embiid trade shots on...  "
      ]
     },
     "execution_count": 28,
     "metadata": {},
     "output_type": "execute_result"
    }
   ],
   "source": [
    "EMBEDDINGS_PATH = 'data/preprocessed/mind_small/mind_small.newsemb'\n",
    "emb_df = pd.read_csv(EMBEDDINGS_PATH, sep='\\t')\n",
    "\n",
    "df_with_emb = emb_df.merge(df, how='left', left_on='nid:token', right_on='news_id')\n",
    "assert not df_with_emb.isna().sum().sum()\n",
    "\n",
    "del emb_df\n",
    "gc.collect()\n",
    "df_with_emb.sample(1)"
   ]
  },
  {
   "cell_type": "code",
   "execution_count": null,
   "metadata": {},
   "outputs": [],
   "source": [
    "visualize_embeddings(df_with_emb, 'Title Entities (MEAN) Embeddings Visualization', 'title_emb:float_seq', 20000)"
   ]
  },
  {
   "cell_type": "code",
   "execution_count": 31,
   "metadata": {},
   "outputs": [
    {
     "data": {
      "text/html": [
       "<div>\n",
       "<style scoped>\n",
       "    .dataframe tbody tr th:only-of-type {\n",
       "        vertical-align: middle;\n",
       "    }\n",
       "\n",
       "    .dataframe tbody tr th {\n",
       "        vertical-align: top;\n",
       "    }\n",
       "\n",
       "    .dataframe thead th {\n",
       "        text-align: right;\n",
       "    }\n",
       "</style>\n",
       "<table border=\"1\" class=\"dataframe\">\n",
       "  <thead>\n",
       "    <tr style=\"text-align: right;\">\n",
       "      <th></th>\n",
       "      <th>aid:token</th>\n",
       "      <th>abstract_emb:float_seq</th>\n",
       "      <th>news_id</th>\n",
       "      <th>category</th>\n",
       "      <th>subcategory</th>\n",
       "      <th>title</th>\n",
       "    </tr>\n",
       "  </thead>\n",
       "  <tbody>\n",
       "    <tr>\n",
       "      <th>39629</th>\n",
       "      <td>N78545</td>\n",
       "      <td>-0.004432 0.0089 0.020402 0.063929 -0.038808 0...</td>\n",
       "      <td>N78545</td>\n",
       "      <td>video</td>\n",
       "      <td>news</td>\n",
       "      <td>Tucker: You're going to be seeing a lot of Eli...</td>\n",
       "    </tr>\n",
       "  </tbody>\n",
       "</table>\n",
       "</div>"
      ],
      "text/plain": [
       "      aid:token                             abstract_emb:float_seq news_id  \\\n",
       "39629    N78545  -0.004432 0.0089 0.020402 0.063929 -0.038808 0...  N78545   \n",
       "\n",
       "      category subcategory                                              title  \n",
       "39629    video        news  Tucker: You're going to be seeing a lot of Eli...  "
      ]
     },
     "execution_count": 31,
     "metadata": {},
     "output_type": "execute_result"
    }
   ],
   "source": [
    "EMBEDDINGS_PATH = 'data/preprocessed/mind_small/mind_small.absemb'\n",
    "emb_df = pd.read_csv(EMBEDDINGS_PATH, sep='\\t')\n",
    "\n",
    "df_with_emb = emb_df.merge(df, how='left', left_on='aid:token', right_on='news_id')\n",
    "assert not df_with_emb.isna().sum().sum()\n",
    "\n",
    "del emb_df\n",
    "gc.collect()\n",
    "df_with_emb.sample(1)"
   ]
  },
  {
   "cell_type": "code",
   "execution_count": null,
   "metadata": {},
   "outputs": [],
   "source": [
    "visualize_embeddings(df_with_emb, 'Abstract Entities (MEAN) Embeddings Visualization', 'abstract_emb:float_seq', 20000)"
   ]
  },
  {
   "cell_type": "code",
   "execution_count": 34,
   "metadata": {},
   "outputs": [
    {
     "data": {
      "text/html": [
       "<div>\n",
       "<style scoped>\n",
       "    .dataframe tbody tr th:only-of-type {\n",
       "        vertical-align: middle;\n",
       "    }\n",
       "\n",
       "    .dataframe tbody tr th {\n",
       "        vertical-align: top;\n",
       "    }\n",
       "\n",
       "    .dataframe thead th {\n",
       "        text-align: right;\n",
       "    }\n",
       "</style>\n",
       "<table border=\"1\" class=\"dataframe\">\n",
       "  <thead>\n",
       "    <tr style=\"text-align: right;\">\n",
       "      <th></th>\n",
       "      <th>cid:token</th>\n",
       "      <th>clf_emb:float_seq</th>\n",
       "      <th>news_id</th>\n",
       "      <th>category</th>\n",
       "      <th>subcategory</th>\n",
       "      <th>title</th>\n",
       "    </tr>\n",
       "  </thead>\n",
       "  <tbody>\n",
       "    <tr>\n",
       "      <th>26117</th>\n",
       "      <td>N87883</td>\n",
       "      <td>-0.7142041921615601 0.39405933022499084 0.2282...</td>\n",
       "      <td>N87883</td>\n",
       "      <td>sports</td>\n",
       "      <td>basketball_ncaa</td>\n",
       "      <td>River Hill field hockey falls to Urbana in sta...</td>\n",
       "    </tr>\n",
       "  </tbody>\n",
       "</table>\n",
       "</div>"
      ],
      "text/plain": [
       "      cid:token                                  clf_emb:float_seq news_id  \\\n",
       "26117    N87883  -0.7142041921615601 0.39405933022499084 0.2282...  N87883   \n",
       "\n",
       "      category      subcategory  \\\n",
       "26117   sports  basketball_ncaa   \n",
       "\n",
       "                                                   title  \n",
       "26117  River Hill field hockey falls to Urbana in sta...  "
      ]
     },
     "execution_count": 34,
     "metadata": {},
     "output_type": "execute_result"
    }
   ],
   "source": [
    "EMBEDDINGS_PATH = 'data/preprocessed/mind_small/mind_small.clfembb'\n",
    "emb_df = pd.read_csv(EMBEDDINGS_PATH, sep='\\t')\n",
    "\n",
    "df_with_emb = emb_df.merge(df, how='left', left_on='cid:token', right_on='news_id')\n",
    "assert not df_with_emb.isna().sum().sum()\n",
    "\n",
    "del emb_df\n",
    "gc.collect()\n",
    "df_with_emb.sample(1)"
   ]
  },
  {
   "cell_type": "code",
   "execution_count": null,
   "metadata": {},
   "outputs": [],
   "source": [
    "visualize_embeddings(df_with_emb, 'Classification Embeddings Visualization', 'clf_emb:float_seq', 20000)"
   ]
  }
 ],
 "metadata": {
  "kernelspec": {
   "display_name": "Python 3",
   "language": "python",
   "name": "python3"
  },
  "language_info": {
   "codemirror_mode": {
    "name": "ipython",
    "version": 3
   },
   "file_extension": ".py",
   "mimetype": "text/x-python",
   "name": "python",
   "nbconvert_exporter": "python",
   "pygments_lexer": "ipython3",
   "version": "3.10.8"
  },
  "orig_nbformat": 4
 },
 "nbformat": 4,
 "nbformat_minor": 2
}
