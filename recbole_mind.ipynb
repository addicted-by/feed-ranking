{
 "cells": [
  {
   "cell_type": "code",
   "execution_count": null,
   "metadata": {},
   "outputs": [],
   "source": [
    "import logging\n",
    "from logging import getLogger\n",
    "from recbole.config import Config\n",
    "from recbole.data import create_dataset, data_preparation\n",
    "from recbole.model.sequential_recommender import GRU4Rec, FPMC, GRU4RecF, BERT4Rec, FOSSIL\n",
    "from recbole.model.general_recommender import BPR, FISM, DMF, FISM, ItemKNN, MultiVAE, NeuMF, SpectralCF\n",
    "from recbole.model.context_aware_recommender import DSSM\n",
    "from recbole.trainer import Trainer\n",
    "from recbole.utils import init_seed, init_logger\n",
    "import pandas as pd\n",
    "import os"
   ]
  },
  {
   "cell_type": "code",
   "execution_count": null,
   "metadata": {},
   "outputs": [],
   "source": [
    "DATA_PATH = './data/mind/preprocessed/'\n",
    "\n",
    "INTER_DATA_PATH = os.path.join(DATA_PATH, \"mind_large_train.inter\")\n",
    "ITEM_DATA_PATH = os.path.join(DATA_PATH, \"mind_large_train.item\")"
   ]
  },
  {
   "cell_type": "code",
   "execution_count": null,
   "metadata": {},
   "outputs": [],
   "source": [
    "inter_df = pd.read_csv(INTER_DATA_PATH, sep='\\t')"
   ]
  },
  {
   "cell_type": "code",
   "execution_count": null,
   "metadata": {},
   "outputs": [],
   "source": [
    "inter_df.sample(5)"
   ]
  },
  {
   "cell_type": "code",
   "execution_count": null,
   "metadata": {},
   "outputs": [],
   "source": [
    "item_df = pd.read_csv(ITEM_DATA_PATH, sep='\\t')"
   ]
  },
  {
   "cell_type": "code",
   "execution_count": null,
   "metadata": {},
   "outputs": [],
   "source": [
    "from recbole.quick_start import run_recbole\n",
    "from utils.utils import load_config\n",
    "cfg_path = \"./configs/general/bpr.yaml\"\n",
    "\n",
    "config_dict = load_config(cfg_path)\n",
    "run_recbole(\n",
    "    model='BPR',\n",
    "    dataset='mind_small',\n",
    "    config_dict=config_dict\n",
    ")"
   ]
  },
  {
   "cell_type": "code",
   "execution_count": 7,
   "metadata": {},
   "outputs": [],
   "source": [
    "import gdown\n",
    "import os"
   ]
  },
  {
   "cell_type": "code",
   "execution_count": 8,
   "metadata": {},
   "outputs": [
    {
     "data": {
      "text/plain": [
       "'c:\\\\Users\\\\Aleksey Ryabykin\\\\Documents\\\\GitHub\\\\feed-ranking'"
      ]
     },
     "execution_count": 8,
     "metadata": {},
     "output_type": "execute_result"
    }
   ],
   "source": [
    "os.getcwd()"
   ]
  },
  {
   "cell_type": "code",
   "execution_count": 2,
   "metadata": {},
   "outputs": [],
   "source": [
    "from utils.utils import load_config, load_data"
   ]
  },
  {
   "cell_type": "code",
   "execution_count": 3,
   "metadata": {},
   "outputs": [
    {
     "name": "stdout",
     "output_type": "stream",
     "text": [
      "Creating dir data\n",
      "Loading data\n"
     ]
    },
    {
     "name": "stderr",
     "output_type": "stream",
     "text": [
      "Retrieving folder list\n"
     ]
    },
    {
     "name": "stdout",
     "output_type": "stream",
     "text": [
      "Processing file 1M-48Y8oTk0p77jJ6Q_JjbteqBwo6d249 mind_small.dev.inter\n",
      "Processing file 1Ti49GHmiJJmON_VjxZgSf5zsjNMwMR5S mind_small.dev.item\n",
      "Processing file 1k-2vSdwjPvwINsOW8tHS3xAVzJ_Fewwo mind_small.train.inter\n",
      "Processing file 1z_MPGmg65M6fTcNcq1UI34cBTW6XTLFz mind_small.train.item\n",
      "Building directory structure completed\n"
     ]
    },
    {
     "name": "stderr",
     "output_type": "stream",
     "text": [
      "Retrieving folder list completed\n",
      "Building directory structure\n",
      "Downloading...\n",
      "From: https://drive.google.com/uc?id=1M-48Y8oTk0p77jJ6Q_JjbteqBwo6d249\n",
      "To: c:\\Users\\Aleksey Ryabykin\\Documents\\GitHub\\feed-ranking\\data\\preprocessed\\mind_small\\mind_small.dev.inter\n",
      "100%|██████████| 70.4M/70.4M [00:06<00:00, 11.4MB/s]\n",
      "Downloading...\n",
      "From: https://drive.google.com/uc?id=1Ti49GHmiJJmON_VjxZgSf5zsjNMwMR5S\n",
      "To: c:\\Users\\Aleksey Ryabykin\\Documents\\GitHub\\feed-ranking\\data\\preprocessed\\mind_small\\mind_small.dev.item\n",
      "100%|██████████| 33.5M/33.5M [00:02<00:00, 11.3MB/s]\n",
      "Downloading...\n",
      "From (uriginal): https://drive.google.com/uc?id=1k-2vSdwjPvwINsOW8tHS3xAVzJ_Fewwo\n",
      "From (redirected): https://drive.google.com/uc?id=1k-2vSdwjPvwINsOW8tHS3xAVzJ_Fewwo&confirm=t&uuid=c16eb59d-7e3c-46b9-912f-de5cee8e34a3\n",
      "To: c:\\Users\\Aleksey Ryabykin\\Documents\\GitHub\\feed-ranking\\data\\preprocessed\\mind_small\\mind_small.train.inter\n",
      "100%|██████████| 150M/150M [00:13<00:00, 11.2MB/s] \n",
      "Downloading...\n",
      "From: https://drive.google.com/uc?id=1z_MPGmg65M6fTcNcq1UI34cBTW6XTLFz\n",
      "To: c:\\Users\\Aleksey Ryabykin\\Documents\\GitHub\\feed-ranking\\data\\preprocessed\\mind_small\\mind_small.train.item\n",
      "100%|██████████| 41.2M/41.2M [00:03<00:00, 11.3MB/s]"
     ]
    },
    {
     "name": "stdout",
     "output_type": "stream",
     "text": [
      "Check c:\\Users\\Aleksey Ryabykin\\Documents\\GitHub\\feed-ranking\\data/preprocessed/mind_small\n"
     ]
    },
    {
     "name": "stderr",
     "output_type": "stream",
     "text": [
      "\n",
      "Download completed\n"
     ]
    }
   ],
   "source": [
    "load_data(\"mind_small\")"
   ]
  },
  {
   "cell_type": "code",
   "execution_count": 19,
   "metadata": {},
   "outputs": [],
   "source": [
    "import re\n",
    "from itertools import cycle\n",
    "\n",
    "def parse_log(logname):\n",
    "    # Define patterns for extracting metrics and loss\n",
    "    epoch_pattern = re.compile(r\"epoch (\\d+) \")\n",
    "    metric_pattern = re.compile(r\"(\\w+)@(\\d+) : (\\d+\\.\\d+)\")\n",
    "    topk_pattern = re.compile(r\"topk = \\[(\\d+(?:,\\d+)*)\\]\")\n",
    "\n",
    "    metric_names = [\"precision\", \"recall\", \"ndcg\", \"map\"]\n",
    "\n",
    "    last_metrics = None\n",
    "    # Iterate through each line in the log\n",
    "    with open(logname, \"r\") as f:\n",
    "        for line in f:\n",
    "            line = line.strip()\n",
    "            topk_match = topk_pattern.search(line)\n",
    "            print(line, topk_match)\n",
    "            if topk_match:\n",
    "                last_metrics = {\n",
    "                    f\"{name}@{i}\": None for name in metric_names for i in []\n",
    "                }\n",
    "                last_metrics[\"train_loss\"] = None\n",
    "                last_metrics[\"valid_score\"] = None\n",
    "            epoch_match = epoch_pattern.search(line)\n",
    "            if last_metrics:\n",
    "                if epoch_match:\n",
    "                    epoch_num = int(epoch_match.group(1))\n",
    "                    last_metrics[\"epoch\"] = epoch_num\n",
    "\n",
    "                train_loss_match = re.search(r\"train loss: (\\d+\\.\\d+)\", line)\n",
    "                if train_loss_match:\n",
    "                    last_metrics[\"train_loss\"] = float(train_loss_match.group(1))\n",
    "\n",
    "                for name, pos, value in re.findall(metric_pattern, line):\n",
    "                    last_metrics[f\"{name}@{pos}\"] = float(value)\n",
    "\n",
    "                if last_metrics[\"valid_score\"] is not None:\n",
    "                    last_pos = int(list(last_metrics.keys())[-2][-1])\n",
    "                    for i, name in zip(range(last_pos + 1, 11), cycle(metric_names)):\n",
    "                        last_metrics[f\"{name}@{i}\"] = last_metrics[f\"{name}@{last_pos}\"]\n",
    "\n",
    "    return last_metrics"
   ]
  },
  {
   "cell_type": "code",
   "execution_count": null,
   "metadata": {},
   "outputs": [],
   "source": [
    "from recbole.model.context_aware_recommender import DSSM"
   ]
  },
  {
   "cell_type": "code",
   "execution_count": 20,
   "metadata": {},
   "outputs": [
    {
     "name": "stdout",
     "output_type": "stream",
     "text": [
      "Mon 08 May 2023 17:10:45 INFO  ['experiments/general/bpr.py'] None\n",
      "Mon 08 May 2023 17:10:45 INFO None\n",
      "General Hyper Parameters: None\n",
      "gpu_id = 0 None\n",
      "use_gpu = True None\n",
      "seed = 2020 None\n",
      "state = INFO None\n",
      "reproducibility = True None\n",
      "data_path = data/preprocessed/mind_small None\n",
      "checkpoint_dir = saved None\n",
      "show_progress = True None\n",
      "save_dataset = False None\n",
      "dataset_save_path = None None\n",
      "save_dataloaders = False None\n",
      "dataloaders_save_path = None None\n",
      "log_wandb = True None\n",
      " None\n",
      "Training Hyper Parameters: None\n",
      "epochs = 50 None\n",
      "train_batch_size = 2048 None\n",
      "learner = adam None\n",
      "learning_rate = 0.001 None\n",
      "train_neg_sample_args = {'uniform': 1, 'distribution': 'uniform', 'sample_num': 1, 'alpha': 1.0, 'dynamic': False, 'candidate_num': 0} None\n",
      "eval_step = 1 None\n",
      "stopping_step = 10 None\n",
      "clip_grad_norm = None None\n",
      "weight_decay = 0.0 None\n",
      "loss_decimal_place = 4 None\n",
      " None\n",
      "Evaluation Hyper Parameters: None\n",
      "eval_args = {'split': {'RS': [0.8, 0.1, 0.1]}, 'group_by': 'user', 'order': 'TO', 'mode': 'full'} None\n",
      "repeatable = False None\n",
      "metrics = ['Precision', 'Recall', 'NDCG', 'MAP'] None\n",
      "topk = [1, 2, 5, 7, 10] None\n",
      "valid_metric = NDCG@10 None\n",
      "valid_metric_bigger = True None\n",
      "eval_batch_size = 4096 None\n",
      "metric_decimal_place = 4 None\n",
      " None\n",
      "Dataset Hyper Parameters: None\n",
      "field_separator = None\n",
      "seq_separator = None\n",
      "USER_ID_FIELD = user_id None\n",
      "ITEM_ID_FIELD = item_id None\n",
      "RATING_FIELD = rating None\n",
      "TIME_FIELD = timestamp None\n",
      "seq_len = None None\n",
      "LABEL_FIELD = label None\n",
      "threshold = None None\n",
      "NEG_PREFIX = neg_ None\n",
      "load_col = {'inter': ['user_id', 'item_id', 'label', 'timestamp']} None\n",
      "unload_col = None None\n",
      "unused_col = None None\n",
      "additional_feat_suffix = None None\n",
      "rm_dup_inter = None None\n",
      "val_interval = None None\n",
      "filter_inter_by_user_or_item = True None\n",
      "user_inter_num_interval = [0,inf) None\n",
      "item_inter_num_interval = [0,inf) None\n",
      "alias_of_user_id = None None\n",
      "alias_of_item_id = None None\n",
      "alias_of_entity_id = None None\n",
      "alias_of_relation_id = None None\n",
      "preload_weight = None None\n",
      "normalize_field = None None\n",
      "normalize_all = None None\n",
      "ITEM_LIST_LENGTH_FIELD = item_length None\n",
      "LIST_SUFFIX = _list None\n",
      "MAX_ITEM_LIST_LENGTH = 50 None\n",
      "POSITION_FIELD = position_id None\n",
      "HEAD_ENTITY_ID_FIELD = head_id None\n",
      "TAIL_ENTITY_ID_FIELD = tail_id None\n",
      "RELATION_ID_FIELD = relation_id None\n",
      "ENTITY_ID_FIELD = entity_id None\n",
      "benchmark_filename = ['train', 'dev', 'dev'] None\n",
      " None\n",
      "Other Hyper Parameters: None\n",
      "worker = 0 None\n",
      "wandb_project = recbole None\n",
      "shuffle = True None\n",
      "require_pow = False None\n",
      "enable_amp = False None\n",
      "enable_scaler = False None\n",
      "transform = None None\n",
      "embedding_size = 64 None\n",
      "numerical_features = [] None\n",
      "discretization = None None\n",
      "kg_reverse_r = False None\n",
      "entity_kg_num_interval = [0,inf) None\n",
      "relation_kg_num_interval = [0,inf) None\n",
      "MODEL_TYPE = ModelType.GENERAL None\n",
      "min_user_inter_num = 5 None\n",
      "min_item_inter_num = 5 None\n",
      "MODEL_INPUT_TYPE = InputType.PAIRWISE None\n",
      "eval_type = EvaluatorType.RANKING None\n",
      "single_spec = True None\n",
      "local_rank = 0 None\n",
      "device = cuda None\n",
      "eval_neg_sample_args = {'distribution': 'uniform', 'sample_num': 'none'} None\n",
      " None\n",
      " None\n",
      "Mon 08 May 2023 17:11:44 INFO  mind_small None\n",
      "The number of users: 94058 None\n",
      "Average actions of users: 120.41038944469842 None\n",
      "The number of items: 22772 None\n",
      "Average actions of items: 497.36243467568397 None\n",
      "The number of inters: 11325440 None\n",
      "The sparsity of the dataset: 99.47124051785966% None\n",
      "Remain Fields: ['user_id', 'item_id', 'label', 'timestamp'] None\n",
      "Mon 08 May 2023 17:11:59 INFO  [Training]: train_batch_size = [2048] train_neg_sample_args: [{'uniform': 1, 'distribution': 'uniform', 'sample_num': 1, 'alpha': 1.0, 'dynamic': False, 'candidate_num': 0}] None\n",
      "Mon 08 May 2023 17:11:59 INFO  [Evaluation]: eval_batch_size = [4096] eval_args: [{'split': {'RS': [0.8, 0.1, 0.1]}, 'group_by': 'user', 'order': 'TO', 'mode': 'full'}] None\n",
      "Mon 08 May 2023 17:12:06 INFO  BPR( None\n",
      "(user_embedding): Embedding(94058, 64) None\n",
      "(item_embedding): Embedding(22772, 64) None\n",
      "(loss): BPRLoss() None\n",
      ") None\n",
      "Trainable parameters: 7477120 None\n",
      "Mon 08 May 2023 17:12:06 INFO  FLOPs: 128.0 None\n",
      "Mon 08 May 2023 17:12:45 INFO  epoch 0 training [time: 17.22s, train loss: 468.6122] None\n",
      "Mon 08 May 2023 17:14:37 INFO  epoch 0 evaluating [time: 111.86s, valid_score: 0.003500] None\n",
      "Mon 08 May 2023 17:14:37 INFO  valid result: None\n",
      "precision@1 : 0.0022    precision@2 : 0.0028    precision@5 : 0.0036    precision@7 : 0.0037    precision@10 : 0.0037    recall@1 : 0.0    recall@2 : 0.0001    recall@5 : 0.0003    recall@7 : 0.0004    recall@10 : 0.0006    ndcg@1 : 0.0022    ndcg@2 : 0.0027    ndcg@5 : 0.0033    ndcg@7 : 0.0035    ndcg@10 : 0.0035    map@1 : 0.0022    map@2 : 0.002    map@5 : 0.0015    map@7 : 0.0013    map@10 : 0.0011 None\n",
      "Mon 08 May 2023 17:14:37 INFO  Saving current: saved/BPR-May-08-2023_17-12-28.pth None\n",
      "Mon 08 May 2023 17:14:55 INFO  epoch 1 training [time: 17.55s, train loss: 222.1562] None\n",
      "Mon 08 May 2023 17:16:41 INFO  epoch 1 evaluating [time: 106.59s, valid_score: 0.006300] None\n",
      "Mon 08 May 2023 17:16:41 INFO  valid result: None\n",
      "precision@1 : 0.0057    precision@2 : 0.0058    precision@5 : 0.0063    precision@7 : 0.0064    precision@10 : 0.0064    recall@1 : 0.0001    recall@2 : 0.0002    recall@5 : 0.0006    recall@7 : 0.0009    recall@10 : 0.0013    ndcg@1 : 0.0057    ndcg@2 : 0.0058    ndcg@5 : 0.0061    ndcg@7 : 0.0062    ndcg@10 : 0.0063    map@1 : 0.0057    map@2 : 0.0044    map@5 : 0.003    map@7 : 0.0025    map@10 : 0.0021 None\n",
      "Mon 08 May 2023 17:16:42 INFO  Saving current: saved/BPR-May-08-2023_17-12-28.pth None\n",
      "Mon 08 May 2023 17:16:59 INFO  epoch 2 training [time: 17.48s, train loss: 193.3717] None\n",
      "Mon 08 May 2023 17:18:48 INFO  epoch 2 evaluating [time: 108.59s, valid_score: 0.005400] None\n",
      "Mon 08 May 2023 17:18:48 INFO  valid result: None\n",
      "precision@1 : 0.0042    precision@2 : 0.0045    precision@5 : 0.0051    precision@7 : 0.0054    precision@10 : 0.0057    recall@1 : 0.0001    recall@2 : 0.0001    recall@5 : 0.0004    recall@7 : 0.0005    recall@10 : 0.0008    ndcg@1 : 0.0042    ndcg@2 : 0.0045    ndcg@5 : 0.0049    ndcg@7 : 0.0052    ndcg@10 : 0.0054    map@1 : 0.0042    map@2 : 0.0035    map@5 : 0.0025    map@7 : 0.0022    map@10 : 0.0019 None\n",
      "Mon 08 May 2023 17:19:05 INFO  epoch 3 training [time: 17.46s, train loss: 170.1745] None\n",
      "Mon 08 May 2023 17:20:52 INFO  epoch 3 evaluating [time: 107.19s, valid_score: 0.008500] None\n",
      "Mon 08 May 2023 17:20:52 INFO  valid result: None\n",
      "precision@1 : 0.0097    precision@2 : 0.0088    precision@5 : 0.0083    precision@7 : 0.0083    precision@10 : 0.0084    recall@1 : 0.0001    recall@2 : 0.0002    recall@5 : 0.0006    recall@7 : 0.0008    recall@10 : 0.0012    ndcg@1 : 0.0097    ndcg@2 : 0.009    ndcg@5 : 0.0086    ndcg@7 : 0.0085    ndcg@10 : 0.0085    map@1 : 0.0097    map@2 : 0.0072    map@5 : 0.0047    map@7 : 0.004    map@10 : 0.0034 None\n",
      "Mon 08 May 2023 17:20:53 INFO  Saving current: saved/BPR-May-08-2023_17-12-28.pth None\n",
      "Mon 08 May 2023 17:21:10 INFO  epoch 4 training [time: 17.54s, train loss: 148.2402] None\n",
      "Mon 08 May 2023 17:23:01 INFO  epoch 4 evaluating [time: 110.23s, valid_score: 0.009100] None\n",
      "Mon 08 May 2023 17:23:01 INFO  valid result: None\n",
      "precision@1 : 0.0097    precision@2 : 0.0095    precision@5 : 0.0091    precision@7 : 0.009    precision@10 : 0.0089    recall@1 : 0.0001    recall@2 : 0.0003    recall@5 : 0.0007    recall@7 : 0.0009    recall@10 : 0.0013    ndcg@1 : 0.0097    ndcg@2 : 0.0095    ndcg@5 : 0.0092    ndcg@7 : 0.0091    ndcg@10 : 0.0091    map@1 : 0.0097    map@2 : 0.0077    map@5 : 0.0052    map@7 : 0.0044    map@10 : 0.0037 None\n",
      "Mon 08 May 2023 17:23:01 INFO  Saving current: saved/BPR-May-08-2023_17-12-28.pth None\n",
      "Mon 08 May 2023 17:23:18 INFO  epoch 5 training [time: 17.18s, train loss: 129.8447] None\n",
      "Mon 08 May 2023 17:25:06 INFO  epoch 5 evaluating [time: 107.70s, valid_score: 0.009700] None\n",
      "Mon 08 May 2023 17:25:06 INFO  valid result: None\n",
      "precision@1 : 0.0114    precision@2 : 0.0105    precision@5 : 0.0098    precision@7 : 0.0095    precision@10 : 0.0093    recall@1 : 0.0002    recall@2 : 0.0003    recall@5 : 0.0007    recall@7 : 0.001    recall@10 : 0.0014    ndcg@1 : 0.0114    ndcg@2 : 0.0107    ndcg@5 : 0.0101    ndcg@7 : 0.0099    ndcg@10 : 0.0097    map@1 : 0.0114    map@2 : 0.0087    map@5 : 0.0058    map@7 : 0.0049    map@10 : 0.0041 None\n",
      "Mon 08 May 2023 17:25:06 INFO  Saving current: saved/BPR-May-08-2023_17-12-28.pth None\n",
      "Mon 08 May 2023 17:25:24 INFO  epoch 6 training [time: 17.45s, train loss: 113.1302] None\n",
      "Mon 08 May 2023 17:27:14 INFO  epoch 6 evaluating [time: 110.61s, valid_score: 0.010500] None\n",
      "Mon 08 May 2023 17:27:14 INFO  valid result: None\n",
      "precision@1 : 0.0121    precision@2 : 0.0114    precision@5 : 0.0105    precision@7 : 0.0103    precision@10 : 0.0101    recall@1 : 0.0002    recall@2 : 0.0003    recall@5 : 0.0008    recall@7 : 0.0011    recall@10 : 0.0015    ndcg@1 : 0.0121    ndcg@2 : 0.0116    ndcg@5 : 0.0108    ndcg@7 : 0.0106    ndcg@10 : 0.0105    map@1 : 0.0121    map@2 : 0.0095    map@5 : 0.0063    map@7 : 0.0053    map@10 : 0.0045 None\n",
      "Mon 08 May 2023 17:27:15 INFO  Saving current: saved/BPR-May-08-2023_17-12-28.pth None\n",
      "Mon 08 May 2023 17:27:32 INFO  epoch 7 training [time: 17.77s, train loss: 100.5115] None\n",
      "Mon 08 May 2023 17:29:22 INFO  epoch 7 evaluating [time: 109.73s, valid_score: 0.010400] None\n",
      "Mon 08 May 2023 17:29:22 INFO  valid result: None\n",
      "precision@1 : 0.0116    precision@2 : 0.011    precision@5 : 0.0106    precision@7 : 0.0104    precision@10 : 0.01    recall@1 : 0.0002    recall@2 : 0.0003    recall@5 : 0.0008    recall@7 : 0.0011    recall@10 : 0.0014    ndcg@1 : 0.0116    ndcg@2 : 0.0111    ndcg@5 : 0.0108    ndcg@7 : 0.0106    ndcg@10 : 0.0104    map@1 : 0.0116    map@2 : 0.0092    map@5 : 0.0064    map@7 : 0.0055    map@10 : 0.0046 None\n",
      "Mon 08 May 2023 17:29:40 INFO  epoch 8 training [time: 17.77s, train loss: 89.7355] None\n",
      "Mon 08 May 2023 17:31:29 INFO  epoch 8 evaluating [time: 109.35s, valid_score: 0.010400] None\n",
      "Mon 08 May 2023 17:31:29 INFO  valid result: None\n",
      "precision@1 : 0.0124    precision@2 : 0.0115    precision@5 : 0.0107    precision@7 : 0.0103    precision@10 : 0.01    recall@1 : 0.0002    recall@2 : 0.0004    recall@5 : 0.0008    recall@7 : 0.0011    recall@10 : 0.0015    ndcg@1 : 0.0124    ndcg@2 : 0.0117    ndcg@5 : 0.011    ndcg@7 : 0.0107    ndcg@10 : 0.0104    map@1 : 0.0124    map@2 : 0.0097    map@5 : 0.0066    map@7 : 0.0056    map@10 : 0.0047 None\n",
      "Mon 08 May 2023 17:31:46 INFO  epoch 9 training [time: 17.34s, train loss: 81.8725] None\n",
      "Mon 08 May 2023 17:33:39 INFO  epoch 9 evaluating [time: 112.16s, valid_score: 0.010600] None\n",
      "Mon 08 May 2023 17:33:39 INFO  valid result: None\n",
      "precision@1 : 0.0127    precision@2 : 0.012    precision@5 : 0.0108    precision@7 : 0.0104    precision@10 : 0.0101    recall@1 : 0.0002    recall@2 : 0.0004    recall@5 : 0.0008    recall@7 : 0.0011    recall@10 : 0.0015    ndcg@1 : 0.0127    ndcg@2 : 0.0121    ndcg@5 : 0.0112    ndcg@7 : 0.0109    ndcg@10 : 0.0106    map@1 : 0.0127    map@2 : 0.0101    map@5 : 0.0067    map@7 : 0.0057    map@10 : 0.0048 None\n",
      "Mon 08 May 2023 17:33:39 INFO  Saving current: saved/BPR-May-08-2023_17-12-28.pth None\n",
      "Mon 08 May 2023 17:33:57 INFO  epoch 10 training [time: 17.96s, train loss: 75.3293] None\n",
      "Mon 08 May 2023 17:35:47 INFO  epoch 10 evaluating [time: 109.80s, valid_score: 0.011000] None\n",
      "Mon 08 May 2023 17:35:47 INFO  valid result: None\n",
      "precision@1 : 0.0132    precision@2 : 0.0127    precision@5 : 0.0114    precision@7 : 0.0109    precision@10 : 0.0104    recall@1 : 0.0002    recall@2 : 0.0004    recall@5 : 0.0009    recall@7 : 0.0011    recall@10 : 0.0016    ndcg@1 : 0.0132    ndcg@2 : 0.0128    ndcg@5 : 0.0118    ndcg@7 : 0.0114    ndcg@10 : 0.011    map@1 : 0.0132    map@2 : 0.0107    map@5 : 0.0071    map@7 : 0.006    map@10 : 0.005 None\n",
      "Mon 08 May 2023 17:35:47 INFO  Saving current: saved/BPR-May-08-2023_17-12-28.pth None\n",
      "Mon 08 May 2023 17:36:06 INFO  epoch 11 training [time: 18.45s, train loss: 68.8444] None\n",
      "Mon 08 May 2023 17:37:58 INFO  epoch 11 evaluating [time: 111.94s, valid_score: 0.010400] None\n",
      "Mon 08 May 2023 17:37:58 INFO  valid result: None\n",
      "precision@1 : 0.0124    precision@2 : 0.0119    precision@5 : 0.0108    precision@7 : 0.0104    precision@10 : 0.0098    recall@1 : 0.0002    recall@2 : 0.0004    recall@5 : 0.0008    recall@7 : 0.0011    recall@10 : 0.0014    ndcg@1 : 0.0124    ndcg@2 : 0.012    ndcg@5 : 0.0112    ndcg@7 : 0.0108    ndcg@10 : 0.0104    map@1 : 0.0124    map@2 : 0.01    map@5 : 0.0067    map@7 : 0.0057    map@10 : 0.0048 None\n",
      "Mon 08 May 2023 17:38:15 INFO  epoch 12 training [time: 17.78s, train loss: 64.0019] None\n",
      "Mon 08 May 2023 17:40:08 INFO  epoch 12 evaluating [time: 112.37s, valid_score: 0.010700] None\n",
      "Mon 08 May 2023 17:40:08 INFO  valid result: None\n",
      "precision@1 : 0.0128    precision@2 : 0.0122    precision@5 : 0.011    precision@7 : 0.0105    precision@10 : 0.0101    recall@1 : 0.0002    recall@2 : 0.0004    recall@5 : 0.0008    recall@7 : 0.0011    recall@10 : 0.0015    ndcg@1 : 0.0128    ndcg@2 : 0.0124    ndcg@5 : 0.0114    ndcg@7 : 0.011    ndcg@10 : 0.0107    map@1 : 0.0128    map@2 : 0.0103    map@5 : 0.007    map@7 : 0.0059    map@10 : 0.005 None\n",
      "Mon 08 May 2023 17:40:25 INFO  epoch 13 training [time: 17.22s, train loss: 59.9254] None\n",
      "Mon 08 May 2023 17:42:14 INFO  epoch 13 evaluating [time: 109.10s, valid_score: 0.011600] None\n",
      "Mon 08 May 2023 17:42:14 INFO  valid result: None\n",
      "precision@1 : 0.0144    precision@2 : 0.0135    precision@5 : 0.0119    precision@7 : 0.0113    precision@10 : 0.0109    recall@1 : 0.0002    recall@2 : 0.0004    recall@5 : 0.0009    recall@7 : 0.0012    recall@10 : 0.0016    ndcg@1 : 0.0144    ndcg@2 : 0.0137    ndcg@5 : 0.0124    ndcg@7 : 0.0119    ndcg@10 : 0.0116    map@1 : 0.0144    map@2 : 0.0115    map@5 : 0.0076    map@7 : 0.0064    map@10 : 0.0054 None\n",
      "Mon 08 May 2023 17:42:15 INFO  Saving current: saved/BPR-May-08-2023_17-12-28.pth None\n",
      "Mon 08 May 2023 17:42:33 INFO  epoch 14 training [time: 18.34s, train loss: 56.3205] None\n",
      "Mon 08 May 2023 17:44:23 INFO  epoch 14 evaluating [time: 110.53s, valid_score: 0.011100] None\n",
      "Mon 08 May 2023 17:44:23 INFO  valid result: None\n",
      "precision@1 : 0.0139    precision@2 : 0.0128    precision@5 : 0.0115    precision@7 : 0.011    precision@10 : 0.0104    recall@1 : 0.0002    recall@2 : 0.0004    recall@5 : 0.0009    recall@7 : 0.0012    recall@10 : 0.0016    ndcg@1 : 0.0139    ndcg@2 : 0.0131    ndcg@5 : 0.012    ndcg@7 : 0.0116    ndcg@10 : 0.0111    map@1 : 0.0139    map@2 : 0.0109    map@5 : 0.0074    map@7 : 0.0063    map@10 : 0.0052 None\n",
      "Mon 08 May 2023 17:44:41 INFO  epoch 15 training [time: 17.31s, train loss: 53.4410] None\n",
      "Mon 08 May 2023 17:46:32 INFO  epoch 15 evaluating [time: 111.11s, valid_score: 0.011600] None\n",
      "Mon 08 May 2023 17:46:32 INFO  valid result: None\n",
      "precision@1 : 0.0144    precision@2 : 0.014    precision@5 : 0.0121    precision@7 : 0.0114    precision@10 : 0.0108    recall@1 : 0.0002    recall@2 : 0.0004    recall@5 : 0.0009    recall@7 : 0.0012    recall@10 : 0.0016    ndcg@1 : 0.0144    ndcg@2 : 0.0141    ndcg@5 : 0.0126    ndcg@7 : 0.0121    ndcg@10 : 0.0116    map@1 : 0.0144    map@2 : 0.0118    map@5 : 0.0078    map@7 : 0.0066    map@10 : 0.0055 None\n",
      "Mon 08 May 2023 17:46:32 INFO  Saving current: saved/BPR-May-08-2023_17-12-28.pth None\n",
      "Mon 08 May 2023 17:46:50 INFO  epoch 16 training [time: 17.31s, train loss: 50.5307] None\n",
      "Mon 08 May 2023 17:48:37 INFO  epoch 16 evaluating [time: 107.52s, valid_score: 0.011400] None\n",
      "Mon 08 May 2023 17:48:37 INFO  valid result: None\n",
      "precision@1 : 0.0146    precision@2 : 0.0132    precision@5 : 0.0119    precision@7 : 0.0113    precision@10 : 0.0107    recall@1 : 0.0002    recall@2 : 0.0004    recall@5 : 0.0009    recall@7 : 0.0012    recall@10 : 0.0016    ndcg@1 : 0.0146    ndcg@2 : 0.0135    ndcg@5 : 0.0125    ndcg@7 : 0.0119    ndcg@10 : 0.0114    map@1 : 0.0146    map@2 : 0.0114    map@5 : 0.0077    map@7 : 0.0065    map@10 : 0.0054 None\n",
      "Mon 08 May 2023 17:48:54 INFO  epoch 17 training [time: 17.04s, train loss: 48.1133] None\n",
      "Mon 08 May 2023 17:50:44 INFO  epoch 17 evaluating [time: 109.66s, valid_score: 0.011300] None\n",
      "Mon 08 May 2023 17:50:44 INFO  valid result: None\n",
      "precision@1 : 0.0142    precision@2 : 0.0132    precision@5 : 0.0117    precision@7 : 0.011    precision@10 : 0.0105    recall@1 : 0.0002    recall@2 : 0.0004    recall@5 : 0.0009    recall@7 : 0.0011    recall@10 : 0.0015    ndcg@1 : 0.0142    ndcg@2 : 0.0134    ndcg@5 : 0.0122    ndcg@7 : 0.0117    ndcg@10 : 0.0113    map@1 : 0.0142    map@2 : 0.0113    map@5 : 0.0076    map@7 : 0.0064    map@10 : 0.0053 None\n",
      "Mon 08 May 2023 17:51:01 INFO  epoch 18 training [time: 17.37s, train loss: 46.2719] None\n",
      "Mon 08 May 2023 17:52:49 INFO  epoch 18 evaluating [time: 107.73s, valid_score: 0.011400] None\n",
      "Mon 08 May 2023 17:52:49 INFO  valid result: None\n",
      "precision@1 : 0.0144    precision@2 : 0.0135    precision@5 : 0.0118    precision@7 : 0.0112    precision@10 : 0.0106    recall@1 : 0.0002    recall@2 : 0.0004    recall@5 : 0.0009    recall@7 : 0.0011    recall@10 : 0.0016    ndcg@1 : 0.0144    ndcg@2 : 0.0137    ndcg@5 : 0.0123    ndcg@7 : 0.0119    ndcg@10 : 0.0114    map@1 : 0.0144    map@2 : 0.0116    map@5 : 0.0077    map@7 : 0.0065    map@10 : 0.0054 None\n",
      "Mon 08 May 2023 17:53:06 INFO  epoch 19 training [time: 17.46s, train loss: 44.2296] None\n",
      "Mon 08 May 2023 17:54:58 INFO  epoch 19 evaluating [time: 111.20s, valid_score: 0.011100] None\n",
      "Mon 08 May 2023 17:54:58 INFO  valid result: None\n",
      "precision@1 : 0.0143    precision@2 : 0.0135    precision@5 : 0.0115    precision@7 : 0.0109    precision@10 : 0.0103    recall@1 : 0.0002    recall@2 : 0.0004    recall@5 : 0.0008    recall@7 : 0.0011    recall@10 : 0.0015    ndcg@1 : 0.0143    ndcg@2 : 0.0137    ndcg@5 : 0.0121    ndcg@7 : 0.0116    ndcg@10 : 0.0111    map@1 : 0.0143    map@2 : 0.0115    map@5 : 0.0076    map@7 : 0.0064    map@10 : 0.0053 None\n",
      "Mon 08 May 2023 17:55:15 INFO  epoch 20 training [time: 17.08s, train loss: 42.3939] None\n",
      "Mon 08 May 2023 17:57:03 INFO  epoch 20 evaluating [time: 107.85s, valid_score: 0.011200] None\n",
      "Mon 08 May 2023 17:57:03 INFO  valid result: None\n",
      "precision@1 : 0.0144    precision@2 : 0.0136    precision@5 : 0.0116    precision@7 : 0.011    precision@10 : 0.0104    recall@1 : 0.0002    recall@2 : 0.0004    recall@5 : 0.0009    recall@7 : 0.0011    recall@10 : 0.0015    ndcg@1 : 0.0144    ndcg@2 : 0.0138    ndcg@5 : 0.0123    ndcg@7 : 0.0117    ndcg@10 : 0.0112    map@1 : 0.0144    map@2 : 0.0116    map@5 : 0.0077    map@7 : 0.0065    map@10 : 0.0054 None\n",
      "Mon 08 May 2023 17:57:20 INFO  epoch 21 training [time: 17.10s, train loss: 40.9576] None\n",
      "Mon 08 May 2023 17:59:10 INFO  epoch 21 evaluating [time: 110.57s, valid_score: 0.011400] None\n",
      "Mon 08 May 2023 17:59:10 INFO  valid result: None\n",
      "precision@1 : 0.0147    precision@2 : 0.0136    precision@5 : 0.0119    precision@7 : 0.0113    precision@10 : 0.0106    recall@1 : 0.0002    recall@2 : 0.0004    recall@5 : 0.0009    recall@7 : 0.0011    recall@10 : 0.0015    ndcg@1 : 0.0147    ndcg@2 : 0.0138    ndcg@5 : 0.0125    ndcg@7 : 0.012    ndcg@10 : 0.0114    map@1 : 0.0147    map@2 : 0.0116    map@5 : 0.0078    map@7 : 0.0066    map@10 : 0.0055 None\n",
      "Mon 08 May 2023 17:59:27 INFO  epoch 22 training [time: 16.89s, train loss: 39.8288] None\n",
      "Mon 08 May 2023 18:01:17 INFO  epoch 22 evaluating [time: 110.22s, valid_score: 0.011300] None\n",
      "Mon 08 May 2023 18:01:17 INFO  valid result: None\n",
      "precision@1 : 0.0149    precision@2 : 0.0138    precision@5 : 0.0118    precision@7 : 0.0111    precision@10 : 0.0105    recall@1 : 0.0002    recall@2 : 0.0004    recall@5 : 0.0008    recall@7 : 0.0011    recall@10 : 0.0015    ndcg@1 : 0.0149    ndcg@2 : 0.014    ndcg@5 : 0.0124    ndcg@7 : 0.0119    ndcg@10 : 0.0113    map@1 : 0.0149    map@2 : 0.0118    map@5 : 0.0078    map@7 : 0.0066    map@10 : 0.0055 None\n",
      "Mon 08 May 2023 18:01:36 INFO  epoch 23 training [time: 18.34s, train loss: 38.4034] None\n",
      "Mon 08 May 2023 18:03:25 INFO  epoch 23 evaluating [time: 109.56s, valid_score: 0.011300] None\n",
      "Mon 08 May 2023 18:03:25 INFO  valid result: None\n",
      "precision@1 : 0.0147    precision@2 : 0.0137    precision@5 : 0.0117    precision@7 : 0.011    precision@10 : 0.0104    recall@1 : 0.0002    recall@2 : 0.0004    recall@5 : 0.0008    recall@7 : 0.0011    recall@10 : 0.0015    ndcg@1 : 0.0147    ndcg@2 : 0.0139    ndcg@5 : 0.0123    ndcg@7 : 0.0118    ndcg@10 : 0.0113    map@1 : 0.0147    map@2 : 0.0117    map@5 : 0.0078    map@7 : 0.0066    map@10 : 0.0055 None\n",
      "Mon 08 May 2023 18:03:43 INFO  epoch 24 training [time: 17.34s, train loss: 37.6184] None\n",
      "Mon 08 May 2023 18:05:34 INFO  epoch 24 evaluating [time: 111.42s, valid_score: 0.011600] None\n",
      "Mon 08 May 2023 18:05:34 INFO  valid result: None\n",
      "precision@1 : 0.0154    precision@2 : 0.0141    precision@5 : 0.0121    precision@7 : 0.0114    precision@10 : 0.0107    recall@1 : 0.0002    recall@2 : 0.0004    recall@5 : 0.0009    recall@7 : 0.0011    recall@10 : 0.0015    ndcg@1 : 0.0154    ndcg@2 : 0.0144    ndcg@5 : 0.0128    ndcg@7 : 0.0122    ndcg@10 : 0.0116    map@1 : 0.0154    map@2 : 0.0122    map@5 : 0.0081    map@7 : 0.0068    map@10 : 0.0056 None\n",
      "Mon 08 May 2023 18:05:34 INFO  Saving current: saved/BPR-May-08-2023_17-12-28.pth None\n",
      "Mon 08 May 2023 18:05:52 INFO  epoch 25 training [time: 17.47s, train loss: 36.0491] None\n",
      "Mon 08 May 2023 18:07:40 INFO  epoch 25 evaluating [time: 108.64s, valid_score: 0.011200] None\n",
      "Mon 08 May 2023 18:07:40 INFO  valid result: None\n",
      "precision@1 : 0.015    precision@2 : 0.0138    precision@5 : 0.0119    precision@7 : 0.0111    precision@10 : 0.0103    recall@1 : 0.0002    recall@2 : 0.0004    recall@5 : 0.0008    recall@7 : 0.0011    recall@10 : 0.0015    ndcg@1 : 0.015    ndcg@2 : 0.014    ndcg@5 : 0.0125    ndcg@7 : 0.0119    ndcg@10 : 0.0112    map@1 : 0.015    map@2 : 0.0119    map@5 : 0.0079    map@7 : 0.0067    map@10 : 0.0055 None\n",
      "Mon 08 May 2023 18:07:58 INFO  epoch 26 training [time: 17.39s, train loss: 35.3005] None\n",
      "Mon 08 May 2023 18:09:50 INFO  epoch 26 evaluating [time: 112.37s, valid_score: 0.011500] None\n",
      "Mon 08 May 2023 18:09:50 INFO  valid result: None\n",
      "precision@1 : 0.0156    precision@2 : 0.014    precision@5 : 0.0119    precision@7 : 0.0113    precision@10 : 0.0105    recall@1 : 0.0002    recall@2 : 0.0004    recall@5 : 0.0009    recall@7 : 0.0011    recall@10 : 0.0015    ndcg@1 : 0.0156    ndcg@2 : 0.0144    ndcg@5 : 0.0127    ndcg@7 : 0.0121    ndcg@10 : 0.0115    map@1 : 0.0156    map@2 : 0.0122    map@5 : 0.0081    map@7 : 0.0068    map@10 : 0.0057 None\n",
      "Mon 08 May 2023 18:10:07 INFO  epoch 27 training [time: 17.23s, train loss: 34.0502] None\n",
      "Mon 08 May 2023 18:12:01 INFO  epoch 27 evaluating [time: 113.65s, valid_score: 0.011100] None\n",
      "Mon 08 May 2023 18:12:01 INFO  valid result: None\n",
      "precision@1 : 0.0148    precision@2 : 0.0134    precision@5 : 0.0116    precision@7 : 0.0109    precision@10 : 0.0102    recall@1 : 0.0002    recall@2 : 0.0004    recall@5 : 0.0008    recall@7 : 0.0011    recall@10 : 0.0014    ndcg@1 : 0.0148    ndcg@2 : 0.0137    ndcg@5 : 0.0122    ndcg@7 : 0.0117    ndcg@10 : 0.0111    map@1 : 0.0148    map@2 : 0.0116    map@5 : 0.0078    map@7 : 0.0066    map@10 : 0.0054 None\n",
      "Mon 08 May 2023 18:12:19 INFO  epoch 28 training [time: 17.86s, train loss: 33.5601] None\n"
     ]
    }
   ],
   "source": [
    "parse_log('log_example.log')"
   ]
  },
  {
   "cell_type": "code",
   "execution_count": 1,
   "metadata": {},
   "outputs": [],
   "source": [
    "import pandas as pd"
   ]
  },
  {
   "cell_type": "code",
   "execution_count": 4,
   "metadata": {},
   "outputs": [],
   "source": [
    "df= pd.read_csv('data/preprocessed/mind_small/mind_small.train.inter', sep='\\t')"
   ]
  },
  {
   "cell_type": "code",
   "execution_count": null,
   "metadata": {},
   "outputs": [],
   "source": []
  }
 ],
 "metadata": {
  "kernelspec": {
   "display_name": "Python 3",
   "language": "python",
   "name": "python3"
  },
  "language_info": {
   "codemirror_mode": {
    "name": "ipython",
    "version": 3
   },
   "file_extension": ".py",
   "mimetype": "text/x-python",
   "name": "python",
   "nbconvert_exporter": "python",
   "pygments_lexer": "ipython3",
   "version": "3.10.8"
  },
  "orig_nbformat": 4
 },
 "nbformat": 4,
 "nbformat_minor": 2
}
